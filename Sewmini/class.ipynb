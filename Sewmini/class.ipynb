{
 "cells": [
  {
   "cell_type": "code",
   "execution_count": 124,
   "id": "05f0063e",
   "metadata": {},
   "outputs": [],
   "source": [
    "import numpy as np\n",
    "import pandas as pd\n",
    "import matplotlib.pyplot as plt\n",
    "import seaborn as sns"
   ]
  },
  {
   "cell_type": "code",
   "execution_count": 125,
   "id": "3de7a96e",
   "metadata": {},
   "outputs": [],
   "source": [
    "data = pd.read_csv('class.csv', encoding='latin-1')"
   ]
  },
  {
   "cell_type": "code",
   "execution_count": 126,
   "id": "00879510",
   "metadata": {},
   "outputs": [
    {
     "data": {
      "text/html": [
       "<div>\n",
       "<style scoped>\n",
       "    .dataframe tbody tr th:only-of-type {\n",
       "        vertical-align: middle;\n",
       "    }\n",
       "\n",
       "    .dataframe tbody tr th {\n",
       "        vertical-align: top;\n",
       "    }\n",
       "\n",
       "    .dataframe thead th {\n",
       "        text-align: right;\n",
       "    }\n",
       "</style>\n",
       "<table border=\"1\" class=\"dataframe\">\n",
       "  <thead>\n",
       "    <tr style=\"text-align: right;\">\n",
       "      <th></th>\n",
       "      <th>Subject Name</th>\n",
       "      <th>Province</th>\n",
       "      <th>A/L Year</th>\n",
       "      <th>Result</th>\n",
       "    </tr>\n",
       "  </thead>\n",
       "  <tbody>\n",
       "    <tr>\n",
       "      <th>0</th>\n",
       "      <td>Biology</td>\n",
       "      <td>Westen province</td>\n",
       "      <td>2023/2024</td>\n",
       "      <td>Thissa Jananayaka</td>\n",
       "    </tr>\n",
       "    <tr>\n",
       "      <th>1</th>\n",
       "      <td>Biology</td>\n",
       "      <td>Central Province</td>\n",
       "      <td>2023/2024</td>\n",
       "      <td>Neeth Jayasundara</td>\n",
       "    </tr>\n",
       "    <tr>\n",
       "      <th>2</th>\n",
       "      <td>Biology</td>\n",
       "      <td>Southern Province</td>\n",
       "      <td>2023/2024</td>\n",
       "      <td>Thissa Jananayaka</td>\n",
       "    </tr>\n",
       "    <tr>\n",
       "      <th>3</th>\n",
       "      <td>Biology</td>\n",
       "      <td>Uva Province</td>\n",
       "      <td>2023/2024</td>\n",
       "      <td>Chinthana Weerakon</td>\n",
       "    </tr>\n",
       "    <tr>\n",
       "      <th>4</th>\n",
       "      <td>Biology</td>\n",
       "      <td>North Western Province</td>\n",
       "      <td>2023/2024</td>\n",
       "      <td>Chinthana Weerakon</td>\n",
       "    </tr>\n",
       "    <tr>\n",
       "      <th>...</th>\n",
       "      <td>...</td>\n",
       "      <td>...</td>\n",
       "      <td>...</td>\n",
       "      <td>...</td>\n",
       "    </tr>\n",
       "    <tr>\n",
       "      <th>120</th>\n",
       "      <td>Combined Maths</td>\n",
       "      <td>Sabaragamuwa Province</td>\n",
       "      <td>2025/2026</td>\n",
       "      <td>Kasun Devinda</td>\n",
       "    </tr>\n",
       "    <tr>\n",
       "      <th>121</th>\n",
       "      <td>Combined Maths</td>\n",
       "      <td>North Central Province</td>\n",
       "      <td>2025/2026</td>\n",
       "      <td>Kasun Devinda</td>\n",
       "    </tr>\n",
       "    <tr>\n",
       "      <th>122</th>\n",
       "      <td>Combined Maths</td>\n",
       "      <td>Southern Province</td>\n",
       "      <td>2025/2026</td>\n",
       "      <td>Janaka Abewardana</td>\n",
       "    </tr>\n",
       "    <tr>\n",
       "      <th>123</th>\n",
       "      <td>Combined Maths</td>\n",
       "      <td>Southern Province</td>\n",
       "      <td>2025/2026</td>\n",
       "      <td>Wije Widanapathirana</td>\n",
       "    </tr>\n",
       "    <tr>\n",
       "      <th>124</th>\n",
       "      <td>Combined Maths</td>\n",
       "      <td>Southern Province</td>\n",
       "      <td>2025/2026</td>\n",
       "      <td>Gihan Chamindu</td>\n",
       "    </tr>\n",
       "  </tbody>\n",
       "</table>\n",
       "<p>125 rows × 4 columns</p>\n",
       "</div>"
      ],
      "text/plain": [
       "       Subject Name                Province   A/L Year                Result\n",
       "0           Biology         Westen province  2023/2024     Thissa Jananayaka\n",
       "1           Biology        Central Province  2023/2024     Neeth Jayasundara\n",
       "2           Biology       Southern Province  2023/2024     Thissa Jananayaka\n",
       "3           Biology            Uva Province  2023/2024    Chinthana Weerakon\n",
       "4           Biology  North Western Province  2023/2024    Chinthana Weerakon\n",
       "..              ...                     ...        ...                   ...\n",
       "120  Combined Maths   Sabaragamuwa Province  2025/2026         Kasun Devinda\n",
       "121  Combined Maths  North Central Province  2025/2026         Kasun Devinda\n",
       "122  Combined Maths       Southern Province  2025/2026     Janaka Abewardana\n",
       "123  Combined Maths       Southern Province  2025/2026  Wije Widanapathirana\n",
       "124  Combined Maths       Southern Province  2025/2026        Gihan Chamindu\n",
       "\n",
       "[125 rows x 4 columns]"
      ]
     },
     "execution_count": 126,
     "metadata": {},
     "output_type": "execute_result"
    }
   ],
   "source": [
    "data"
   ]
  },
  {
   "cell_type": "code",
   "execution_count": 127,
   "id": "ace0d0a0",
   "metadata": {},
   "outputs": [
    {
     "data": {
      "text/plain": [
       "<Axes: >"
      ]
     },
     "execution_count": 127,
     "metadata": {},
     "output_type": "execute_result"
    },
    {
     "data": {
      "image/png": "[encoded data removed]",
      "text/plain": [
       "<Figure size 1600x500 with 2 Axes>"
      ]
     },
     "metadata": {},
     "output_type": "display_data"
    }
   ],
   "source": [
    "sns.heatmap(data.isnull(),yticklabels=False, cmap=\"viridis\")"
   ]
  },
  {
   "cell_type": "code",
   "execution_count": 128,
   "id": "feafa651",
   "metadata": {},
   "outputs": [
    {
     "data": {
      "text/plain": [
       "Combined Maths    38\n",
       "Chemistry         33\n",
       "Biology           27\n",
       "Physics           27\n",
       "Name: Subject Name, dtype: int64"
      ]
     },
     "execution_count": 128,
     "metadata": {},
     "output_type": "execute_result"
    }
   ],
   "source": [
    "data['Subject Name'].value_counts()"
   ]
  },
  {
   "cell_type": "code",
   "execution_count": 129,
   "id": "16783e9f",
   "metadata": {},
   "outputs": [],
   "source": [
    "def sub(value):\n",
    "    if value==\"Combined Maths\":\n",
    "        res=1\n",
    "    elif value==\"Chemistry\":\n",
    "        res=2\n",
    "    elif value==\"Biology\":\n",
    "        res=3\n",
    "    elif value==\"Physics\":\n",
    "        res=4\n",
    "        \n",
    "    return res"
   ]
  },
  {
   "cell_type": "code",
   "execution_count": 130,
   "id": "57176333",
   "metadata": {},
   "outputs": [],
   "source": [
    "data['Subject Name'] = data['Subject Name'].apply(sub)"
   ]
  },
  {
   "cell_type": "code",
   "execution_count": 131,
   "id": "dfdfeb27",
   "metadata": {},
   "outputs": [
    {
     "data": {
      "text/html": [
       "<div>\n",
       "<style scoped>\n",
       "    .dataframe tbody tr th:only-of-type {\n",
       "        vertical-align: middle;\n",
       "    }\n",
       "\n",
       "    .dataframe tbody tr th {\n",
       "        vertical-align: top;\n",
       "    }\n",
       "\n",
       "    .dataframe thead th {\n",
       "        text-align: right;\n",
       "    }\n",
       "</style>\n",
       "<table border=\"1\" class=\"dataframe\">\n",
       "  <thead>\n",
       "    <tr style=\"text-align: right;\">\n",
       "      <th></th>\n",
       "      <th>Subject Name</th>\n",
       "      <th>Province</th>\n",
       "      <th>A/L Year</th>\n",
       "      <th>Result</th>\n",
       "    </tr>\n",
       "  </thead>\n",
       "  <tbody>\n",
       "    <tr>\n",
       "      <th>0</th>\n",
       "      <td>3</td>\n",
       "      <td>Westen province</td>\n",
       "      <td>2023/2024</td>\n",
       "      <td>Thissa Jananayaka</td>\n",
       "    </tr>\n",
       "    <tr>\n",
       "      <th>1</th>\n",
       "      <td>3</td>\n",
       "      <td>Central Province</td>\n",
       "      <td>2023/2024</td>\n",
       "      <td>Neeth Jayasundara</td>\n",
       "    </tr>\n",
       "    <tr>\n",
       "      <th>2</th>\n",
       "      <td>3</td>\n",
       "      <td>Southern Province</td>\n",
       "      <td>2023/2024</td>\n",
       "      <td>Thissa Jananayaka</td>\n",
       "    </tr>\n",
       "    <tr>\n",
       "      <th>3</th>\n",
       "      <td>3</td>\n",
       "      <td>Uva Province</td>\n",
       "      <td>2023/2024</td>\n",
       "      <td>Chinthana Weerakon</td>\n",
       "    </tr>\n",
       "    <tr>\n",
       "      <th>4</th>\n",
       "      <td>3</td>\n",
       "      <td>North Western Province</td>\n",
       "      <td>2023/2024</td>\n",
       "      <td>Chinthana Weerakon</td>\n",
       "    </tr>\n",
       "    <tr>\n",
       "      <th>...</th>\n",
       "      <td>...</td>\n",
       "      <td>...</td>\n",
       "      <td>...</td>\n",
       "      <td>...</td>\n",
       "    </tr>\n",
       "    <tr>\n",
       "      <th>120</th>\n",
       "      <td>1</td>\n",
       "      <td>Sabaragamuwa Province</td>\n",
       "      <td>2025/2026</td>\n",
       "      <td>Kasun Devinda</td>\n",
       "    </tr>\n",
       "    <tr>\n",
       "      <th>121</th>\n",
       "      <td>1</td>\n",
       "      <td>North Central Province</td>\n",
       "      <td>2025/2026</td>\n",
       "      <td>Kasun Devinda</td>\n",
       "    </tr>\n",
       "    <tr>\n",
       "      <th>122</th>\n",
       "      <td>1</td>\n",
       "      <td>Southern Province</td>\n",
       "      <td>2025/2026</td>\n",
       "      <td>Janaka Abewardana</td>\n",
       "    </tr>\n",
       "    <tr>\n",
       "      <th>123</th>\n",
       "      <td>1</td>\n",
       "      <td>Southern Province</td>\n",
       "      <td>2025/2026</td>\n",
       "      <td>Wije Widanapathirana</td>\n",
       "    </tr>\n",
       "    <tr>\n",
       "      <th>124</th>\n",
       "      <td>1</td>\n",
       "      <td>Southern Province</td>\n",
       "      <td>2025/2026</td>\n",
       "      <td>Gihan Chamindu</td>\n",
       "    </tr>\n",
       "  </tbody>\n",
       "</table>\n",
       "<p>125 rows × 4 columns</p>\n",
       "</div>"
      ],
      "text/plain": [
       "     Subject Name                Province   A/L Year                Result\n",
       "0               3         Westen province  2023/2024     Thissa Jananayaka\n",
       "1               3        Central Province  2023/2024     Neeth Jayasundara\n",
       "2               3       Southern Province  2023/2024     Thissa Jananayaka\n",
       "3               3            Uva Province  2023/2024    Chinthana Weerakon\n",
       "4               3  North Western Province  2023/2024    Chinthana Weerakon\n",
       "..            ...                     ...        ...                   ...\n",
       "120             1   Sabaragamuwa Province  2025/2026         Kasun Devinda\n",
       "121             1  North Central Province  2025/2026         Kasun Devinda\n",
       "122             1       Southern Province  2025/2026     Janaka Abewardana\n",
       "123             1       Southern Province  2025/2026  Wije Widanapathirana\n",
       "124             1       Southern Province  2025/2026        Gihan Chamindu\n",
       "\n",
       "[125 rows x 4 columns]"
      ]
     },
     "execution_count": 131,
     "metadata": {},
     "output_type": "execute_result"
    }
   ],
   "source": [
    "data"
   ]
  },
  {
   "cell_type": "code",
   "execution_count": 132,
   "id": "589793ef",
   "metadata": {},
   "outputs": [
    {
     "data": {
      "text/plain": [
       "Southern Province         20\n",
       "Westen province           15\n",
       "Central Province          15\n",
       "North Western Province    15\n",
       "Uva Province              12\n",
       "Northern Province         12\n",
       "Eastern Province          12\n",
       "Sabaragamuwa Province     12\n",
       "North Central Province    12\n",
       "Name: Province, dtype: int64"
      ]
     },
     "execution_count": 132,
     "metadata": {},
     "output_type": "execute_result"
    }
   ],
   "source": [
    "data['Province'].value_counts()"
   ]
  },
  {
   "cell_type": "code",
   "execution_count": 133,
   "id": "8c14acd3",
   "metadata": {},
   "outputs": [],
   "source": [
    "def Province(value):\n",
    "    if value==\"Westen province\":\n",
    "        res=1\n",
    "    elif value==\"Southern Province\":\n",
    "        res=2\n",
    "    elif value==\"Central Province\":\n",
    "        res=3\n",
    "    elif value==\"North Western Province\":\n",
    "        res=4\n",
    "    elif value==\"Uva Province\":\n",
    "        res=5\n",
    "    elif value==\"Northern Province\":\n",
    "        res=6\n",
    "    elif value==\"Eastern Province\":\n",
    "        res=7\n",
    "    elif value==\"Sabaragamuwa Province\":\n",
    "        res=8\n",
    "    elif value==\"North Central Province\":\n",
    "        res=9\n",
    "        \n",
    "    return res"
   ]
  },
  {
   "cell_type": "code",
   "execution_count": 134,
   "id": "04048023",
   "metadata": {},
   "outputs": [],
   "source": [
    "data['Province'] = data['Province'].apply(Province)"
   ]
  },
  {
   "cell_type": "code",
   "execution_count": 135,
   "id": "361aea16",
   "metadata": {},
   "outputs": [
    {
     "data": {
      "text/html": [
       "<div>\n",
       "<style scoped>\n",
       "    .dataframe tbody tr th:only-of-type {\n",
       "        vertical-align: middle;\n",
       "    }\n",
       "\n",
       "    .dataframe tbody tr th {\n",
       "        vertical-align: top;\n",
       "    }\n",
       "\n",
       "    .dataframe thead th {\n",
       "        text-align: right;\n",
       "    }\n",
       "</style>\n",
       "<table border=\"1\" class=\"dataframe\">\n",
       "  <thead>\n",
       "    <tr style=\"text-align: right;\">\n",
       "      <th></th>\n",
       "      <th>Subject Name</th>\n",
       "      <th>Province</th>\n",
       "      <th>A/L Year</th>\n",
       "      <th>Result</th>\n",
       "    </tr>\n",
       "  </thead>\n",
       "  <tbody>\n",
       "    <tr>\n",
       "      <th>0</th>\n",
       "      <td>3</td>\n",
       "      <td>1</td>\n",
       "      <td>2023/2024</td>\n",
       "      <td>Thissa Jananayaka</td>\n",
       "    </tr>\n",
       "    <tr>\n",
       "      <th>1</th>\n",
       "      <td>3</td>\n",
       "      <td>3</td>\n",
       "      <td>2023/2024</td>\n",
       "      <td>Neeth Jayasundara</td>\n",
       "    </tr>\n",
       "    <tr>\n",
       "      <th>2</th>\n",
       "      <td>3</td>\n",
       "      <td>2</td>\n",
       "      <td>2023/2024</td>\n",
       "      <td>Thissa Jananayaka</td>\n",
       "    </tr>\n",
       "    <tr>\n",
       "      <th>3</th>\n",
       "      <td>3</td>\n",
       "      <td>5</td>\n",
       "      <td>2023/2024</td>\n",
       "      <td>Chinthana Weerakon</td>\n",
       "    </tr>\n",
       "    <tr>\n",
       "      <th>4</th>\n",
       "      <td>3</td>\n",
       "      <td>4</td>\n",
       "      <td>2023/2024</td>\n",
       "      <td>Chinthana Weerakon</td>\n",
       "    </tr>\n",
       "    <tr>\n",
       "      <th>...</th>\n",
       "      <td>...</td>\n",
       "      <td>...</td>\n",
       "      <td>...</td>\n",
       "      <td>...</td>\n",
       "    </tr>\n",
       "    <tr>\n",
       "      <th>120</th>\n",
       "      <td>1</td>\n",
       "      <td>8</td>\n",
       "      <td>2025/2026</td>\n",
       "      <td>Kasun Devinda</td>\n",
       "    </tr>\n",
       "    <tr>\n",
       "      <th>121</th>\n",
       "      <td>1</td>\n",
       "      <td>9</td>\n",
       "      <td>2025/2026</td>\n",
       "      <td>Kasun Devinda</td>\n",
       "    </tr>\n",
       "    <tr>\n",
       "      <th>122</th>\n",
       "      <td>1</td>\n",
       "      <td>2</td>\n",
       "      <td>2025/2026</td>\n",
       "      <td>Janaka Abewardana</td>\n",
       "    </tr>\n",
       "    <tr>\n",
       "      <th>123</th>\n",
       "      <td>1</td>\n",
       "      <td>2</td>\n",
       "      <td>2025/2026</td>\n",
       "      <td>Wije Widanapathirana</td>\n",
       "    </tr>\n",
       "    <tr>\n",
       "      <th>124</th>\n",
       "      <td>1</td>\n",
       "      <td>2</td>\n",
       "      <td>2025/2026</td>\n",
       "      <td>Gihan Chamindu</td>\n",
       "    </tr>\n",
       "  </tbody>\n",
       "</table>\n",
       "<p>125 rows × 4 columns</p>\n",
       "</div>"
      ],
      "text/plain": [
       "     Subject Name  Province   A/L Year                Result\n",
       "0               3         1  2023/2024     Thissa Jananayaka\n",
       "1               3         3  2023/2024     Neeth Jayasundara\n",
       "2               3         2  2023/2024     Thissa Jananayaka\n",
       "3               3         5  2023/2024    Chinthana Weerakon\n",
       "4               3         4  2023/2024    Chinthana Weerakon\n",
       "..            ...       ...        ...                   ...\n",
       "120             1         8  2025/2026         Kasun Devinda\n",
       "121             1         9  2025/2026         Kasun Devinda\n",
       "122             1         2  2025/2026     Janaka Abewardana\n",
       "123             1         2  2025/2026  Wije Widanapathirana\n",
       "124             1         2  2025/2026        Gihan Chamindu\n",
       "\n",
       "[125 rows x 4 columns]"
      ]
     },
     "execution_count": 135,
     "metadata": {},
     "output_type": "execute_result"
    }
   ],
   "source": [
    "data"
   ]
  },
  {
   "cell_type": "code",
   "execution_count": 136,
   "id": "adc878f0",
   "metadata": {},
   "outputs": [
    {
     "data": {
      "text/plain": [
       "2023/2024    42\n",
       "2025/2026    42\n",
       "2024/2025    41\n",
       "Name: A/L Year, dtype: int64"
      ]
     },
     "execution_count": 136,
     "metadata": {},
     "output_type": "execute_result"
    }
   ],
   "source": [
    "data['A/L Year'].value_counts()"
   ]
  },
  {
   "cell_type": "code",
   "execution_count": 137,
   "id": "8b68eae0",
   "metadata": {},
   "outputs": [],
   "source": [
    "def al(value):\n",
    "    if value==\"2023/2024\":\n",
    "        res=1\n",
    "    elif value==\"2025/2026\":\n",
    "        res=2\n",
    "    elif value==\"2024/2025\":\n",
    "        res=3\n",
    "        \n",
    "    return res"
   ]
  },
  {
   "cell_type": "code",
   "execution_count": 138,
   "id": "5b7558fa",
   "metadata": {},
   "outputs": [],
   "source": [
    "data['A/L Year'] = data['A/L Year'].apply(al)"
   ]
  },
  {
   "cell_type": "code",
   "execution_count": 139,
   "id": "bd4c3cc9",
   "metadata": {},
   "outputs": [
    {
     "data": {
      "text/html": [
       "<div>\n",
       "<style scoped>\n",
       "    .dataframe tbody tr th:only-of-type {\n",
       "        vertical-align: middle;\n",
       "    }\n",
       "\n",
       "    .dataframe tbody tr th {\n",
       "        vertical-align: top;\n",
       "    }\n",
       "\n",
       "    .dataframe thead th {\n",
       "        text-align: right;\n",
       "    }\n",
       "</style>\n",
       "<table border=\"1\" class=\"dataframe\">\n",
       "  <thead>\n",
       "    <tr style=\"text-align: right;\">\n",
       "      <th></th>\n",
       "      <th>Subject Name</th>\n",
       "      <th>Province</th>\n",
       "      <th>A/L Year</th>\n",
       "      <th>Result</th>\n",
       "    </tr>\n",
       "  </thead>\n",
       "  <tbody>\n",
       "    <tr>\n",
       "      <th>0</th>\n",
       "      <td>3</td>\n",
       "      <td>1</td>\n",
       "      <td>1</td>\n",
       "      <td>Thissa Jananayaka</td>\n",
       "    </tr>\n",
       "    <tr>\n",
       "      <th>1</th>\n",
       "      <td>3</td>\n",
       "      <td>3</td>\n",
       "      <td>1</td>\n",
       "      <td>Neeth Jayasundara</td>\n",
       "    </tr>\n",
       "    <tr>\n",
       "      <th>2</th>\n",
       "      <td>3</td>\n",
       "      <td>2</td>\n",
       "      <td>1</td>\n",
       "      <td>Thissa Jananayaka</td>\n",
       "    </tr>\n",
       "    <tr>\n",
       "      <th>3</th>\n",
       "      <td>3</td>\n",
       "      <td>5</td>\n",
       "      <td>1</td>\n",
       "      <td>Chinthana Weerakon</td>\n",
       "    </tr>\n",
       "    <tr>\n",
       "      <th>4</th>\n",
       "      <td>3</td>\n",
       "      <td>4</td>\n",
       "      <td>1</td>\n",
       "      <td>Chinthana Weerakon</td>\n",
       "    </tr>\n",
       "    <tr>\n",
       "      <th>...</th>\n",
       "      <td>...</td>\n",
       "      <td>...</td>\n",
       "      <td>...</td>\n",
       "      <td>...</td>\n",
       "    </tr>\n",
       "    <tr>\n",
       "      <th>120</th>\n",
       "      <td>1</td>\n",
       "      <td>8</td>\n",
       "      <td>2</td>\n",
       "      <td>Kasun Devinda</td>\n",
       "    </tr>\n",
       "    <tr>\n",
       "      <th>121</th>\n",
       "      <td>1</td>\n",
       "      <td>9</td>\n",
       "      <td>2</td>\n",
       "      <td>Kasun Devinda</td>\n",
       "    </tr>\n",
       "    <tr>\n",
       "      <th>122</th>\n",
       "      <td>1</td>\n",
       "      <td>2</td>\n",
       "      <td>2</td>\n",
       "      <td>Janaka Abewardana</td>\n",
       "    </tr>\n",
       "    <tr>\n",
       "      <th>123</th>\n",
       "      <td>1</td>\n",
       "      <td>2</td>\n",
       "      <td>2</td>\n",
       "      <td>Wije Widanapathirana</td>\n",
       "    </tr>\n",
       "    <tr>\n",
       "      <th>124</th>\n",
       "      <td>1</td>\n",
       "      <td>2</td>\n",
       "      <td>2</td>\n",
       "      <td>Gihan Chamindu</td>\n",
       "    </tr>\n",
       "  </tbody>\n",
       "</table>\n",
       "<p>125 rows × 4 columns</p>\n",
       "</div>"
      ],
      "text/plain": [
       "     Subject Name  Province  A/L Year                Result\n",
       "0               3         1         1     Thissa Jananayaka\n",
       "1               3         3         1     Neeth Jayasundara\n",
       "2               3         2         1     Thissa Jananayaka\n",
       "3               3         5         1    Chinthana Weerakon\n",
       "4               3         4         1    Chinthana Weerakon\n",
       "..            ...       ...       ...                   ...\n",
       "120             1         8         2         Kasun Devinda\n",
       "121             1         9         2         Kasun Devinda\n",
       "122             1         2         2     Janaka Abewardana\n",
       "123             1         2         2  Wije Widanapathirana\n",
       "124             1         2         2        Gihan Chamindu\n",
       "\n",
       "[125 rows x 4 columns]"
      ]
     },
     "execution_count": 139,
     "metadata": {},
     "output_type": "execute_result"
    }
   ],
   "source": [
    "data"
   ]
  },
  {
   "cell_type": "code",
   "execution_count": 140,
   "id": "35030451",
   "metadata": {},
   "outputs": [
    {
     "data": {
      "text/plain": [
       "Charitha Disanayaka           9\n",
       "Thissa Jananayaka             6\n",
       "Mahesh Senanayaka             6\n",
       "Mujahith Sharif               6\n",
       "Madhushanka Ambagahakumura    6\n",
       "Ravindra Bandara              6\n",
       "Fathima Zainab                6\n",
       "Bagya Heththiarachchi         6\n",
       "Ziyath Ahamed                 6\n",
       "Sameera Jayaweera             6\n",
       "Kusal Kudaligama              6\n",
       "Asela Ranasinghe              6\n",
       "Kasun Devinda                 6\n",
       "Eranga Avinath                6\n",
       "Chinthana Weerakon            6\n",
       "Gihan Jayasundara             6\n",
       "Janaka Abewardana             3\n",
       "Wije Widanapathirana          3\n",
       "Kelum Senanayaka              3\n",
       "Kalum Senanayaka              3\n",
       "Neeth Jayasundara             3\n",
       "Janaka Bandara                3\n",
       "lijas ahmed                   3\n",
       "ljas ahmed                    3\n",
       "Gihan Chamindu                2\n",
       "Name: Result, dtype: int64"
      ]
     },
     "execution_count": 140,
     "metadata": {},
     "output_type": "execute_result"
    }
   ],
   "source": [
    "data['Result'].value_counts()"
   ]
  },
  {
   "cell_type": "code",
   "execution_count": 141,
   "id": "e2bfd70c",
   "metadata": {},
   "outputs": [],
   "source": [
    "def res_value(value):\n",
    "    res=\"\"\n",
    "    if value==\"Charitha Disanayaka\":\n",
    "        res=1\n",
    "    elif value==\"Thissa Jananayaka\":\n",
    "        res=2\n",
    "    elif value==\"Mahesh Senanayaka\":\n",
    "        res=3\n",
    "    elif value==\"Mujahith Sharif\":\n",
    "        res=4\n",
    "    elif value==\"Madhushanka Ambagahakumura\":\n",
    "        res=5\n",
    "    elif value==\"Ravindra Bandara\":\n",
    "        res=6\n",
    "    elif value==\"Fathima Zainab\":\n",
    "        res=7\n",
    "    elif value==\"Bagya Heththiarachchi\":\n",
    "        res=8\n",
    "    elif value==\"Ziyath Ahamed\":\n",
    "        res=9\n",
    "    elif value==\"Sameera Jayaweera\":\n",
    "        res=10\n",
    "    elif value==\"Kusal Kudaligama\":\n",
    "        res=11\n",
    "    elif value==\"Asela Ranasinghe\":\n",
    "        res=12\n",
    "    elif value==\"Kasun Devinda\":\n",
    "        res=13\n",
    "    elif value==\"Eranga Avinath\":\n",
    "        res=14\n",
    "    elif value==\"Chinthana Weerakon\":\n",
    "        res=15\n",
    "    elif value==\"Gihan Jayasundara\":\n",
    "        res=16\n",
    "    elif value==\"Janaka Abewardana\":\n",
    "        res=17\n",
    "    elif value==\"Wije Widanapathirana\":\n",
    "        res=18\n",
    "    elif value==\"Kelum Senanayaka\":\n",
    "        res=19\n",
    "    elif value==\"Kalum Senanayaka\":\n",
    "        res=19\n",
    "    elif value==\"Neeth Jayasundara\":\n",
    "        res=20\n",
    "    elif value==\"Janaka Bandara\":\n",
    "        res=21\n",
    "    elif value==\"lijas ahmed\":\n",
    "        res=22\n",
    "    elif value==\"ljas ahmed\":\n",
    "        res=23\n",
    "    elif value==\"Gihan Chamindu\":\n",
    "        res=24\n",
    "        \n",
    "    return res"
   ]
  },
  {
   "cell_type": "code",
   "execution_count": 142,
   "id": "ea490466",
   "metadata": {},
   "outputs": [],
   "source": [
    "data['Result'] = data['Result'].apply(res_value)"
   ]
  },
  {
   "cell_type": "code",
   "execution_count": 143,
   "id": "4a3ed39a",
   "metadata": {},
   "outputs": [
    {
     "data": {
      "text/plain": [
       "1     9\n",
       "2     6\n",
       "8     6\n",
       "13    6\n",
       "7     6\n",
       "6     6\n",
       "3     6\n",
       "16    6\n",
       "4     6\n",
       "5     6\n",
       "19    6\n",
       "9     6\n",
       "10    6\n",
       "11    6\n",
       "12    6\n",
       "14    6\n",
       "15    6\n",
       "20    3\n",
       "21    3\n",
       "22    3\n",
       "23    3\n",
       "17    3\n",
       "18    3\n",
       "24    2\n",
       "Name: Result, dtype: int64"
      ]
     },
     "execution_count": 143,
     "metadata": {},
     "output_type": "execute_result"
    }
   ],
   "source": [
    "data['Result'].value_counts()"
   ]
  },
  {
   "cell_type": "code",
   "execution_count": 144,
   "id": "7cb860d3",
   "metadata": {},
   "outputs": [
    {
     "data": {
      "text/plain": [
       "Subject Name    0\n",
       "Province        0\n",
       "A/L Year        0\n",
       "Result          0\n",
       "dtype: int64"
      ]
     },
     "execution_count": 144,
     "metadata": {},
     "output_type": "execute_result"
    }
   ],
   "source": [
    "data.isna().sum()"
   ]
  },
  {
   "cell_type": "code",
   "execution_count": 145,
   "id": "a40c9d6d",
   "metadata": {},
   "outputs": [],
   "source": [
    "X = data.drop('Result', axis=1)\n",
    "y = data['Result']"
   ]
  },
  {
   "cell_type": "code",
   "execution_count": 146,
   "id": "f9f525c8",
   "metadata": {},
   "outputs": [],
   "source": [
    "from sklearn.model_selection import train_test_split\n",
    "\n",
    "X_train, X_test, y_train, y_test = train_test_split(X, y, test_size = 0.2)"
   ]
  },
  {
   "cell_type": "code",
   "execution_count": 147,
   "id": "bd510f11",
   "metadata": {},
   "outputs": [],
   "source": [
    "from sklearn.tree import DecisionTreeRegressor\n",
    "dt = DecisionTreeRegressor()\n",
    "\n",
    "from sklearn.ensemble import RandomForestRegressor\n",
    "rf = RandomForestRegressor()"
   ]
  },
  {
   "cell_type": "code",
   "execution_count": 148,
   "id": "a52d466d",
   "metadata": {},
   "outputs": [
    {
     "data": {
      "text/plain": [
       "0.49933961215273737"
      ]
     },
     "execution_count": 148,
     "metadata": {},
     "output_type": "execute_result"
    }
   ],
   "source": [
    "(rf.fit(X_train, y_train)).score(X_test, y_test)"
   ]
  },
  {
   "cell_type": "code",
   "execution_count": 149,
   "id": "5d1b03ea",
   "metadata": {},
   "outputs": [
    {
     "data": {
      "text/plain": [
       "0.23693740300051735"
      ]
     },
     "execution_count": 149,
     "metadata": {},
     "output_type": "execute_result"
    }
   ],
   "source": [
    "(dt.fit(X_train, y_train)).score(X_test, y_test)"
   ]
  },
  {
   "cell_type": "code",
   "execution_count": 150,
   "id": "7fd9f571",
   "metadata": {},
   "outputs": [],
   "source": [
    "import pickle\n",
    "# save model to file\n",
    "pickle.dump(rf, open(\"class.dat\", \"wb\"))"
   ]
  },
  {
   "cell_type": "code",
   "execution_count": 151,
   "id": "20241457",
   "metadata": {},
   "outputs": [],
   "source": [
    "rf=rf.fit(X_train, y_train)"
   ]
  },
  {
   "cell_type": "code",
   "execution_count": 152,
   "id": "6d7e450b",
   "metadata": {},
   "outputs": [],
   "source": [
    "predict=np.round(rf.predict(X_test))"
   ]
  },
  {
   "cell_type": "code",
   "execution_count": 153,
   "id": "4f9d0cd0",
   "metadata": {},
   "outputs": [
    {
     "name": "stdout",
     "output_type": "stream",
     "text": [
      "<class 'numpy.ndarray'>\n",
      "<class 'pandas.core.series.Series'>\n"
     ]
    },
    {
     "data": {
      "image/png": "[encoded data removed]",
      "text/plain": [
       "<Figure size 1600x500 with 1 Axes>"
      ]
     },
     "metadata": {},
     "output_type": "display_data"
    }
   ],
   "source": [
    "A = np.array(y_test).reshape(-1, 1)\n",
    "B = predict.reshape(-1, 1)\n",
    "print(type(predict))\n",
    "print(type(y_test))\n",
    "plt.rcParams['figure.figsize'] = 16,5\n",
    "plt.figure()\n",
    "plt.plot(A[-100:], label=\"Real\")\n",
    "plt.plot(B[-100:], label=\"Predicted\")\n",
    "plt.legend()\n",
    "plt.title(\"Result : real vs predicted\")\n",
    "plt.ylabel(\"Result\")\n",
    "plt.xticks(())\n",
    "plt.show()"
   ]
  },
  {
   "cell_type": "code",
   "execution_count": 154,
   "id": "9ab229aa",
   "metadata": {},
   "outputs": [],
   "source": [
    "with open('class.dat' , 'rb') as f:\n",
    "    model = pickle.load(f)"
   ]
  },
  {
   "cell_type": "code",
   "execution_count": 155,
   "id": "4ffcf5f8",
   "metadata": {},
   "outputs": [
    {
     "data": {
      "text/html": [
       "<div>\n",
       "<style scoped>\n",
       "    .dataframe tbody tr th:only-of-type {\n",
       "        vertical-align: middle;\n",
       "    }\n",
       "\n",
       "    .dataframe tbody tr th {\n",
       "        vertical-align: top;\n",
       "    }\n",
       "\n",
       "    .dataframe thead th {\n",
       "        text-align: right;\n",
       "    }\n",
       "</style>\n",
       "<table border=\"1\" class=\"dataframe\">\n",
       "  <thead>\n",
       "    <tr style=\"text-align: right;\">\n",
       "      <th></th>\n",
       "      <th>Subject Name</th>\n",
       "      <th>Province</th>\n",
       "      <th>A/L Year</th>\n",
       "      <th>Result</th>\n",
       "    </tr>\n",
       "  </thead>\n",
       "  <tbody>\n",
       "    <tr>\n",
       "      <th>0</th>\n",
       "      <td>3</td>\n",
       "      <td>1</td>\n",
       "      <td>1</td>\n",
       "      <td>2</td>\n",
       "    </tr>\n",
       "    <tr>\n",
       "      <th>1</th>\n",
       "      <td>3</td>\n",
       "      <td>3</td>\n",
       "      <td>1</td>\n",
       "      <td>20</td>\n",
       "    </tr>\n",
       "    <tr>\n",
       "      <th>2</th>\n",
       "      <td>3</td>\n",
       "      <td>2</td>\n",
       "      <td>1</td>\n",
       "      <td>2</td>\n",
       "    </tr>\n",
       "    <tr>\n",
       "      <th>3</th>\n",
       "      <td>3</td>\n",
       "      <td>5</td>\n",
       "      <td>1</td>\n",
       "      <td>15</td>\n",
       "    </tr>\n",
       "    <tr>\n",
       "      <th>4</th>\n",
       "      <td>3</td>\n",
       "      <td>4</td>\n",
       "      <td>1</td>\n",
       "      <td>15</td>\n",
       "    </tr>\n",
       "    <tr>\n",
       "      <th>...</th>\n",
       "      <td>...</td>\n",
       "      <td>...</td>\n",
       "      <td>...</td>\n",
       "      <td>...</td>\n",
       "    </tr>\n",
       "    <tr>\n",
       "      <th>120</th>\n",
       "      <td>1</td>\n",
       "      <td>8</td>\n",
       "      <td>2</td>\n",
       "      <td>13</td>\n",
       "    </tr>\n",
       "    <tr>\n",
       "      <th>121</th>\n",
       "      <td>1</td>\n",
       "      <td>9</td>\n",
       "      <td>2</td>\n",
       "      <td>13</td>\n",
       "    </tr>\n",
       "    <tr>\n",
       "      <th>122</th>\n",
       "      <td>1</td>\n",
       "      <td>2</td>\n",
       "      <td>2</td>\n",
       "      <td>17</td>\n",
       "    </tr>\n",
       "    <tr>\n",
       "      <th>123</th>\n",
       "      <td>1</td>\n",
       "      <td>2</td>\n",
       "      <td>2</td>\n",
       "      <td>18</td>\n",
       "    </tr>\n",
       "    <tr>\n",
       "      <th>124</th>\n",
       "      <td>1</td>\n",
       "      <td>2</td>\n",
       "      <td>2</td>\n",
       "      <td>24</td>\n",
       "    </tr>\n",
       "  </tbody>\n",
       "</table>\n",
       "<p>125 rows × 4 columns</p>\n",
       "</div>"
      ],
      "text/plain": [
       "     Subject Name  Province  A/L Year  Result\n",
       "0               3         1         1       2\n",
       "1               3         3         1      20\n",
       "2               3         2         1       2\n",
       "3               3         5         1      15\n",
       "4               3         4         1      15\n",
       "..            ...       ...       ...     ...\n",
       "120             1         8         2      13\n",
       "121             1         9         2      13\n",
       "122             1         2         2      17\n",
       "123             1         2         2      18\n",
       "124             1         2         2      24\n",
       "\n",
       "[125 rows x 4 columns]"
      ]
     },
     "execution_count": 155,
     "metadata": {},
     "output_type": "execute_result"
    }
   ],
   "source": [
    "data"
   ]
  },
  {
   "cell_type": "code",
   "execution_count": 156,
   "id": "a77bd8a1",
   "metadata": {},
   "outputs": [
    {
     "name": "stdout",
     "output_type": "stream",
     "text": [
      "<class 'pandas.core.frame.DataFrame'>\n",
      "RangeIndex: 125 entries, 0 to 124\n",
      "Data columns (total 4 columns):\n",
      " #   Column        Non-Null Count  Dtype\n",
      "---  ------        --------------  -----\n",
      " 0   Subject Name  125 non-null    int64\n",
      " 1   Province      125 non-null    int64\n",
      " 2   A/L Year      125 non-null    int64\n",
      " 3   Result        125 non-null    int64\n",
      "dtypes: int64(4)\n",
      "memory usage: 4.0 KB\n"
     ]
    }
   ],
   "source": [
    "data.info()"
   ]
  },
  {
   "cell_type": "code",
   "execution_count": 159,
   "id": "ba474580",
   "metadata": {},
   "outputs": [
    {
     "name": "stderr",
     "output_type": "stream",
     "text": [
      "C:\\ProgramData\\Anaconda3\\lib\\site-packages\\sklearn\\base.py:420: UserWarning: X does not have valid feature names, but RandomForestRegressor was fitted with feature names\n",
      "  warnings.warn(\n"
     ]
    },
    {
     "data": {
      "text/plain": [
       "16"
      ]
     },
     "execution_count": 159,
     "metadata": {},
     "output_type": "execute_result"
    }
   ],
   "source": [
    "import math\n",
    "math.ceil(model.predict([[1,1,1]]))"
   ]
  },
  {
   "cell_type": "code",
   "execution_count": null,
   "id": "246fc84e",
   "metadata": {},
   "outputs": [],
   "source": []
  }
 ],
 "metadata": {
  "kernelspec": {
   "display_name": "Python 3",
   "language": "python",
   "name": "python3"
  },
  "language_info": {
   "codemirror_mode": {
    "name": "ipython",
    "version": 3
   },
   "file_extension": ".py",
   "mimetype": "text/x-python",
   "name": "python",
   "nbconvert_exporter": "python",
   "pygments_lexer": "ipython3",
   "version": "3.10.9"
  }
 },
 "nbformat": 4,
 "nbformat_minor": 5
}
