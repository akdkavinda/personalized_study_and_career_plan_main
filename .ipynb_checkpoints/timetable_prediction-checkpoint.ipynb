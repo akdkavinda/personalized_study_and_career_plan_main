{
 "cells": [
  {
   "cell_type": "code",
   "execution_count": 1,
   "id": "4842c6bd",
   "metadata": {},
   "outputs": [],
   "source": [
    "import numpy as np\n",
    "import pandas as pd\n",
    "import matplotlib.pyplot as plt\n",
    "import seaborn as sns"
   ]
  },
  {
   "cell_type": "code",
   "execution_count": 2,
   "id": "d82d86bc",
   "metadata": {},
   "outputs": [],
   "source": [
    "data = pd.read_csv('book.csv', encoding='latin-1')"
   ]
  },
  {
   "cell_type": "code",
   "execution_count": 3,
   "id": "fb7f411f",
   "metadata": {},
   "outputs": [
    {
     "data": {
      "text/html": [
       "<div>\n",
       "<style scoped>\n",
       "    .dataframe tbody tr th:only-of-type {\n",
       "        vertical-align: middle;\n",
       "    }\n",
       "\n",
       "    .dataframe tbody tr th {\n",
       "        vertical-align: top;\n",
       "    }\n",
       "\n",
       "    .dataframe thead th {\n",
       "        text-align: right;\n",
       "    }\n",
       "</style>\n",
       "<table border=\"1\" class=\"dataframe\">\n",
       "  <thead>\n",
       "    <tr style=\"text-align: right;\">\n",
       "      <th></th>\n",
       "      <th>personality</th>\n",
       "      <th>Gender</th>\n",
       "      <th>age</th>\n",
       "      <th>Subject</th>\n",
       "      <th>time slot</th>\n",
       "      <th>day</th>\n",
       "      <th>City</th>\n",
       "      <th>Time</th>\n",
       "      <th>Unnamed: 8</th>\n",
       "      <th>Unnamed: 9</th>\n",
       "      <th>Unnamed: 10</th>\n",
       "      <th>Unnamed: 11</th>\n",
       "    </tr>\n",
       "  </thead>\n",
       "  <tbody>\n",
       "    <tr>\n",
       "      <th>0</th>\n",
       "      <td>Extraversion</td>\n",
       "      <td>Male</td>\n",
       "      <td>17</td>\n",
       "      <td>Physics</td>\n",
       "      <td>0-2</td>\n",
       "      <td>Monday</td>\n",
       "      <td>Matara</td>\n",
       "      <td>100</td>\n",
       "      <td>NaN</td>\n",
       "      <td>NaN</td>\n",
       "      <td>NaN</td>\n",
       "      <td>NaN</td>\n",
       "    </tr>\n",
       "    <tr>\n",
       "      <th>1</th>\n",
       "      <td>Extraversion</td>\n",
       "      <td>Female</td>\n",
       "      <td>20</td>\n",
       "      <td>Bio</td>\n",
       "      <td>0-2</td>\n",
       "      <td>Tuesday</td>\n",
       "      <td>Galle</td>\n",
       "      <td>105</td>\n",
       "      <td>NaN</td>\n",
       "      <td>NaN</td>\n",
       "      <td>NaN</td>\n",
       "      <td>NaN</td>\n",
       "    </tr>\n",
       "    <tr>\n",
       "      <th>2</th>\n",
       "      <td>open</td>\n",
       "      <td>Female</td>\n",
       "      <td>17</td>\n",
       "      <td>Combine Maths</td>\n",
       "      <td>22-0</td>\n",
       "      <td>Monday</td>\n",
       "      <td>Colombo</td>\n",
       "      <td>100</td>\n",
       "      <td>NaN</td>\n",
       "      <td>NaN</td>\n",
       "      <td>NaN</td>\n",
       "      <td>NaN</td>\n",
       "    </tr>\n",
       "    <tr>\n",
       "      <th>3</th>\n",
       "      <td>Extraversion</td>\n",
       "      <td>Male</td>\n",
       "      <td>18</td>\n",
       "      <td>Chemistry</td>\n",
       "      <td>20-22</td>\n",
       "      <td>Friday</td>\n",
       "      <td>Galle</td>\n",
       "      <td>105</td>\n",
       "      <td>NaN</td>\n",
       "      <td>NaN</td>\n",
       "      <td>NaN</td>\n",
       "      <td>NaN</td>\n",
       "    </tr>\n",
       "    <tr>\n",
       "      <th>4</th>\n",
       "      <td>open</td>\n",
       "      <td>Male</td>\n",
       "      <td>19</td>\n",
       "      <td>Combine Maths</td>\n",
       "      <td>8-10</td>\n",
       "      <td>Tuesday</td>\n",
       "      <td>Gampaha</td>\n",
       "      <td>90</td>\n",
       "      <td>NaN</td>\n",
       "      <td>NaN</td>\n",
       "      <td>NaN</td>\n",
       "      <td>NaN</td>\n",
       "    </tr>\n",
       "  </tbody>\n",
       "</table>\n",
       "</div>"
      ],
      "text/plain": [
       "    personality  Gender  age        Subject time slot      day     City  Time  \\\n",
       "0  Extraversion    Male   17        Physics       0-2   Monday   Matara   100   \n",
       "1  Extraversion  Female   20            Bio       0-2  Tuesday    Galle   105   \n",
       "2          open  Female   17  Combine Maths      22-0   Monday  Colombo   100   \n",
       "3  Extraversion    Male   18      Chemistry     20-22   Friday    Galle   105   \n",
       "4          open    Male   19  Combine Maths      8-10  Tuesday  Gampaha    90   \n",
       "\n",
       "   Unnamed: 8  Unnamed: 9  Unnamed: 10  Unnamed: 11  \n",
       "0         NaN         NaN          NaN          NaN  \n",
       "1         NaN         NaN          NaN          NaN  \n",
       "2         NaN         NaN          NaN          NaN  \n",
       "3         NaN         NaN          NaN          NaN  \n",
       "4         NaN         NaN          NaN          NaN  "
      ]
     },
     "execution_count": 3,
     "metadata": {},
     "output_type": "execute_result"
    }
   ],
   "source": [
    "data.head()"
   ]
  },
  {
   "cell_type": "code",
   "execution_count": 101,
   "id": "81fa2fda",
   "metadata": {},
   "outputs": [
    {
     "data": {
      "text/plain": [
       "(7070, 8)"
      ]
     },
     "execution_count": 101,
     "metadata": {},
     "output_type": "execute_result"
    }
   ],
   "source": [
    "data.shape"
   ]
  },
  {
   "cell_type": "code",
   "execution_count": 102,
   "id": "627f27dc",
   "metadata": {},
   "outputs": [
    {
     "data": {
      "text/plain": [
       "yaw                    0\n",
       "pitch                  0\n",
       "roll                   0\n",
       "headpose_prediction    0\n",
       "iris position          0\n",
       "ratio                  0\n",
       "Blink Count            0\n",
       "attention              0\n",
       "dtype: int64"
      ]
     },
     "execution_count": 102,
     "metadata": {},
     "output_type": "execute_result"
    }
   ],
   "source": [
    "data.isnull().sum()"
   ]
  },
  {
   "cell_type": "code",
   "execution_count": 103,
   "id": "2783d7e3",
   "metadata": {},
   "outputs": [
    {
     "name": "stdout",
     "output_type": "stream",
     "text": [
      "<class 'pandas.core.frame.DataFrame'>\n",
      "RangeIndex: 7070 entries, 0 to 7069\n",
      "Data columns (total 8 columns):\n",
      " #   Column               Non-Null Count  Dtype  \n",
      "---  ------               --------------  -----  \n",
      " 0   yaw                  7070 non-null   float64\n",
      " 1   pitch                7070 non-null   float64\n",
      " 2   roll                 7070 non-null   float64\n",
      " 3   headpose_prediction  7070 non-null   object \n",
      " 4   iris position        7070 non-null   object \n",
      " 5   ratio                7070 non-null   int64  \n",
      " 6   Blink Count          7070 non-null   int64  \n",
      " 7   attention            7070 non-null   object \n",
      "dtypes: float64(3), int64(2), object(3)\n",
      "memory usage: 442.0+ KB\n"
     ]
    }
   ],
   "source": [
    "data.info()"
   ]
  },
  {
   "cell_type": "code",
   "execution_count": 104,
   "id": "b17569ff",
   "metadata": {},
   "outputs": [
    {
     "data": {
      "text/plain": [
       "Forward          3907\n",
       "Looking Up       2081\n",
       "Looking Left      508\n",
       "Looking Right     475\n",
       "Looking Down       99\n",
       "Name: headpose_prediction, dtype: int64"
      ]
     },
     "execution_count": 104,
     "metadata": {},
     "output_type": "execute_result"
    }
   ],
   "source": [
    "data['headpose_prediction'].value_counts()"
   ]
  },
  {
   "cell_type": "code",
   "execution_count": 105,
   "id": "3413ff11",
   "metadata": {},
   "outputs": [],
   "source": [
    "data['headpose_prediction']=data['headpose_prediction'].str.replace('Forward','0')\n",
    "data['headpose_prediction']=data['headpose_prediction'].str.replace('Looking Up','1')\n",
    "data['headpose_prediction']=data['headpose_prediction'].str.replace('Looking Left','2')\n",
    "data['headpose_prediction']=data['headpose_prediction'].str.replace('Looking Right','3')\n",
    "data['headpose_prediction']=data['headpose_prediction'].str.replace('Looking Down','4')"
   ]
  },
  {
   "cell_type": "code",
   "execution_count": 106,
   "id": "8d763561",
   "metadata": {},
   "outputs": [
    {
     "data": {
      "text/html": [
       "<div>\n",
       "<style scoped>\n",
       "    .dataframe tbody tr th:only-of-type {\n",
       "        vertical-align: middle;\n",
       "    }\n",
       "\n",
       "    .dataframe tbody tr th {\n",
       "        vertical-align: top;\n",
       "    }\n",
       "\n",
       "    .dataframe thead th {\n",
       "        text-align: right;\n",
       "    }\n",
       "</style>\n",
       "<table border=\"1\" class=\"dataframe\">\n",
       "  <thead>\n",
       "    <tr style=\"text-align: right;\">\n",
       "      <th></th>\n",
       "      <th>yaw</th>\n",
       "      <th>pitch</th>\n",
       "      <th>roll</th>\n",
       "      <th>headpose_prediction</th>\n",
       "      <th>iris position</th>\n",
       "      <th>ratio</th>\n",
       "      <th>Blink Count</th>\n",
       "      <th>attention</th>\n",
       "    </tr>\n",
       "  </thead>\n",
       "  <tbody>\n",
       "    <tr>\n",
       "      <th>0</th>\n",
       "      <td>7.68</td>\n",
       "      <td>6.68</td>\n",
       "      <td>-0.02</td>\n",
       "      <td>0</td>\n",
       "      <td>center</td>\n",
       "      <td>41</td>\n",
       "      <td>0</td>\n",
       "      <td>high</td>\n",
       "    </tr>\n",
       "    <tr>\n",
       "      <th>1</th>\n",
       "      <td>7.69</td>\n",
       "      <td>2.90</td>\n",
       "      <td>-0.07</td>\n",
       "      <td>0</td>\n",
       "      <td>center</td>\n",
       "      <td>41</td>\n",
       "      <td>0</td>\n",
       "      <td>high</td>\n",
       "    </tr>\n",
       "    <tr>\n",
       "      <th>2</th>\n",
       "      <td>7.24</td>\n",
       "      <td>1.95</td>\n",
       "      <td>-0.07</td>\n",
       "      <td>0</td>\n",
       "      <td>center</td>\n",
       "      <td>41</td>\n",
       "      <td>0</td>\n",
       "      <td>high</td>\n",
       "    </tr>\n",
       "    <tr>\n",
       "      <th>3</th>\n",
       "      <td>7.17</td>\n",
       "      <td>1.86</td>\n",
       "      <td>-0.08</td>\n",
       "      <td>0</td>\n",
       "      <td>center</td>\n",
       "      <td>38</td>\n",
       "      <td>0</td>\n",
       "      <td>high</td>\n",
       "    </tr>\n",
       "    <tr>\n",
       "      <th>4</th>\n",
       "      <td>6.15</td>\n",
       "      <td>2.24</td>\n",
       "      <td>-0.07</td>\n",
       "      <td>0</td>\n",
       "      <td>center</td>\n",
       "      <td>38</td>\n",
       "      <td>0</td>\n",
       "      <td>high</td>\n",
       "    </tr>\n",
       "  </tbody>\n",
       "</table>\n",
       "</div>"
      ],
      "text/plain": [
       "    yaw  pitch  roll headpose_prediction iris position  ratio  Blink Count  \\\n",
       "0  7.68   6.68 -0.02                   0        center     41            0   \n",
       "1  7.69   2.90 -0.07                   0        center     41            0   \n",
       "2  7.24   1.95 -0.07                   0        center     41            0   \n",
       "3  7.17   1.86 -0.08                   0        center     38            0   \n",
       "4  6.15   2.24 -0.07                   0        center     38            0   \n",
       "\n",
       "  attention  \n",
       "0      high  \n",
       "1      high  \n",
       "2      high  \n",
       "3      high  \n",
       "4      high  "
      ]
     },
     "execution_count": 106,
     "metadata": {},
     "output_type": "execute_result"
    }
   ],
   "source": [
    "data.head()"
   ]
  },
  {
   "cell_type": "code",
   "execution_count": 107,
   "id": "48ed143d",
   "metadata": {},
   "outputs": [
    {
     "data": {
      "text/plain": [
       "center    5836\n",
       "left       645\n",
       "right      589\n",
       "Name: iris position, dtype: int64"
      ]
     },
     "execution_count": 107,
     "metadata": {},
     "output_type": "execute_result"
    }
   ],
   "source": [
    "data['iris position'].value_counts()"
   ]
  },
  {
   "cell_type": "code",
   "execution_count": 108,
   "id": "e4451ce4",
   "metadata": {},
   "outputs": [],
   "source": [
    "data['iris position']=data['iris position'].str.replace('center','0')\n",
    "data['iris position']=data['iris position'].str.replace('left','1')\n",
    "data['iris position']=data['iris position'].str.replace('right','2')"
   ]
  },
  {
   "cell_type": "code",
   "execution_count": 109,
   "id": "a3243f65",
   "metadata": {},
   "outputs": [
    {
     "name": "stdout",
     "output_type": "stream",
     "text": [
      "<class 'pandas.core.frame.DataFrame'>\n",
      "RangeIndex: 7070 entries, 0 to 7069\n",
      "Data columns (total 8 columns):\n",
      " #   Column               Non-Null Count  Dtype  \n",
      "---  ------               --------------  -----  \n",
      " 0   yaw                  7070 non-null   float64\n",
      " 1   pitch                7070 non-null   float64\n",
      " 2   roll                 7070 non-null   float64\n",
      " 3   headpose_prediction  7070 non-null   object \n",
      " 4   iris position        7070 non-null   object \n",
      " 5   ratio                7070 non-null   int64  \n",
      " 6   Blink Count          7070 non-null   int64  \n",
      " 7   attention            7070 non-null   object \n",
      "dtypes: float64(3), int64(2), object(3)\n",
      "memory usage: 442.0+ KB\n"
     ]
    }
   ],
   "source": [
    "data.info()"
   ]
  },
  {
   "cell_type": "code",
   "execution_count": 110,
   "id": "c6d54cf8",
   "metadata": {},
   "outputs": [],
   "source": [
    "data['headpose_prediction'] = data['headpose_prediction'].apply(np.int64)\n",
    "data['iris position'] = data['iris position'].apply(np.int64)"
   ]
  },
  {
   "cell_type": "code",
   "execution_count": 111,
   "id": "2484fd7a",
   "metadata": {},
   "outputs": [
    {
     "name": "stdout",
     "output_type": "stream",
     "text": [
      "<class 'pandas.core.frame.DataFrame'>\n",
      "RangeIndex: 7070 entries, 0 to 7069\n",
      "Data columns (total 8 columns):\n",
      " #   Column               Non-Null Count  Dtype  \n",
      "---  ------               --------------  -----  \n",
      " 0   yaw                  7070 non-null   float64\n",
      " 1   pitch                7070 non-null   float64\n",
      " 2   roll                 7070 non-null   float64\n",
      " 3   headpose_prediction  7070 non-null   int64  \n",
      " 4   iris position        7070 non-null   int64  \n",
      " 5   ratio                7070 non-null   int64  \n",
      " 6   Blink Count          7070 non-null   int64  \n",
      " 7   attention            7070 non-null   object \n",
      "dtypes: float64(3), int64(4), object(1)\n",
      "memory usage: 442.0+ KB\n"
     ]
    }
   ],
   "source": [
    "data.info()"
   ]
  },
  {
   "cell_type": "code",
   "execution_count": 112,
   "id": "b1616086",
   "metadata": {},
   "outputs": [
    {
     "data": {
      "text/plain": [
       "low       2811\n",
       "high      2177\n",
       "medium    2082\n",
       "Name: attention, dtype: int64"
      ]
     },
     "execution_count": 112,
     "metadata": {},
     "output_type": "execute_result"
    }
   ],
   "source": [
    "data['attention'].value_counts()"
   ]
  },
  {
   "cell_type": "code",
   "execution_count": 113,
   "id": "ca300b4f",
   "metadata": {},
   "outputs": [],
   "source": [
    "data['attention']=data['attention'].str.replace('low','0')\n",
    "data['attention']=data['attention'].str.replace('high','1')\n",
    "data['attention']=data['attention'].str.replace('medium','2')"
   ]
  },
  {
   "cell_type": "code",
   "execution_count": 114,
   "id": "c1f44994",
   "metadata": {},
   "outputs": [],
   "source": [
    "data['attention'] = data['attention'].apply(np.int64)"
   ]
  },
  {
   "cell_type": "code",
   "execution_count": 115,
   "id": "bbbbf0f5",
   "metadata": {},
   "outputs": [
    {
     "name": "stdout",
     "output_type": "stream",
     "text": [
      "<class 'pandas.core.frame.DataFrame'>\n",
      "RangeIndex: 7070 entries, 0 to 7069\n",
      "Data columns (total 8 columns):\n",
      " #   Column               Non-Null Count  Dtype  \n",
      "---  ------               --------------  -----  \n",
      " 0   yaw                  7070 non-null   float64\n",
      " 1   pitch                7070 non-null   float64\n",
      " 2   roll                 7070 non-null   float64\n",
      " 3   headpose_prediction  7070 non-null   int64  \n",
      " 4   iris position        7070 non-null   int64  \n",
      " 5   ratio                7070 non-null   int64  \n",
      " 6   Blink Count          7070 non-null   int64  \n",
      " 7   attention            7070 non-null   int64  \n",
      "dtypes: float64(3), int64(5)\n",
      "memory usage: 442.0 KB\n"
     ]
    }
   ],
   "source": [
    "data.info()"
   ]
  },
  {
   "cell_type": "code",
   "execution_count": 116,
   "id": "0a84d8dc",
   "metadata": {},
   "outputs": [
    {
     "data": {
      "text/html": [
       "<div>\n",
       "<style scoped>\n",
       "    .dataframe tbody tr th:only-of-type {\n",
       "        vertical-align: middle;\n",
       "    }\n",
       "\n",
       "    .dataframe tbody tr th {\n",
       "        vertical-align: top;\n",
       "    }\n",
       "\n",
       "    .dataframe thead th {\n",
       "        text-align: right;\n",
       "    }\n",
       "</style>\n",
       "<table border=\"1\" class=\"dataframe\">\n",
       "  <thead>\n",
       "    <tr style=\"text-align: right;\">\n",
       "      <th></th>\n",
       "      <th>yaw</th>\n",
       "      <th>pitch</th>\n",
       "      <th>roll</th>\n",
       "      <th>headpose_prediction</th>\n",
       "      <th>iris position</th>\n",
       "      <th>ratio</th>\n",
       "      <th>Blink Count</th>\n",
       "      <th>attention</th>\n",
       "    </tr>\n",
       "  </thead>\n",
       "  <tbody>\n",
       "    <tr>\n",
       "      <th>0</th>\n",
       "      <td>7.68</td>\n",
       "      <td>6.68</td>\n",
       "      <td>-0.02</td>\n",
       "      <td>0</td>\n",
       "      <td>0</td>\n",
       "      <td>41</td>\n",
       "      <td>0</td>\n",
       "      <td>1</td>\n",
       "    </tr>\n",
       "    <tr>\n",
       "      <th>1</th>\n",
       "      <td>7.69</td>\n",
       "      <td>2.90</td>\n",
       "      <td>-0.07</td>\n",
       "      <td>0</td>\n",
       "      <td>0</td>\n",
       "      <td>41</td>\n",
       "      <td>0</td>\n",
       "      <td>1</td>\n",
       "    </tr>\n",
       "    <tr>\n",
       "      <th>2</th>\n",
       "      <td>7.24</td>\n",
       "      <td>1.95</td>\n",
       "      <td>-0.07</td>\n",
       "      <td>0</td>\n",
       "      <td>0</td>\n",
       "      <td>41</td>\n",
       "      <td>0</td>\n",
       "      <td>1</td>\n",
       "    </tr>\n",
       "    <tr>\n",
       "      <th>3</th>\n",
       "      <td>7.17</td>\n",
       "      <td>1.86</td>\n",
       "      <td>-0.08</td>\n",
       "      <td>0</td>\n",
       "      <td>0</td>\n",
       "      <td>38</td>\n",
       "      <td>0</td>\n",
       "      <td>1</td>\n",
       "    </tr>\n",
       "    <tr>\n",
       "      <th>4</th>\n",
       "      <td>6.15</td>\n",
       "      <td>2.24</td>\n",
       "      <td>-0.07</td>\n",
       "      <td>0</td>\n",
       "      <td>0</td>\n",
       "      <td>38</td>\n",
       "      <td>0</td>\n",
       "      <td>1</td>\n",
       "    </tr>\n",
       "    <tr>\n",
       "      <th>...</th>\n",
       "      <td>...</td>\n",
       "      <td>...</td>\n",
       "      <td>...</td>\n",
       "      <td>...</td>\n",
       "      <td>...</td>\n",
       "      <td>...</td>\n",
       "      <td>...</td>\n",
       "      <td>...</td>\n",
       "    </tr>\n",
       "    <tr>\n",
       "      <th>7065</th>\n",
       "      <td>12.53</td>\n",
       "      <td>-1.76</td>\n",
       "      <td>-0.03</td>\n",
       "      <td>1</td>\n",
       "      <td>0</td>\n",
       "      <td>37</td>\n",
       "      <td>30</td>\n",
       "      <td>2</td>\n",
       "    </tr>\n",
       "    <tr>\n",
       "      <th>7066</th>\n",
       "      <td>12.92</td>\n",
       "      <td>-1.66</td>\n",
       "      <td>-0.03</td>\n",
       "      <td>1</td>\n",
       "      <td>0</td>\n",
       "      <td>37</td>\n",
       "      <td>30</td>\n",
       "      <td>2</td>\n",
       "    </tr>\n",
       "    <tr>\n",
       "      <th>7067</th>\n",
       "      <td>13.56</td>\n",
       "      <td>-1.64</td>\n",
       "      <td>-0.02</td>\n",
       "      <td>1</td>\n",
       "      <td>0</td>\n",
       "      <td>35</td>\n",
       "      <td>30</td>\n",
       "      <td>2</td>\n",
       "    </tr>\n",
       "    <tr>\n",
       "      <th>7068</th>\n",
       "      <td>13.63</td>\n",
       "      <td>-1.87</td>\n",
       "      <td>-0.02</td>\n",
       "      <td>1</td>\n",
       "      <td>0</td>\n",
       "      <td>35</td>\n",
       "      <td>30</td>\n",
       "      <td>2</td>\n",
       "    </tr>\n",
       "    <tr>\n",
       "      <th>7069</th>\n",
       "      <td>13.83</td>\n",
       "      <td>-2.05</td>\n",
       "      <td>-0.01</td>\n",
       "      <td>1</td>\n",
       "      <td>0</td>\n",
       "      <td>34</td>\n",
       "      <td>31</td>\n",
       "      <td>2</td>\n",
       "    </tr>\n",
       "  </tbody>\n",
       "</table>\n",
       "<p>7070 rows × 8 columns</p>\n",
       "</div>"
      ],
      "text/plain": [
       "        yaw  pitch  roll  headpose_prediction  iris position  ratio  \\\n",
       "0      7.68   6.68 -0.02                    0              0     41   \n",
       "1      7.69   2.90 -0.07                    0              0     41   \n",
       "2      7.24   1.95 -0.07                    0              0     41   \n",
       "3      7.17   1.86 -0.08                    0              0     38   \n",
       "4      6.15   2.24 -0.07                    0              0     38   \n",
       "...     ...    ...   ...                  ...            ...    ...   \n",
       "7065  12.53  -1.76 -0.03                    1              0     37   \n",
       "7066  12.92  -1.66 -0.03                    1              0     37   \n",
       "7067  13.56  -1.64 -0.02                    1              0     35   \n",
       "7068  13.63  -1.87 -0.02                    1              0     35   \n",
       "7069  13.83  -2.05 -0.01                    1              0     34   \n",
       "\n",
       "      Blink Count  attention  \n",
       "0               0          1  \n",
       "1               0          1  \n",
       "2               0          1  \n",
       "3               0          1  \n",
       "4               0          1  \n",
       "...           ...        ...  \n",
       "7065           30          2  \n",
       "7066           30          2  \n",
       "7067           30          2  \n",
       "7068           30          2  \n",
       "7069           31          2  \n",
       "\n",
       "[7070 rows x 8 columns]"
      ]
     },
     "execution_count": 116,
     "metadata": {},
     "output_type": "execute_result"
    }
   ],
   "source": [
    "data"
   ]
  },
  {
   "cell_type": "code",
   "execution_count": 117,
   "id": "d41d6553",
   "metadata": {},
   "outputs": [
    {
     "data": {
      "text/plain": [
       "8.86     17\n",
       "8.74     14\n",
       "7.61     12\n",
       "7.89     12\n",
       "10.95    12\n",
       "         ..\n",
       "21.63     1\n",
       "24.28     1\n",
       "23.45     1\n",
       "23.55     1\n",
       "6.32      1\n",
       "Name: yaw, Length: 2703, dtype: int64"
      ]
     },
     "execution_count": 117,
     "metadata": {},
     "output_type": "execute_result"
    }
   ],
   "source": [
    "data['yaw'].value_counts()"
   ]
  },
  {
   "cell_type": "code",
   "execution_count": 118,
   "id": "33928be9",
   "metadata": {},
   "outputs": [
    {
     "data": {
      "text/plain": [
       "44.52"
      ]
     },
     "execution_count": 118,
     "metadata": {},
     "output_type": "execute_result"
    }
   ],
   "source": [
    "data['yaw'].max()"
   ]
  },
  {
   "cell_type": "code",
   "execution_count": 119,
   "id": "9686f119",
   "metadata": {},
   "outputs": [
    {
     "data": {
      "text/plain": [
       "-22.31"
      ]
     },
     "execution_count": 119,
     "metadata": {},
     "output_type": "execute_result"
    }
   ],
   "source": [
    "data['yaw'].min()"
   ]
  },
  {
   "cell_type": "code",
   "execution_count": 121,
   "id": "fc9e1220",
   "metadata": {},
   "outputs": [],
   "source": [
    "def yaw_set(value):\n",
    "    res=0\n",
    "    if value<-50:\n",
    "        res=-6\n",
    "    elif value>=-50 and value<=-40:\n",
    "        res=-5\n",
    "    elif value>-40 and value<=-30:\n",
    "        res=-4\n",
    "    elif value>-30 and value<=-20:\n",
    "        res=-3\n",
    "    elif value>-20 and value<=-10:\n",
    "        res=-2\n",
    "    elif value>-10 and value<=0:\n",
    "        res=-1\n",
    "    elif value>0 and value<=10:\n",
    "        res=1\n",
    "    elif value>10 and value<=20:\n",
    "        res=2\n",
    "    elif value>20 and value<=30:\n",
    "        res=3\n",
    "    elif value>30 and value<=40:\n",
    "        res=4\n",
    "    elif value>40 and value<=50:\n",
    "        res=5\n",
    "    else:\n",
    "        res=6\n",
    "        \n",
    "    return res"
   ]
  },
  {
   "cell_type": "code",
   "execution_count": 122,
   "id": "0506b9b4",
   "metadata": {},
   "outputs": [],
   "source": [
    "data['yaw'] = data['yaw'].apply(yaw_set)"
   ]
  },
  {
   "cell_type": "code",
   "execution_count": 124,
   "id": "d4754421",
   "metadata": {},
   "outputs": [
    {
     "data": {
      "text/html": [
       "<div>\n",
       "<style scoped>\n",
       "    .dataframe tbody tr th:only-of-type {\n",
       "        vertical-align: middle;\n",
       "    }\n",
       "\n",
       "    .dataframe tbody tr th {\n",
       "        vertical-align: top;\n",
       "    }\n",
       "\n",
       "    .dataframe thead th {\n",
       "        text-align: right;\n",
       "    }\n",
       "</style>\n",
       "<table border=\"1\" class=\"dataframe\">\n",
       "  <thead>\n",
       "    <tr style=\"text-align: right;\">\n",
       "      <th></th>\n",
       "      <th>yaw</th>\n",
       "      <th>pitch</th>\n",
       "      <th>roll</th>\n",
       "      <th>headpose_prediction</th>\n",
       "      <th>iris position</th>\n",
       "      <th>ratio</th>\n",
       "      <th>Blink Count</th>\n",
       "      <th>attention</th>\n",
       "    </tr>\n",
       "  </thead>\n",
       "  <tbody>\n",
       "    <tr>\n",
       "      <th>0</th>\n",
       "      <td>1</td>\n",
       "      <td>6.68</td>\n",
       "      <td>-0.02</td>\n",
       "      <td>0</td>\n",
       "      <td>0</td>\n",
       "      <td>41</td>\n",
       "      <td>0</td>\n",
       "      <td>1</td>\n",
       "    </tr>\n",
       "    <tr>\n",
       "      <th>1</th>\n",
       "      <td>1</td>\n",
       "      <td>2.90</td>\n",
       "      <td>-0.07</td>\n",
       "      <td>0</td>\n",
       "      <td>0</td>\n",
       "      <td>41</td>\n",
       "      <td>0</td>\n",
       "      <td>1</td>\n",
       "    </tr>\n",
       "    <tr>\n",
       "      <th>2</th>\n",
       "      <td>1</td>\n",
       "      <td>1.95</td>\n",
       "      <td>-0.07</td>\n",
       "      <td>0</td>\n",
       "      <td>0</td>\n",
       "      <td>41</td>\n",
       "      <td>0</td>\n",
       "      <td>1</td>\n",
       "    </tr>\n",
       "    <tr>\n",
       "      <th>3</th>\n",
       "      <td>1</td>\n",
       "      <td>1.86</td>\n",
       "      <td>-0.08</td>\n",
       "      <td>0</td>\n",
       "      <td>0</td>\n",
       "      <td>38</td>\n",
       "      <td>0</td>\n",
       "      <td>1</td>\n",
       "    </tr>\n",
       "    <tr>\n",
       "      <th>4</th>\n",
       "      <td>1</td>\n",
       "      <td>2.24</td>\n",
       "      <td>-0.07</td>\n",
       "      <td>0</td>\n",
       "      <td>0</td>\n",
       "      <td>38</td>\n",
       "      <td>0</td>\n",
       "      <td>1</td>\n",
       "    </tr>\n",
       "    <tr>\n",
       "      <th>...</th>\n",
       "      <td>...</td>\n",
       "      <td>...</td>\n",
       "      <td>...</td>\n",
       "      <td>...</td>\n",
       "      <td>...</td>\n",
       "      <td>...</td>\n",
       "      <td>...</td>\n",
       "      <td>...</td>\n",
       "    </tr>\n",
       "    <tr>\n",
       "      <th>7065</th>\n",
       "      <td>2</td>\n",
       "      <td>-1.76</td>\n",
       "      <td>-0.03</td>\n",
       "      <td>1</td>\n",
       "      <td>0</td>\n",
       "      <td>37</td>\n",
       "      <td>30</td>\n",
       "      <td>2</td>\n",
       "    </tr>\n",
       "    <tr>\n",
       "      <th>7066</th>\n",
       "      <td>2</td>\n",
       "      <td>-1.66</td>\n",
       "      <td>-0.03</td>\n",
       "      <td>1</td>\n",
       "      <td>0</td>\n",
       "      <td>37</td>\n",
       "      <td>30</td>\n",
       "      <td>2</td>\n",
       "    </tr>\n",
       "    <tr>\n",
       "      <th>7067</th>\n",
       "      <td>2</td>\n",
       "      <td>-1.64</td>\n",
       "      <td>-0.02</td>\n",
       "      <td>1</td>\n",
       "      <td>0</td>\n",
       "      <td>35</td>\n",
       "      <td>30</td>\n",
       "      <td>2</td>\n",
       "    </tr>\n",
       "    <tr>\n",
       "      <th>7068</th>\n",
       "      <td>2</td>\n",
       "      <td>-1.87</td>\n",
       "      <td>-0.02</td>\n",
       "      <td>1</td>\n",
       "      <td>0</td>\n",
       "      <td>35</td>\n",
       "      <td>30</td>\n",
       "      <td>2</td>\n",
       "    </tr>\n",
       "    <tr>\n",
       "      <th>7069</th>\n",
       "      <td>2</td>\n",
       "      <td>-2.05</td>\n",
       "      <td>-0.01</td>\n",
       "      <td>1</td>\n",
       "      <td>0</td>\n",
       "      <td>34</td>\n",
       "      <td>31</td>\n",
       "      <td>2</td>\n",
       "    </tr>\n",
       "  </tbody>\n",
       "</table>\n",
       "<p>7070 rows × 8 columns</p>\n",
       "</div>"
      ],
      "text/plain": [
       "      yaw  pitch  roll  headpose_prediction  iris position  ratio  \\\n",
       "0       1   6.68 -0.02                    0              0     41   \n",
       "1       1   2.90 -0.07                    0              0     41   \n",
       "2       1   1.95 -0.07                    0              0     41   \n",
       "3       1   1.86 -0.08                    0              0     38   \n",
       "4       1   2.24 -0.07                    0              0     38   \n",
       "...   ...    ...   ...                  ...            ...    ...   \n",
       "7065    2  -1.76 -0.03                    1              0     37   \n",
       "7066    2  -1.66 -0.03                    1              0     37   \n",
       "7067    2  -1.64 -0.02                    1              0     35   \n",
       "7068    2  -1.87 -0.02                    1              0     35   \n",
       "7069    2  -2.05 -0.01                    1              0     34   \n",
       "\n",
       "      Blink Count  attention  \n",
       "0               0          1  \n",
       "1               0          1  \n",
       "2               0          1  \n",
       "3               0          1  \n",
       "4               0          1  \n",
       "...           ...        ...  \n",
       "7065           30          2  \n",
       "7066           30          2  \n",
       "7067           30          2  \n",
       "7068           30          2  \n",
       "7069           31          2  \n",
       "\n",
       "[7070 rows x 8 columns]"
      ]
     },
     "execution_count": 124,
     "metadata": {},
     "output_type": "execute_result"
    }
   ],
   "source": [
    "data"
   ]
  },
  {
   "cell_type": "code",
   "execution_count": 125,
   "id": "903a725b",
   "metadata": {},
   "outputs": [
    {
     "data": {
      "text/plain": [
       "26.18"
      ]
     },
     "execution_count": 125,
     "metadata": {},
     "output_type": "execute_result"
    }
   ],
   "source": [
    "data['pitch'].max()"
   ]
  },
  {
   "cell_type": "code",
   "execution_count": 126,
   "id": "3cdcbc98",
   "metadata": {},
   "outputs": [
    {
     "data": {
      "text/plain": [
       "-59.08"
      ]
     },
     "execution_count": 126,
     "metadata": {},
     "output_type": "execute_result"
    }
   ],
   "source": [
    "data['pitch'].min()"
   ]
  },
  {
   "cell_type": "code",
   "execution_count": 127,
   "id": "778940a0",
   "metadata": {},
   "outputs": [],
   "source": [
    "def pitch_set(value):\n",
    "    res=0\n",
    "    if value<-60:\n",
    "        res=-7\n",
    "    elif value>=-60 and value<=-50:\n",
    "        res=-6\n",
    "    elif value>-50 and value<=-40:\n",
    "        res=-5\n",
    "    elif value>-40 and value<=-30:\n",
    "        res=-4\n",
    "    elif value>-30 and value<=-20:\n",
    "        res=-3\n",
    "    elif value>-20 and value<=-10:\n",
    "        res=-2\n",
    "    elif value>-10 and value<=0:\n",
    "        res=-1\n",
    "    elif value>0 and value<=10:\n",
    "        res=1\n",
    "    elif value>10 and value<=20:\n",
    "        res=2\n",
    "    elif value>20 and value<=30:\n",
    "        res=3\n",
    "    elif value>30 and value<=40:\n",
    "        res=4\n",
    "    elif value>40 and value<=50:\n",
    "        res=5\n",
    "    else:\n",
    "        res=6\n",
    "        \n",
    "    return res"
   ]
  },
  {
   "cell_type": "code",
   "execution_count": 128,
   "id": "61c3efc2",
   "metadata": {},
   "outputs": [],
   "source": [
    "data['pitch'] = data['pitch'].apply(pitch_set)"
   ]
  },
  {
   "cell_type": "code",
   "execution_count": 129,
   "id": "17c2d130",
   "metadata": {},
   "outputs": [
    {
     "data": {
      "text/plain": [
       "3.2"
      ]
     },
     "execution_count": 129,
     "metadata": {},
     "output_type": "execute_result"
    }
   ],
   "source": [
    "data['roll'].max()"
   ]
  },
  {
   "cell_type": "code",
   "execution_count": 130,
   "id": "e1ce3d38",
   "metadata": {},
   "outputs": [
    {
     "data": {
      "text/plain": [
       "-3.58"
      ]
     },
     "execution_count": 130,
     "metadata": {},
     "output_type": "execute_result"
    }
   ],
   "source": [
    "data['roll'].min()"
   ]
  },
  {
   "cell_type": "code",
   "execution_count": 131,
   "id": "44f09e15",
   "metadata": {},
   "outputs": [],
   "source": [
    "def roll_set(value):\n",
    "    res=0\n",
    "    if value<-4:\n",
    "        res=-5\n",
    "    elif value>=-4 and value<=-3:\n",
    "        res=-4\n",
    "    elif value>-3 and value<=-2:\n",
    "        res=-3\n",
    "    elif value>-2 and value<=-1:\n",
    "        res=-2\n",
    "    elif value>-1 and value<=0:\n",
    "        res=-1\n",
    "    elif value>-0 and value<=1:\n",
    "        res=1\n",
    "    elif value>1 and value<=2:\n",
    "        res=2\n",
    "    elif value>2 and value<=3:\n",
    "        res=3\n",
    "    elif value>3 and value<=4:\n",
    "        res=4\n",
    "    else:\n",
    "        res=5\n",
    "        \n",
    "    return res"
   ]
  },
  {
   "cell_type": "code",
   "execution_count": 132,
   "id": "ad540dc6",
   "metadata": {},
   "outputs": [],
   "source": [
    "data['roll'] = data['roll'].apply(roll_set)"
   ]
  },
  {
   "cell_type": "code",
   "execution_count": 133,
   "id": "fb38c47f",
   "metadata": {},
   "outputs": [
    {
     "data": {
      "text/html": [
       "<div>\n",
       "<style scoped>\n",
       "    .dataframe tbody tr th:only-of-type {\n",
       "        vertical-align: middle;\n",
       "    }\n",
       "\n",
       "    .dataframe tbody tr th {\n",
       "        vertical-align: top;\n",
       "    }\n",
       "\n",
       "    .dataframe thead th {\n",
       "        text-align: right;\n",
       "    }\n",
       "</style>\n",
       "<table border=\"1\" class=\"dataframe\">\n",
       "  <thead>\n",
       "    <tr style=\"text-align: right;\">\n",
       "      <th></th>\n",
       "      <th>yaw</th>\n",
       "      <th>pitch</th>\n",
       "      <th>roll</th>\n",
       "      <th>headpose_prediction</th>\n",
       "      <th>iris position</th>\n",
       "      <th>ratio</th>\n",
       "      <th>Blink Count</th>\n",
       "      <th>attention</th>\n",
       "    </tr>\n",
       "  </thead>\n",
       "  <tbody>\n",
       "    <tr>\n",
       "      <th>0</th>\n",
       "      <td>1</td>\n",
       "      <td>1</td>\n",
       "      <td>-1</td>\n",
       "      <td>0</td>\n",
       "      <td>0</td>\n",
       "      <td>41</td>\n",
       "      <td>0</td>\n",
       "      <td>1</td>\n",
       "    </tr>\n",
       "    <tr>\n",
       "      <th>1</th>\n",
       "      <td>1</td>\n",
       "      <td>1</td>\n",
       "      <td>-1</td>\n",
       "      <td>0</td>\n",
       "      <td>0</td>\n",
       "      <td>41</td>\n",
       "      <td>0</td>\n",
       "      <td>1</td>\n",
       "    </tr>\n",
       "    <tr>\n",
       "      <th>2</th>\n",
       "      <td>1</td>\n",
       "      <td>1</td>\n",
       "      <td>-1</td>\n",
       "      <td>0</td>\n",
       "      <td>0</td>\n",
       "      <td>41</td>\n",
       "      <td>0</td>\n",
       "      <td>1</td>\n",
       "    </tr>\n",
       "    <tr>\n",
       "      <th>3</th>\n",
       "      <td>1</td>\n",
       "      <td>1</td>\n",
       "      <td>-1</td>\n",
       "      <td>0</td>\n",
       "      <td>0</td>\n",
       "      <td>38</td>\n",
       "      <td>0</td>\n",
       "      <td>1</td>\n",
       "    </tr>\n",
       "    <tr>\n",
       "      <th>4</th>\n",
       "      <td>1</td>\n",
       "      <td>1</td>\n",
       "      <td>-1</td>\n",
       "      <td>0</td>\n",
       "      <td>0</td>\n",
       "      <td>38</td>\n",
       "      <td>0</td>\n",
       "      <td>1</td>\n",
       "    </tr>\n",
       "    <tr>\n",
       "      <th>...</th>\n",
       "      <td>...</td>\n",
       "      <td>...</td>\n",
       "      <td>...</td>\n",
       "      <td>...</td>\n",
       "      <td>...</td>\n",
       "      <td>...</td>\n",
       "      <td>...</td>\n",
       "      <td>...</td>\n",
       "    </tr>\n",
       "    <tr>\n",
       "      <th>7065</th>\n",
       "      <td>2</td>\n",
       "      <td>-1</td>\n",
       "      <td>-1</td>\n",
       "      <td>1</td>\n",
       "      <td>0</td>\n",
       "      <td>37</td>\n",
       "      <td>30</td>\n",
       "      <td>2</td>\n",
       "    </tr>\n",
       "    <tr>\n",
       "      <th>7066</th>\n",
       "      <td>2</td>\n",
       "      <td>-1</td>\n",
       "      <td>-1</td>\n",
       "      <td>1</td>\n",
       "      <td>0</td>\n",
       "      <td>37</td>\n",
       "      <td>30</td>\n",
       "      <td>2</td>\n",
       "    </tr>\n",
       "    <tr>\n",
       "      <th>7067</th>\n",
       "      <td>2</td>\n",
       "      <td>-1</td>\n",
       "      <td>-1</td>\n",
       "      <td>1</td>\n",
       "      <td>0</td>\n",
       "      <td>35</td>\n",
       "      <td>30</td>\n",
       "      <td>2</td>\n",
       "    </tr>\n",
       "    <tr>\n",
       "      <th>7068</th>\n",
       "      <td>2</td>\n",
       "      <td>-1</td>\n",
       "      <td>-1</td>\n",
       "      <td>1</td>\n",
       "      <td>0</td>\n",
       "      <td>35</td>\n",
       "      <td>30</td>\n",
       "      <td>2</td>\n",
       "    </tr>\n",
       "    <tr>\n",
       "      <th>7069</th>\n",
       "      <td>2</td>\n",
       "      <td>-1</td>\n",
       "      <td>-1</td>\n",
       "      <td>1</td>\n",
       "      <td>0</td>\n",
       "      <td>34</td>\n",
       "      <td>31</td>\n",
       "      <td>2</td>\n",
       "    </tr>\n",
       "  </tbody>\n",
       "</table>\n",
       "<p>7070 rows × 8 columns</p>\n",
       "</div>"
      ],
      "text/plain": [
       "      yaw  pitch  roll  headpose_prediction  iris position  ratio  \\\n",
       "0       1      1    -1                    0              0     41   \n",
       "1       1      1    -1                    0              0     41   \n",
       "2       1      1    -1                    0              0     41   \n",
       "3       1      1    -1                    0              0     38   \n",
       "4       1      1    -1                    0              0     38   \n",
       "...   ...    ...   ...                  ...            ...    ...   \n",
       "7065    2     -1    -1                    1              0     37   \n",
       "7066    2     -1    -1                    1              0     37   \n",
       "7067    2     -1    -1                    1              0     35   \n",
       "7068    2     -1    -1                    1              0     35   \n",
       "7069    2     -1    -1                    1              0     34   \n",
       "\n",
       "      Blink Count  attention  \n",
       "0               0          1  \n",
       "1               0          1  \n",
       "2               0          1  \n",
       "3               0          1  \n",
       "4               0          1  \n",
       "...           ...        ...  \n",
       "7065           30          2  \n",
       "7066           30          2  \n",
       "7067           30          2  \n",
       "7068           30          2  \n",
       "7069           31          2  \n",
       "\n",
       "[7070 rows x 8 columns]"
      ]
     },
     "execution_count": 133,
     "metadata": {},
     "output_type": "execute_result"
    }
   ],
   "source": [
    "data"
   ]
  },
  {
   "cell_type": "code",
   "execution_count": 134,
   "id": "08d8289e",
   "metadata": {},
   "outputs": [
    {
     "data": {
      "text/plain": [
       "466"
      ]
     },
     "execution_count": 134,
     "metadata": {},
     "output_type": "execute_result"
    }
   ],
   "source": [
    "data['ratio'].max()"
   ]
  },
  {
   "cell_type": "code",
   "execution_count": 135,
   "id": "caa72900",
   "metadata": {},
   "outputs": [
    {
     "data": {
      "text/plain": [
       "7"
      ]
     },
     "execution_count": 135,
     "metadata": {},
     "output_type": "execute_result"
    }
   ],
   "source": [
    "data['ratio'].min()"
   ]
  },
  {
   "cell_type": "code",
   "execution_count": 136,
   "id": "4d9d037e",
   "metadata": {},
   "outputs": [
    {
     "data": {
      "text/plain": [
       "39     735\n",
       "37     719\n",
       "38     677\n",
       "41     630\n",
       "36     620\n",
       "      ... \n",
       "94       1\n",
       "128      1\n",
       "162      1\n",
       "208      1\n",
       "307      1\n",
       "Name: ratio, Length: 136, dtype: int64"
      ]
     },
     "execution_count": 136,
     "metadata": {},
     "output_type": "execute_result"
    }
   ],
   "source": [
    "data['ratio'].value_counts()"
   ]
  },
  {
   "cell_type": "code",
   "execution_count": 137,
   "id": "64b6d2b6",
   "metadata": {},
   "outputs": [],
   "source": [
    "def ratio_set(value):\n",
    "    res=0\n",
    "    if value<0:\n",
    "        res=0\n",
    "    elif value>=0 and value<=10:\n",
    "        res=1\n",
    "    elif value>10 and value<=20:\n",
    "        res=2\n",
    "    elif value>20 and value<=30:\n",
    "        res=3\n",
    "    elif value>30 and value<=40:\n",
    "        res=4\n",
    "    elif value>40 and value<=50:\n",
    "        res=5\n",
    "    elif value>50 and value<=60:\n",
    "        res=6\n",
    "    elif value>60 and value<=70:\n",
    "        res=7\n",
    "    elif value>70 and value<=80:\n",
    "        res=8\n",
    "    elif value>80 and value<=90:\n",
    "        res=9\n",
    "    elif value>90 and value<=100:\n",
    "        res=10\n",
    "    else:\n",
    "        res=11\n",
    "        \n",
    "    return res"
   ]
  },
  {
   "cell_type": "code",
   "execution_count": 138,
   "id": "0a48ffb2",
   "metadata": {},
   "outputs": [],
   "source": [
    "data['ratio'] = data['ratio'].apply(ratio_set)"
   ]
  },
  {
   "cell_type": "code",
   "execution_count": 139,
   "id": "89f71c96",
   "metadata": {},
   "outputs": [
    {
     "data": {
      "text/plain": [
       "40"
      ]
     },
     "execution_count": 139,
     "metadata": {},
     "output_type": "execute_result"
    }
   ],
   "source": [
    "data['Blink Count'].max()"
   ]
  },
  {
   "cell_type": "code",
   "execution_count": 140,
   "id": "72a80600",
   "metadata": {},
   "outputs": [
    {
     "data": {
      "text/plain": [
       "0"
      ]
     },
     "execution_count": 140,
     "metadata": {},
     "output_type": "execute_result"
    }
   ],
   "source": [
    "data['Blink Count'].min()"
   ]
  },
  {
   "cell_type": "code",
   "execution_count": 141,
   "id": "d2efb571",
   "metadata": {},
   "outputs": [
    {
     "data": {
      "text/plain": [
       "0     1498\n",
       "1      861\n",
       "5      471\n",
       "2      434\n",
       "3      402\n",
       "4      371\n",
       "10     358\n",
       "7      348\n",
       "11     193\n",
       "14     191\n",
       "16     174\n",
       "6      164\n",
       "9      162\n",
       "12     141\n",
       "8      139\n",
       "24     132\n",
       "17     107\n",
       "13      96\n",
       "20      90\n",
       "21      89\n",
       "18      81\n",
       "23      74\n",
       "15      73\n",
       "19      69\n",
       "30      52\n",
       "22      47\n",
       "29      41\n",
       "27      30\n",
       "35      27\n",
       "26      25\n",
       "25      20\n",
       "28      20\n",
       "31      11\n",
       "37      11\n",
       "32      10\n",
       "33      10\n",
       "34      10\n",
       "36      10\n",
       "38      10\n",
       "39      10\n",
       "40       8\n",
       "Name: Blink Count, dtype: int64"
      ]
     },
     "execution_count": 141,
     "metadata": {},
     "output_type": "execute_result"
    }
   ],
   "source": [
    "data['Blink Count'].value_counts()"
   ]
  },
  {
   "cell_type": "code",
   "execution_count": 142,
   "id": "61b4fc1a",
   "metadata": {},
   "outputs": [],
   "source": [
    "def Blink_set(value):\n",
    "    res=0\n",
    "    if value<0:\n",
    "        res=0\n",
    "    elif value>=0 and value<=5:\n",
    "        res=1\n",
    "    elif value>5 and value<=10:\n",
    "        res=2\n",
    "    elif value>10 and value<=15:\n",
    "        res=3\n",
    "    elif value>15 and value<=20:\n",
    "        res=4\n",
    "    elif value>20 and value<=25:\n",
    "        res=5\n",
    "    elif value>25 and value<=30:\n",
    "        res=6\n",
    "    elif value>30 and value<=35:\n",
    "        res=7\n",
    "    elif value>35 and value<=40:\n",
    "        res=8\n",
    "    elif value>40 and value<=45:\n",
    "        res=9\n",
    "    elif value>45 and value<=50:\n",
    "        res=10\n",
    "    else:\n",
    "        res=11\n",
    "        \n",
    "    return res"
   ]
  },
  {
   "cell_type": "code",
   "execution_count": 143,
   "id": "c9f1757d",
   "metadata": {},
   "outputs": [],
   "source": [
    "data['Blink Count'] = data['Blink Count'].apply(Blink_set)"
   ]
  },
  {
   "cell_type": "code",
   "execution_count": 144,
   "id": "eefda360",
   "metadata": {},
   "outputs": [
    {
     "data": {
      "text/html": [
       "<div>\n",
       "<style scoped>\n",
       "    .dataframe tbody tr th:only-of-type {\n",
       "        vertical-align: middle;\n",
       "    }\n",
       "\n",
       "    .dataframe tbody tr th {\n",
       "        vertical-align: top;\n",
       "    }\n",
       "\n",
       "    .dataframe thead th {\n",
       "        text-align: right;\n",
       "    }\n",
       "</style>\n",
       "<table border=\"1\" class=\"dataframe\">\n",
       "  <thead>\n",
       "    <tr style=\"text-align: right;\">\n",
       "      <th></th>\n",
       "      <th>yaw</th>\n",
       "      <th>pitch</th>\n",
       "      <th>roll</th>\n",
       "      <th>headpose_prediction</th>\n",
       "      <th>iris position</th>\n",
       "      <th>ratio</th>\n",
       "      <th>Blink Count</th>\n",
       "      <th>attention</th>\n",
       "    </tr>\n",
       "  </thead>\n",
       "  <tbody>\n",
       "    <tr>\n",
       "      <th>0</th>\n",
       "      <td>1</td>\n",
       "      <td>1</td>\n",
       "      <td>-1</td>\n",
       "      <td>0</td>\n",
       "      <td>0</td>\n",
       "      <td>5</td>\n",
       "      <td>1</td>\n",
       "      <td>1</td>\n",
       "    </tr>\n",
       "    <tr>\n",
       "      <th>1</th>\n",
       "      <td>1</td>\n",
       "      <td>1</td>\n",
       "      <td>-1</td>\n",
       "      <td>0</td>\n",
       "      <td>0</td>\n",
       "      <td>5</td>\n",
       "      <td>1</td>\n",
       "      <td>1</td>\n",
       "    </tr>\n",
       "    <tr>\n",
       "      <th>2</th>\n",
       "      <td>1</td>\n",
       "      <td>1</td>\n",
       "      <td>-1</td>\n",
       "      <td>0</td>\n",
       "      <td>0</td>\n",
       "      <td>5</td>\n",
       "      <td>1</td>\n",
       "      <td>1</td>\n",
       "    </tr>\n",
       "    <tr>\n",
       "      <th>3</th>\n",
       "      <td>1</td>\n",
       "      <td>1</td>\n",
       "      <td>-1</td>\n",
       "      <td>0</td>\n",
       "      <td>0</td>\n",
       "      <td>4</td>\n",
       "      <td>1</td>\n",
       "      <td>1</td>\n",
       "    </tr>\n",
       "    <tr>\n",
       "      <th>4</th>\n",
       "      <td>1</td>\n",
       "      <td>1</td>\n",
       "      <td>-1</td>\n",
       "      <td>0</td>\n",
       "      <td>0</td>\n",
       "      <td>4</td>\n",
       "      <td>1</td>\n",
       "      <td>1</td>\n",
       "    </tr>\n",
       "    <tr>\n",
       "      <th>...</th>\n",
       "      <td>...</td>\n",
       "      <td>...</td>\n",
       "      <td>...</td>\n",
       "      <td>...</td>\n",
       "      <td>...</td>\n",
       "      <td>...</td>\n",
       "      <td>...</td>\n",
       "      <td>...</td>\n",
       "    </tr>\n",
       "    <tr>\n",
       "      <th>7065</th>\n",
       "      <td>2</td>\n",
       "      <td>-1</td>\n",
       "      <td>-1</td>\n",
       "      <td>1</td>\n",
       "      <td>0</td>\n",
       "      <td>4</td>\n",
       "      <td>6</td>\n",
       "      <td>2</td>\n",
       "    </tr>\n",
       "    <tr>\n",
       "      <th>7066</th>\n",
       "      <td>2</td>\n",
       "      <td>-1</td>\n",
       "      <td>-1</td>\n",
       "      <td>1</td>\n",
       "      <td>0</td>\n",
       "      <td>4</td>\n",
       "      <td>6</td>\n",
       "      <td>2</td>\n",
       "    </tr>\n",
       "    <tr>\n",
       "      <th>7067</th>\n",
       "      <td>2</td>\n",
       "      <td>-1</td>\n",
       "      <td>-1</td>\n",
       "      <td>1</td>\n",
       "      <td>0</td>\n",
       "      <td>4</td>\n",
       "      <td>6</td>\n",
       "      <td>2</td>\n",
       "    </tr>\n",
       "    <tr>\n",
       "      <th>7068</th>\n",
       "      <td>2</td>\n",
       "      <td>-1</td>\n",
       "      <td>-1</td>\n",
       "      <td>1</td>\n",
       "      <td>0</td>\n",
       "      <td>4</td>\n",
       "      <td>6</td>\n",
       "      <td>2</td>\n",
       "    </tr>\n",
       "    <tr>\n",
       "      <th>7069</th>\n",
       "      <td>2</td>\n",
       "      <td>-1</td>\n",
       "      <td>-1</td>\n",
       "      <td>1</td>\n",
       "      <td>0</td>\n",
       "      <td>4</td>\n",
       "      <td>7</td>\n",
       "      <td>2</td>\n",
       "    </tr>\n",
       "  </tbody>\n",
       "</table>\n",
       "<p>7070 rows × 8 columns</p>\n",
       "</div>"
      ],
      "text/plain": [
       "      yaw  pitch  roll  headpose_prediction  iris position  ratio  \\\n",
       "0       1      1    -1                    0              0      5   \n",
       "1       1      1    -1                    0              0      5   \n",
       "2       1      1    -1                    0              0      5   \n",
       "3       1      1    -1                    0              0      4   \n",
       "4       1      1    -1                    0              0      4   \n",
       "...   ...    ...   ...                  ...            ...    ...   \n",
       "7065    2     -1    -1                    1              0      4   \n",
       "7066    2     -1    -1                    1              0      4   \n",
       "7067    2     -1    -1                    1              0      4   \n",
       "7068    2     -1    -1                    1              0      4   \n",
       "7069    2     -1    -1                    1              0      4   \n",
       "\n",
       "      Blink Count  attention  \n",
       "0               1          1  \n",
       "1               1          1  \n",
       "2               1          1  \n",
       "3               1          1  \n",
       "4               1          1  \n",
       "...           ...        ...  \n",
       "7065            6          2  \n",
       "7066            6          2  \n",
       "7067            6          2  \n",
       "7068            6          2  \n",
       "7069            7          2  \n",
       "\n",
       "[7070 rows x 8 columns]"
      ]
     },
     "execution_count": 144,
     "metadata": {},
     "output_type": "execute_result"
    }
   ],
   "source": [
    "data"
   ]
  },
  {
   "cell_type": "code",
   "execution_count": 145,
   "id": "2073d5bf",
   "metadata": {},
   "outputs": [
    {
     "data": {
      "text/plain": [
       "<Axes: >"
      ]
     },
     "execution_count": 145,
     "metadata": {},
     "output_type": "execute_result"
    },
    {
     "data": {
      "image/png": "[encoded data removed]",
      "text/plain": [
       "<Figure size 640x480 with 2 Axes>"
      ]
     },
     "metadata": {},
     "output_type": "display_data"
    }
   ],
   "source": [
    "sns.heatmap(data.isnull(),yticklabels=False, cmap=\"viridis\")"
   ]
  },
  {
   "cell_type": "code",
   "execution_count": 146,
   "id": "9a68b2d3",
   "metadata": {},
   "outputs": [
    {
     "data": {
      "text/plain": [
       "<Axes: xlabel='Blink Count', ylabel='attention'>"
      ]
     },
     "execution_count": 146,
     "metadata": {},
     "output_type": "execute_result"
    },
    {
     "data": {
      "image/png": "[encoded data removed]",
      "text/plain": [
       "<Figure size 640x480 with 1 Axes>"
      ]
     },
     "metadata": {},
     "output_type": "display_data"
    }
   ],
   "source": [
    "sns.boxplot(x='Blink Count',y='attention',data=data)"
   ]
  },
  {
   "cell_type": "code",
   "execution_count": 147,
   "id": "d07a17ec",
   "metadata": {},
   "outputs": [
    {
     "data": {
      "text/html": [
       "<div>\n",
       "<style scoped>\n",
       "    .dataframe tbody tr th:only-of-type {\n",
       "        vertical-align: middle;\n",
       "    }\n",
       "\n",
       "    .dataframe tbody tr th {\n",
       "        vertical-align: top;\n",
       "    }\n",
       "\n",
       "    .dataframe thead th {\n",
       "        text-align: right;\n",
       "    }\n",
       "</style>\n",
       "<table border=\"1\" class=\"dataframe\">\n",
       "  <thead>\n",
       "    <tr style=\"text-align: right;\">\n",
       "      <th></th>\n",
       "      <th>yaw</th>\n",
       "      <th>pitch</th>\n",
       "      <th>roll</th>\n",
       "      <th>headpose_prediction</th>\n",
       "      <th>iris position</th>\n",
       "      <th>ratio</th>\n",
       "      <th>Blink Count</th>\n",
       "      <th>attention</th>\n",
       "    </tr>\n",
       "  </thead>\n",
       "  <tbody>\n",
       "    <tr>\n",
       "      <th>0</th>\n",
       "      <td>1</td>\n",
       "      <td>1</td>\n",
       "      <td>-1</td>\n",
       "      <td>0</td>\n",
       "      <td>0</td>\n",
       "      <td>5</td>\n",
       "      <td>1</td>\n",
       "      <td>1</td>\n",
       "    </tr>\n",
       "    <tr>\n",
       "      <th>1</th>\n",
       "      <td>1</td>\n",
       "      <td>1</td>\n",
       "      <td>-1</td>\n",
       "      <td>0</td>\n",
       "      <td>0</td>\n",
       "      <td>5</td>\n",
       "      <td>1</td>\n",
       "      <td>1</td>\n",
       "    </tr>\n",
       "    <tr>\n",
       "      <th>2</th>\n",
       "      <td>1</td>\n",
       "      <td>1</td>\n",
       "      <td>-1</td>\n",
       "      <td>0</td>\n",
       "      <td>0</td>\n",
       "      <td>5</td>\n",
       "      <td>1</td>\n",
       "      <td>1</td>\n",
       "    </tr>\n",
       "    <tr>\n",
       "      <th>3</th>\n",
       "      <td>1</td>\n",
       "      <td>1</td>\n",
       "      <td>-1</td>\n",
       "      <td>0</td>\n",
       "      <td>0</td>\n",
       "      <td>4</td>\n",
       "      <td>1</td>\n",
       "      <td>1</td>\n",
       "    </tr>\n",
       "    <tr>\n",
       "      <th>4</th>\n",
       "      <td>1</td>\n",
       "      <td>1</td>\n",
       "      <td>-1</td>\n",
       "      <td>0</td>\n",
       "      <td>0</td>\n",
       "      <td>4</td>\n",
       "      <td>1</td>\n",
       "      <td>1</td>\n",
       "    </tr>\n",
       "    <tr>\n",
       "      <th>...</th>\n",
       "      <td>...</td>\n",
       "      <td>...</td>\n",
       "      <td>...</td>\n",
       "      <td>...</td>\n",
       "      <td>...</td>\n",
       "      <td>...</td>\n",
       "      <td>...</td>\n",
       "      <td>...</td>\n",
       "    </tr>\n",
       "    <tr>\n",
       "      <th>145</th>\n",
       "      <td>1</td>\n",
       "      <td>-1</td>\n",
       "      <td>-1</td>\n",
       "      <td>0</td>\n",
       "      <td>0</td>\n",
       "      <td>5</td>\n",
       "      <td>1</td>\n",
       "      <td>1</td>\n",
       "    </tr>\n",
       "    <tr>\n",
       "      <th>146</th>\n",
       "      <td>1</td>\n",
       "      <td>-1</td>\n",
       "      <td>-1</td>\n",
       "      <td>0</td>\n",
       "      <td>0</td>\n",
       "      <td>5</td>\n",
       "      <td>1</td>\n",
       "      <td>1</td>\n",
       "    </tr>\n",
       "    <tr>\n",
       "      <th>147</th>\n",
       "      <td>1</td>\n",
       "      <td>-1</td>\n",
       "      <td>-1</td>\n",
       "      <td>0</td>\n",
       "      <td>0</td>\n",
       "      <td>5</td>\n",
       "      <td>1</td>\n",
       "      <td>1</td>\n",
       "    </tr>\n",
       "    <tr>\n",
       "      <th>148</th>\n",
       "      <td>1</td>\n",
       "      <td>-1</td>\n",
       "      <td>-1</td>\n",
       "      <td>0</td>\n",
       "      <td>0</td>\n",
       "      <td>4</td>\n",
       "      <td>1</td>\n",
       "      <td>1</td>\n",
       "    </tr>\n",
       "    <tr>\n",
       "      <th>149</th>\n",
       "      <td>1</td>\n",
       "      <td>-1</td>\n",
       "      <td>-1</td>\n",
       "      <td>0</td>\n",
       "      <td>0</td>\n",
       "      <td>5</td>\n",
       "      <td>1</td>\n",
       "      <td>1</td>\n",
       "    </tr>\n",
       "  </tbody>\n",
       "</table>\n",
       "<p>150 rows × 8 columns</p>\n",
       "</div>"
      ],
      "text/plain": [
       "     yaw  pitch  roll  headpose_prediction  iris position  ratio  Blink Count  \\\n",
       "0      1      1    -1                    0              0      5            1   \n",
       "1      1      1    -1                    0              0      5            1   \n",
       "2      1      1    -1                    0              0      5            1   \n",
       "3      1      1    -1                    0              0      4            1   \n",
       "4      1      1    -1                    0              0      4            1   \n",
       "..   ...    ...   ...                  ...            ...    ...          ...   \n",
       "145    1     -1    -1                    0              0      5            1   \n",
       "146    1     -1    -1                    0              0      5            1   \n",
       "147    1     -1    -1                    0              0      5            1   \n",
       "148    1     -1    -1                    0              0      4            1   \n",
       "149    1     -1    -1                    0              0      5            1   \n",
       "\n",
       "     attention  \n",
       "0            1  \n",
       "1            1  \n",
       "2            1  \n",
       "3            1  \n",
       "4            1  \n",
       "..         ...  \n",
       "145          1  \n",
       "146          1  \n",
       "147          1  \n",
       "148          1  \n",
       "149          1  \n",
       "\n",
       "[150 rows x 8 columns]"
      ]
     },
     "execution_count": 147,
     "metadata": {},
     "output_type": "execute_result"
    }
   ],
   "source": [
    "data.head(150)"
   ]
  },
  {
   "cell_type": "code",
   "execution_count": 148,
   "id": "e243e5bb",
   "metadata": {},
   "outputs": [
    {
     "data": {
      "text/plain": [
       "(7070, 8)"
      ]
     },
     "execution_count": 148,
     "metadata": {},
     "output_type": "execute_result"
    }
   ],
   "source": [
    "data.shape"
   ]
  },
  {
   "cell_type": "code",
   "execution_count": 149,
   "id": "4cab99b1",
   "metadata": {},
   "outputs": [
    {
     "data": {
      "text/plain": [
       "<Axes: xlabel='iris position', ylabel='attention'>"
      ]
     },
     "execution_count": 149,
     "metadata": {},
     "output_type": "execute_result"
    },
    {
     "data": {
      "image/png": "[encoded data removed]",
      "text/plain": [
       "<Figure size 640x480 with 1 Axes>"
      ]
     },
     "metadata": {},
     "output_type": "display_data"
    }
   ],
   "source": [
    "sns.boxplot(x='iris position',y='attention',data=data)"
   ]
  },
  {
   "cell_type": "code",
   "execution_count": 150,
   "id": "2a0a8199",
   "metadata": {},
   "outputs": [],
   "source": [
    "X = data.drop('attention', axis=1)\n",
    "y = data['attention']"
   ]
  },
  {
   "cell_type": "code",
   "execution_count": 151,
   "id": "0035507f",
   "metadata": {},
   "outputs": [],
   "source": [
    "from sklearn.model_selection import train_test_split\n",
    "X_train, X_test, y_train, y_test = train_test_split(X, y, test_size = 0.25)"
   ]
  },
  {
   "cell_type": "code",
   "execution_count": 152,
   "id": "89880f2d",
   "metadata": {},
   "outputs": [
    {
     "data": {
      "text/plain": [
       "((5302, 7), (7070, 7))"
      ]
     },
     "execution_count": 152,
     "metadata": {},
     "output_type": "execute_result"
    }
   ],
   "source": [
    "X_train.shape, X.shape"
   ]
  },
  {
   "cell_type": "code",
   "execution_count": 153,
   "id": "e3df0cf2",
   "metadata": {},
   "outputs": [
    {
     "data": {
      "text/plain": [
       "4217    0\n",
       "3490    0\n",
       "2163    1\n",
       "1544    1\n",
       "3292    0\n",
       "       ..\n",
       "1297    1\n",
       "5503    2\n",
       "2771    0\n",
       "4916    0\n",
       "7000    2\n",
       "Name: attention, Length: 5302, dtype: int64"
      ]
     },
     "execution_count": 153,
     "metadata": {},
     "output_type": "execute_result"
    }
   ],
   "source": [
    "y_train"
   ]
  },
  {
   "cell_type": "code",
   "execution_count": 154,
   "id": "d9ff37a5",
   "metadata": {},
   "outputs": [],
   "source": [
    "def model_acc(model):\n",
    "    model.fit(X_train, y_train)\n",
    "    acc = model.score(X_test, y_test)\n",
    "    print(str(model)+ ' --> ' +str(acc))"
   ]
  },
  {
   "cell_type": "code",
   "execution_count": 155,
   "id": "1fd41bde",
   "metadata": {},
   "outputs": [
    {
     "name": "stdout",
     "output_type": "stream",
     "text": [
      "LinearRegression() --> 0.08805539119830696\n",
      "Lasso() --> -0.0001484289983140208\n",
      "DecisionTreeRegressor() --> 0.4213016728962442\n",
      "RandomForestRegressor() --> 0.4544889545036368\n"
     ]
    }
   ],
   "source": [
    "from sklearn.linear_model import LinearRegression\n",
    "lr = LinearRegression()\n",
    "model_acc(lr)\n",
    "\n",
    "from sklearn.linear_model import Lasso\n",
    "lasso = Lasso()\n",
    "model_acc(lasso)\n",
    "\n",
    "from sklearn.tree import DecisionTreeRegressor\n",
    "dt = DecisionTreeRegressor()\n",
    "model_acc(dt)\n",
    "\n",
    "from sklearn.ensemble import RandomForestRegressor\n",
    "rf = RandomForestRegressor()\n",
    "model_acc(rf)"
   ]
  },
  {
   "cell_type": "code",
   "execution_count": 156,
   "id": "536576b3",
   "metadata": {},
   "outputs": [
    {
     "data": {
      "text/plain": [
       "0.45665873950027214"
      ]
     },
     "execution_count": 156,
     "metadata": {},
     "output_type": "execute_result"
    }
   ],
   "source": [
    "reg = rf.fit(X_train, y_train)\n",
    "\n",
    "reg.score(X_test, y_test)"
   ]
  },
  {
   "cell_type": "code",
   "execution_count": 157,
   "id": "c5cebd70",
   "metadata": {},
   "outputs": [],
   "source": [
    "import pickle\n",
    "# save model to file\n",
    "pickle.dump(reg, open(\"attention_model.dat\", \"wb\"))"
   ]
  },
  {
   "cell_type": "code",
   "execution_count": 158,
   "id": "504addb4",
   "metadata": {},
   "outputs": [
    {
     "name": "stderr",
     "output_type": "stream",
     "text": [
      "C:\\ProgramData\\Anaconda3\\lib\\site-packages\\sklearn\\base.py:420: UserWarning: X does not have valid feature names, but RandomForestRegressor was fitted with feature names\n",
      "  warnings.warn(\n"
     ]
    },
    {
     "data": {
      "text/plain": [
       "0"
      ]
     },
     "execution_count": 158,
     "metadata": {},
     "output_type": "execute_result"
    }
   ],
   "source": [
    "import math\n",
    "int(np.round(reg.predict([[1,1,-1,0,0,5,11]]),0))"
   ]
  },
  {
   "cell_type": "code",
   "execution_count": 159,
   "id": "57918902",
   "metadata": {},
   "outputs": [],
   "source": [
    "predict=np.round(reg.predict(X_test))"
   ]
  },
  {
   "cell_type": "code",
   "execution_count": 160,
   "id": "529d900f",
   "metadata": {},
   "outputs": [
    {
     "name": "stdout",
     "output_type": "stream",
     "text": [
      "<class 'numpy.ndarray'>\n",
      "<class 'pandas.core.series.Series'>\n"
     ]
    },
    {
     "data": {
      "image/png": "[encoded data removed]",
      "text/plain": [
       "<Figure size 1600x500 with 1 Axes>"
      ]
     },
     "metadata": {},
     "output_type": "display_data"
    }
   ],
   "source": [
    "A = np.array(y_test).reshape(-1, 1)\n",
    "B = predict.reshape(-1, 1)\n",
    "print(type(predict))\n",
    "print(type(y_test))\n",
    "plt.rcParams['figure.figsize'] = 16,5\n",
    "plt.figure()\n",
    "plt.plot(A[-100:], label=\"Real\")\n",
    "plt.plot(B[-100:], label=\"Predicted\")\n",
    "plt.legend()\n",
    "plt.title(\"Result : real vs predicted\")\n",
    "plt.ylabel(\"Result\")\n",
    "plt.xticks(())\n",
    "plt.show()"
   ]
  },
  {
   "cell_type": "code",
   "execution_count": 161,
   "id": "19ab9538",
   "metadata": {},
   "outputs": [
    {
     "data": {
      "text/plain": [
       "array([0.        , 1.22227271, 1.00342052, ..., 1.22227271, 1.00342052,\n",
       "       0.9321589 ])"
      ]
     },
     "execution_count": 161,
     "metadata": {},
     "output_type": "execute_result"
    }
   ],
   "source": [
    "reg.predict(X_test)"
   ]
  },
  {
   "cell_type": "code",
   "execution_count": 163,
   "id": "c970b4de",
   "metadata": {},
   "outputs": [],
   "source": [
    "with open('attention_model.dat' , 'rb') as f:\n",
    "    model = pickle.load(f)"
   ]
  },
  {
   "cell_type": "code",
   "execution_count": 165,
   "id": "dd59bbf4",
   "metadata": {},
   "outputs": [
    {
     "name": "stderr",
     "output_type": "stream",
     "text": [
      "C:\\ProgramData\\Anaconda3\\lib\\site-packages\\sklearn\\base.py:420: UserWarning: X does not have valid feature names, but RandomForestRegressor was fitted with feature names\n",
      "  warnings.warn(\n"
     ]
    },
    {
     "data": {
      "text/plain": [
       "1"
      ]
     },
     "execution_count": 165,
     "metadata": {},
     "output_type": "execute_result"
    }
   ],
   "source": [
    "math.ceil(model.predict([[1,1,-1,0,0,4,1]]))"
   ]
  },
  {
   "cell_type": "code",
   "execution_count": null,
   "id": "9db2fb4e",
   "metadata": {},
   "outputs": [],
   "source": []
  }
 ],
 "metadata": {
  "kernelspec": {
   "display_name": "Python 3",
   "language": "python",
   "name": "python3"
  },
  "language_info": {
   "codemirror_mode": {
    "name": "ipython",
    "version": 3
   },
   "file_extension": ".py",
   "mimetype": "text/x-python",
   "name": "python",
   "nbconvert_exporter": "python",
   "pygments_lexer": "ipython3",
   "version": "3.10.9"
  }
 },
 "nbformat": 4,
 "nbformat_minor": 5
}
