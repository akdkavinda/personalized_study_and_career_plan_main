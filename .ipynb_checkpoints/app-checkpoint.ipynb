{
 "cells": [
  {
   "cell_type": "code",
   "execution_count": 1,
   "id": "63bd0d9a",
   "metadata": {},
   "outputs": [],
   "source": [
    "import numpy as np\n",
    "import pandas as pd\n",
    "import matplotlib.pyplot as plt\n",
    "import seaborn as sns"
   ]
  },
  {
   "cell_type": "code",
   "execution_count": 2,
   "id": "4ba4c8a4",
   "metadata": {},
   "outputs": [],
   "source": [
    "data = pd.read_csv('Application_Details.csv', encoding='latin-1')"
   ]
  },
  {
   "cell_type": "code",
   "execution_count": 3,
   "id": "f4d51e43",
   "metadata": {},
   "outputs": [
    {
     "data": {
      "text/html": [
       "<div>\n",
       "<style scoped>\n",
       "    .dataframe tbody tr th:only-of-type {\n",
       "        vertical-align: middle;\n",
       "    }\n",
       "\n",
       "    .dataframe tbody tr th {\n",
       "        vertical-align: top;\n",
       "    }\n",
       "\n",
       "    .dataframe thead th {\n",
       "        text-align: right;\n",
       "    }\n",
       "</style>\n",
       "<table border=\"1\" class=\"dataframe\">\n",
       "  <thead>\n",
       "    <tr style=\"text-align: right;\">\n",
       "      <th></th>\n",
       "      <th>ï»¿</th>\n",
       "      <th>Word</th>\n",
       "      <th>Excel</th>\n",
       "      <th>Power Point</th>\n",
       "      <th>Google Chrome</th>\n",
       "      <th>Spss</th>\n",
       "      <th>KMPlayer</th>\n",
       "      <th>Zoom</th>\n",
       "      <th>Vscode</th>\n",
       "      <th>NetBeans</th>\n",
       "      <th>Microsoft Teams</th>\n",
       "      <th>Total(min)</th>\n",
       "      <th>Application usage time more than 360 min mean good</th>\n",
       "      <th>results</th>\n",
       "    </tr>\n",
       "  </thead>\n",
       "  <tbody>\n",
       "    <tr>\n",
       "      <th>0</th>\n",
       "      <td>Emp0001</td>\n",
       "      <td>120</td>\n",
       "      <td>45</td>\n",
       "      <td>0</td>\n",
       "      <td>50</td>\n",
       "      <td>0</td>\n",
       "      <td>30</td>\n",
       "      <td>0</td>\n",
       "      <td>200</td>\n",
       "      <td>0</td>\n",
       "      <td>40</td>\n",
       "      <td>485</td>\n",
       "      <td>Good</td>\n",
       "      <td>Normal</td>\n",
       "    </tr>\n",
       "    <tr>\n",
       "      <th>1</th>\n",
       "      <td>Emp0002</td>\n",
       "      <td>10</td>\n",
       "      <td>70</td>\n",
       "      <td>20</td>\n",
       "      <td>40</td>\n",
       "      <td>20</td>\n",
       "      <td>0</td>\n",
       "      <td>60</td>\n",
       "      <td>50</td>\n",
       "      <td>120</td>\n",
       "      <td>0</td>\n",
       "      <td>390</td>\n",
       "      <td>Good</td>\n",
       "      <td>Normal</td>\n",
       "    </tr>\n",
       "    <tr>\n",
       "      <th>2</th>\n",
       "      <td>Emp0003</td>\n",
       "      <td>54</td>\n",
       "      <td>0</td>\n",
       "      <td>0</td>\n",
       "      <td>20</td>\n",
       "      <td>0</td>\n",
       "      <td>0</td>\n",
       "      <td>60</td>\n",
       "      <td>30</td>\n",
       "      <td>120</td>\n",
       "      <td>0</td>\n",
       "      <td>284</td>\n",
       "      <td>Bad</td>\n",
       "      <td>Poor</td>\n",
       "    </tr>\n",
       "    <tr>\n",
       "      <th>3</th>\n",
       "      <td>Emp0004</td>\n",
       "      <td>23</td>\n",
       "      <td>0</td>\n",
       "      <td>30</td>\n",
       "      <td>30</td>\n",
       "      <td>0</td>\n",
       "      <td>0</td>\n",
       "      <td>90</td>\n",
       "      <td>90</td>\n",
       "      <td>320</td>\n",
       "      <td>0</td>\n",
       "      <td>583</td>\n",
       "      <td>Good</td>\n",
       "      <td>Good</td>\n",
       "    </tr>\n",
       "    <tr>\n",
       "      <th>4</th>\n",
       "      <td>Emp0005</td>\n",
       "      <td>56</td>\n",
       "      <td>0</td>\n",
       "      <td>45</td>\n",
       "      <td>0</td>\n",
       "      <td>50</td>\n",
       "      <td>0</td>\n",
       "      <td>30</td>\n",
       "      <td>90</td>\n",
       "      <td>200</td>\n",
       "      <td>0</td>\n",
       "      <td>471</td>\n",
       "      <td>Good</td>\n",
       "      <td>Normal</td>\n",
       "    </tr>\n",
       "  </tbody>\n",
       "</table>\n",
       "</div>"
      ],
      "text/plain": [
       "       ï»¿  Word  Excel  Power Point  Google Chrome  Spss  KMPlayer  Zoom  \\\n",
       "0  Emp0001   120     45            0             50     0        30     0   \n",
       "1  Emp0002    10     70           20             40    20         0    60   \n",
       "2  Emp0003    54      0            0             20     0         0    60   \n",
       "3  Emp0004    23      0           30             30     0         0    90   \n",
       "4  Emp0005    56      0           45              0    50         0    30   \n",
       "\n",
       "   Vscode  NetBeans  Microsoft Teams  Total(min)  \\\n",
       "0     200         0               40         485   \n",
       "1      50       120                0         390   \n",
       "2      30       120                0         284   \n",
       "3      90       320                0         583   \n",
       "4      90       200                0         471   \n",
       "\n",
       "  Application usage time more than 360 min mean good results  \n",
       "0                                               Good  Normal  \n",
       "1                                               Good  Normal  \n",
       "2                                                Bad    Poor  \n",
       "3                                               Good    Good  \n",
       "4                                               Good  Normal  "
      ]
     },
     "execution_count": 3,
     "metadata": {},
     "output_type": "execute_result"
    }
   ],
   "source": [
    "data.head()"
   ]
  },
  {
   "cell_type": "code",
   "execution_count": 4,
   "id": "be01f50a",
   "metadata": {},
   "outputs": [
    {
     "data": {
      "text/plain": [
       "(100, 14)"
      ]
     },
     "execution_count": 4,
     "metadata": {},
     "output_type": "execute_result"
    }
   ],
   "source": [
    "data.shape"
   ]
  },
  {
   "cell_type": "code",
   "execution_count": 5,
   "id": "3ecad623",
   "metadata": {},
   "outputs": [
    {
     "data": {
      "text/plain": [
       "ï»¿                                                   0\n",
       "Word                                                  0\n",
       "Excel                                                 0\n",
       "Power Point                                           0\n",
       "Google Chrome                                         0\n",
       "Spss                                                  0\n",
       "KMPlayer                                              0\n",
       "Zoom                                                  0\n",
       "Vscode                                                0\n",
       "NetBeans                                              0\n",
       "Microsoft Teams                                       0\n",
       "Total(min)                                            0\n",
       "Application usage time more than 360 min mean good    0\n",
       "results                                               0\n",
       "dtype: int64"
      ]
     },
     "execution_count": 5,
     "metadata": {},
     "output_type": "execute_result"
    }
   ],
   "source": [
    "data.isnull().sum()"
   ]
  },
  {
   "cell_type": "code",
   "execution_count": 6,
   "id": "ba1c660e",
   "metadata": {},
   "outputs": [
    {
     "name": "stdout",
     "output_type": "stream",
     "text": [
      "<class 'pandas.core.frame.DataFrame'>\n",
      "RangeIndex: 100 entries, 0 to 99\n",
      "Data columns (total 14 columns):\n",
      " #   Column                                              Non-Null Count  Dtype \n",
      "---  ------                                              --------------  ----- \n",
      " 0   ï»¿                                                 100 non-null    object\n",
      " 1   Word                                                100 non-null    int64 \n",
      " 2   Excel                                               100 non-null    int64 \n",
      " 3   Power Point                                         100 non-null    int64 \n",
      " 4   Google Chrome                                       100 non-null    int64 \n",
      " 5   Spss                                                100 non-null    int64 \n",
      " 6   KMPlayer                                            100 non-null    int64 \n",
      " 7   Zoom                                                100 non-null    int64 \n",
      " 8   Vscode                                              100 non-null    int64 \n",
      " 9   NetBeans                                            100 non-null    int64 \n",
      " 10  Microsoft Teams                                     100 non-null    int64 \n",
      " 11  Total(min)                                          100 non-null    int64 \n",
      " 12  Application usage time more than 360 min mean good  100 non-null    object\n",
      " 13  results                                             100 non-null    object\n",
      "dtypes: int64(11), object(3)\n",
      "memory usage: 11.1+ KB\n"
     ]
    }
   ],
   "source": [
    "data.info()"
   ]
  },
  {
   "cell_type": "code",
   "execution_count": 7,
   "id": "2a4f92e6",
   "metadata": {},
   "outputs": [],
   "source": [
    "data['results']=data['results'].str.replace('Poor','0')\n",
    "data['results']=data['results'].str.replace('Normal','1')\n",
    "data['results']=data['results'].str.replace('Good','2')\n",
    "data['results']=data['results'].str.replace('Excellent','3')"
   ]
  },
  {
   "cell_type": "code",
   "execution_count": 8,
   "id": "08c4a684",
   "metadata": {},
   "outputs": [
    {
     "data": {
      "text/html": [
       "<div>\n",
       "<style scoped>\n",
       "    .dataframe tbody tr th:only-of-type {\n",
       "        vertical-align: middle;\n",
       "    }\n",
       "\n",
       "    .dataframe tbody tr th {\n",
       "        vertical-align: top;\n",
       "    }\n",
       "\n",
       "    .dataframe thead th {\n",
       "        text-align: right;\n",
       "    }\n",
       "</style>\n",
       "<table border=\"1\" class=\"dataframe\">\n",
       "  <thead>\n",
       "    <tr style=\"text-align: right;\">\n",
       "      <th></th>\n",
       "      <th>ï»¿</th>\n",
       "      <th>Word</th>\n",
       "      <th>Excel</th>\n",
       "      <th>Power Point</th>\n",
       "      <th>Google Chrome</th>\n",
       "      <th>Spss</th>\n",
       "      <th>KMPlayer</th>\n",
       "      <th>Zoom</th>\n",
       "      <th>Vscode</th>\n",
       "      <th>NetBeans</th>\n",
       "      <th>Microsoft Teams</th>\n",
       "      <th>Total(min)</th>\n",
       "      <th>Application usage time more than 360 min mean good</th>\n",
       "      <th>results</th>\n",
       "    </tr>\n",
       "  </thead>\n",
       "  <tbody>\n",
       "    <tr>\n",
       "      <th>0</th>\n",
       "      <td>Emp0001</td>\n",
       "      <td>120</td>\n",
       "      <td>45</td>\n",
       "      <td>0</td>\n",
       "      <td>50</td>\n",
       "      <td>0</td>\n",
       "      <td>30</td>\n",
       "      <td>0</td>\n",
       "      <td>200</td>\n",
       "      <td>0</td>\n",
       "      <td>40</td>\n",
       "      <td>485</td>\n",
       "      <td>Good</td>\n",
       "      <td>1</td>\n",
       "    </tr>\n",
       "    <tr>\n",
       "      <th>1</th>\n",
       "      <td>Emp0002</td>\n",
       "      <td>10</td>\n",
       "      <td>70</td>\n",
       "      <td>20</td>\n",
       "      <td>40</td>\n",
       "      <td>20</td>\n",
       "      <td>0</td>\n",
       "      <td>60</td>\n",
       "      <td>50</td>\n",
       "      <td>120</td>\n",
       "      <td>0</td>\n",
       "      <td>390</td>\n",
       "      <td>Good</td>\n",
       "      <td>1</td>\n",
       "    </tr>\n",
       "    <tr>\n",
       "      <th>2</th>\n",
       "      <td>Emp0003</td>\n",
       "      <td>54</td>\n",
       "      <td>0</td>\n",
       "      <td>0</td>\n",
       "      <td>20</td>\n",
       "      <td>0</td>\n",
       "      <td>0</td>\n",
       "      <td>60</td>\n",
       "      <td>30</td>\n",
       "      <td>120</td>\n",
       "      <td>0</td>\n",
       "      <td>284</td>\n",
       "      <td>Bad</td>\n",
       "      <td>0</td>\n",
       "    </tr>\n",
       "    <tr>\n",
       "      <th>3</th>\n",
       "      <td>Emp0004</td>\n",
       "      <td>23</td>\n",
       "      <td>0</td>\n",
       "      <td>30</td>\n",
       "      <td>30</td>\n",
       "      <td>0</td>\n",
       "      <td>0</td>\n",
       "      <td>90</td>\n",
       "      <td>90</td>\n",
       "      <td>320</td>\n",
       "      <td>0</td>\n",
       "      <td>583</td>\n",
       "      <td>Good</td>\n",
       "      <td>2</td>\n",
       "    </tr>\n",
       "    <tr>\n",
       "      <th>4</th>\n",
       "      <td>Emp0005</td>\n",
       "      <td>56</td>\n",
       "      <td>0</td>\n",
       "      <td>45</td>\n",
       "      <td>0</td>\n",
       "      <td>50</td>\n",
       "      <td>0</td>\n",
       "      <td>30</td>\n",
       "      <td>90</td>\n",
       "      <td>200</td>\n",
       "      <td>0</td>\n",
       "      <td>471</td>\n",
       "      <td>Good</td>\n",
       "      <td>1</td>\n",
       "    </tr>\n",
       "  </tbody>\n",
       "</table>\n",
       "</div>"
      ],
      "text/plain": [
       "       ï»¿  Word  Excel  Power Point  Google Chrome  Spss  KMPlayer  Zoom  \\\n",
       "0  Emp0001   120     45            0             50     0        30     0   \n",
       "1  Emp0002    10     70           20             40    20         0    60   \n",
       "2  Emp0003    54      0            0             20     0         0    60   \n",
       "3  Emp0004    23      0           30             30     0         0    90   \n",
       "4  Emp0005    56      0           45              0    50         0    30   \n",
       "\n",
       "   Vscode  NetBeans  Microsoft Teams  Total(min)  \\\n",
       "0     200         0               40         485   \n",
       "1      50       120                0         390   \n",
       "2      30       120                0         284   \n",
       "3      90       320                0         583   \n",
       "4      90       200                0         471   \n",
       "\n",
       "  Application usage time more than 360 min mean good results  \n",
       "0                                               Good       1  \n",
       "1                                               Good       1  \n",
       "2                                                Bad       0  \n",
       "3                                               Good       2  \n",
       "4                                               Good       1  "
      ]
     },
     "execution_count": 8,
     "metadata": {},
     "output_type": "execute_result"
    }
   ],
   "source": [
    "data.head()"
   ]
  },
  {
   "cell_type": "code",
   "execution_count": 9,
   "id": "b1684766",
   "metadata": {},
   "outputs": [
    {
     "name": "stdout",
     "output_type": "stream",
     "text": [
      "<class 'pandas.core.frame.DataFrame'>\n",
      "RangeIndex: 100 entries, 0 to 99\n",
      "Data columns (total 14 columns):\n",
      " #   Column                                              Non-Null Count  Dtype \n",
      "---  ------                                              --------------  ----- \n",
      " 0   ï»¿                                                 100 non-null    object\n",
      " 1   Word                                                100 non-null    int64 \n",
      " 2   Excel                                               100 non-null    int64 \n",
      " 3   Power Point                                         100 non-null    int64 \n",
      " 4   Google Chrome                                       100 non-null    int64 \n",
      " 5   Spss                                                100 non-null    int64 \n",
      " 6   KMPlayer                                            100 non-null    int64 \n",
      " 7   Zoom                                                100 non-null    int64 \n",
      " 8   Vscode                                              100 non-null    int64 \n",
      " 9   NetBeans                                            100 non-null    int64 \n",
      " 10  Microsoft Teams                                     100 non-null    int64 \n",
      " 11  Total(min)                                          100 non-null    int64 \n",
      " 12  Application usage time more than 360 min mean good  100 non-null    object\n",
      " 13  results                                             100 non-null    object\n",
      "dtypes: int64(11), object(3)\n",
      "memory usage: 11.1+ KB\n"
     ]
    }
   ],
   "source": [
    "data.info()"
   ]
  },
  {
   "cell_type": "code",
   "execution_count": 10,
   "id": "28ae1408",
   "metadata": {},
   "outputs": [],
   "source": [
    "data['results'] = data['results'].apply(np.int64)"
   ]
  },
  {
   "cell_type": "code",
   "execution_count": 11,
   "id": "922746d4",
   "metadata": {},
   "outputs": [
    {
     "name": "stdout",
     "output_type": "stream",
     "text": [
      "<class 'pandas.core.frame.DataFrame'>\n",
      "RangeIndex: 100 entries, 0 to 99\n",
      "Data columns (total 14 columns):\n",
      " #   Column                                              Non-Null Count  Dtype \n",
      "---  ------                                              --------------  ----- \n",
      " 0   ï»¿                                                 100 non-null    object\n",
      " 1   Word                                                100 non-null    int64 \n",
      " 2   Excel                                               100 non-null    int64 \n",
      " 3   Power Point                                         100 non-null    int64 \n",
      " 4   Google Chrome                                       100 non-null    int64 \n",
      " 5   Spss                                                100 non-null    int64 \n",
      " 6   KMPlayer                                            100 non-null    int64 \n",
      " 7   Zoom                                                100 non-null    int64 \n",
      " 8   Vscode                                              100 non-null    int64 \n",
      " 9   NetBeans                                            100 non-null    int64 \n",
      " 10  Microsoft Teams                                     100 non-null    int64 \n",
      " 11  Total(min)                                          100 non-null    int64 \n",
      " 12  Application usage time more than 360 min mean good  100 non-null    object\n",
      " 13  results                                             100 non-null    int64 \n",
      "dtypes: int64(12), object(2)\n",
      "memory usage: 11.1+ KB\n"
     ]
    }
   ],
   "source": [
    "data.info()"
   ]
  },
  {
   "cell_type": "code",
   "execution_count": 12,
   "id": "a8796ba3",
   "metadata": {},
   "outputs": [
    {
     "data": {
      "text/plain": [
       "0      12\n",
       "45      7\n",
       "120     5\n",
       "60      5\n",
       "150     4\n",
       "30      4\n",
       "46      4\n",
       "90      4\n",
       "320     3\n",
       "80      3\n",
       "78      3\n",
       "70      3\n",
       "26      2\n",
       "300     2\n",
       "400     2\n",
       "10      2\n",
       "56      2\n",
       "54      2\n",
       "76      2\n",
       "79      2\n",
       "345     2\n",
       "65      1\n",
       "360     1\n",
       "130     1\n",
       "4       1\n",
       "245     1\n",
       "140     1\n",
       "13      1\n",
       "240     1\n",
       "145     1\n",
       "18      1\n",
       "20      1\n",
       "146     1\n",
       "354     1\n",
       "23      1\n",
       "450     1\n",
       "94      1\n",
       "368     1\n",
       "160     1\n",
       "40      1\n",
       "170     1\n",
       "154     1\n",
       "138     1\n",
       "315     1\n",
       "69      1\n",
       "380     1\n",
       "Name: Word, dtype: int64"
      ]
     },
     "execution_count": 12,
     "metadata": {},
     "output_type": "execute_result"
    }
   ],
   "source": [
    "data['Word'].value_counts()"
   ]
  },
  {
   "cell_type": "code",
   "execution_count": 13,
   "id": "3ea7b575",
   "metadata": {},
   "outputs": [],
   "source": [
    "def minutes_to_hours(minutes):\n",
    "    hours=minutes//60\n",
    "    if minutes%60 > 30:\n",
    "        hours+1\n",
    "        \n",
    "    return hours\n",
    "    "
   ]
  },
  {
   "cell_type": "code",
   "execution_count": 14,
   "id": "2db315d3",
   "metadata": {},
   "outputs": [],
   "source": [
    "data['Word'] = data['Word'].apply(minutes_to_hours)"
   ]
  },
  {
   "cell_type": "code",
   "execution_count": 15,
   "id": "6e48a21f",
   "metadata": {},
   "outputs": [
    {
     "data": {
      "text/plain": [
       "0    41\n",
       "1    25\n",
       "2    17\n",
       "5     9\n",
       "6     5\n",
       "4     2\n",
       "7     1\n",
       "Name: Word, dtype: int64"
      ]
     },
     "execution_count": 15,
     "metadata": {},
     "output_type": "execute_result"
    }
   ],
   "source": [
    "data['Word'].value_counts()"
   ]
  },
  {
   "cell_type": "code",
   "execution_count": 16,
   "id": "22f2ab9a",
   "metadata": {},
   "outputs": [
    {
     "data": {
      "text/html": [
       "<div>\n",
       "<style scoped>\n",
       "    .dataframe tbody tr th:only-of-type {\n",
       "        vertical-align: middle;\n",
       "    }\n",
       "\n",
       "    .dataframe tbody tr th {\n",
       "        vertical-align: top;\n",
       "    }\n",
       "\n",
       "    .dataframe thead th {\n",
       "        text-align: right;\n",
       "    }\n",
       "</style>\n",
       "<table border=\"1\" class=\"dataframe\">\n",
       "  <thead>\n",
       "    <tr style=\"text-align: right;\">\n",
       "      <th></th>\n",
       "      <th>ï»¿</th>\n",
       "      <th>Word</th>\n",
       "      <th>Excel</th>\n",
       "      <th>Power Point</th>\n",
       "      <th>Google Chrome</th>\n",
       "      <th>Spss</th>\n",
       "      <th>KMPlayer</th>\n",
       "      <th>Zoom</th>\n",
       "      <th>Vscode</th>\n",
       "      <th>NetBeans</th>\n",
       "      <th>Microsoft Teams</th>\n",
       "      <th>Total(min)</th>\n",
       "      <th>Application usage time more than 360 min mean good</th>\n",
       "      <th>results</th>\n",
       "    </tr>\n",
       "  </thead>\n",
       "  <tbody>\n",
       "    <tr>\n",
       "      <th>0</th>\n",
       "      <td>Emp0001</td>\n",
       "      <td>2</td>\n",
       "      <td>45</td>\n",
       "      <td>0</td>\n",
       "      <td>50</td>\n",
       "      <td>0</td>\n",
       "      <td>30</td>\n",
       "      <td>0</td>\n",
       "      <td>200</td>\n",
       "      <td>0</td>\n",
       "      <td>40</td>\n",
       "      <td>485</td>\n",
       "      <td>Good</td>\n",
       "      <td>1</td>\n",
       "    </tr>\n",
       "    <tr>\n",
       "      <th>1</th>\n",
       "      <td>Emp0002</td>\n",
       "      <td>0</td>\n",
       "      <td>70</td>\n",
       "      <td>20</td>\n",
       "      <td>40</td>\n",
       "      <td>20</td>\n",
       "      <td>0</td>\n",
       "      <td>60</td>\n",
       "      <td>50</td>\n",
       "      <td>120</td>\n",
       "      <td>0</td>\n",
       "      <td>390</td>\n",
       "      <td>Good</td>\n",
       "      <td>1</td>\n",
       "    </tr>\n",
       "    <tr>\n",
       "      <th>2</th>\n",
       "      <td>Emp0003</td>\n",
       "      <td>0</td>\n",
       "      <td>0</td>\n",
       "      <td>0</td>\n",
       "      <td>20</td>\n",
       "      <td>0</td>\n",
       "      <td>0</td>\n",
       "      <td>60</td>\n",
       "      <td>30</td>\n",
       "      <td>120</td>\n",
       "      <td>0</td>\n",
       "      <td>284</td>\n",
       "      <td>Bad</td>\n",
       "      <td>0</td>\n",
       "    </tr>\n",
       "    <tr>\n",
       "      <th>3</th>\n",
       "      <td>Emp0004</td>\n",
       "      <td>0</td>\n",
       "      <td>0</td>\n",
       "      <td>30</td>\n",
       "      <td>30</td>\n",
       "      <td>0</td>\n",
       "      <td>0</td>\n",
       "      <td>90</td>\n",
       "      <td>90</td>\n",
       "      <td>320</td>\n",
       "      <td>0</td>\n",
       "      <td>583</td>\n",
       "      <td>Good</td>\n",
       "      <td>2</td>\n",
       "    </tr>\n",
       "    <tr>\n",
       "      <th>4</th>\n",
       "      <td>Emp0005</td>\n",
       "      <td>0</td>\n",
       "      <td>0</td>\n",
       "      <td>45</td>\n",
       "      <td>0</td>\n",
       "      <td>50</td>\n",
       "      <td>0</td>\n",
       "      <td>30</td>\n",
       "      <td>90</td>\n",
       "      <td>200</td>\n",
       "      <td>0</td>\n",
       "      <td>471</td>\n",
       "      <td>Good</td>\n",
       "      <td>1</td>\n",
       "    </tr>\n",
       "  </tbody>\n",
       "</table>\n",
       "</div>"
      ],
      "text/plain": [
       "       ï»¿  Word  Excel  Power Point  Google Chrome  Spss  KMPlayer  Zoom  \\\n",
       "0  Emp0001     2     45            0             50     0        30     0   \n",
       "1  Emp0002     0     70           20             40    20         0    60   \n",
       "2  Emp0003     0      0            0             20     0         0    60   \n",
       "3  Emp0004     0      0           30             30     0         0    90   \n",
       "4  Emp0005     0      0           45              0    50         0    30   \n",
       "\n",
       "   Vscode  NetBeans  Microsoft Teams  Total(min)  \\\n",
       "0     200         0               40         485   \n",
       "1      50       120                0         390   \n",
       "2      30       120                0         284   \n",
       "3      90       320                0         583   \n",
       "4      90       200                0         471   \n",
       "\n",
       "  Application usage time more than 360 min mean good  results  \n",
       "0                                               Good        1  \n",
       "1                                               Good        1  \n",
       "2                                                Bad        0  \n",
       "3                                               Good        2  \n",
       "4                                               Good        1  "
      ]
     },
     "execution_count": 16,
     "metadata": {},
     "output_type": "execute_result"
    }
   ],
   "source": [
    "data.head()"
   ]
  },
  {
   "cell_type": "code",
   "execution_count": 17,
   "id": "3e403bf4",
   "metadata": {},
   "outputs": [],
   "source": [
    "data['Excel'] = data['Excel'].apply(minutes_to_hours)\n",
    "data['Power Point'] = data['Power Point'].apply(minutes_to_hours)\n",
    "data['Google Chrome'] = data['Google Chrome'].apply(minutes_to_hours)\n",
    "data['Spss'] = data['Spss'].apply(minutes_to_hours)\n",
    "data['KMPlayer'] = data['KMPlayer'].apply(minutes_to_hours)\n",
    "data['Zoom'] = data['Zoom'].apply(minutes_to_hours)\n",
    "data['Vscode'] = data['Vscode'].apply(minutes_to_hours)\n",
    "data['NetBeans'] = data['NetBeans'].apply(minutes_to_hours)\n",
    "data['Microsoft Teams'] = data['Microsoft Teams'].apply(minutes_to_hours)"
   ]
  },
  {
   "cell_type": "code",
   "execution_count": 18,
   "id": "7654e199",
   "metadata": {},
   "outputs": [
    {
     "data": {
      "text/plain": [
       "0    61\n",
       "1    32\n",
       "2     4\n",
       "5     2\n",
       "7     1\n",
       "Name: Excel, dtype: int64"
      ]
     },
     "execution_count": 18,
     "metadata": {},
     "output_type": "execute_result"
    }
   ],
   "source": [
    "data['Excel'].value_counts()"
   ]
  },
  {
   "cell_type": "code",
   "execution_count": 19,
   "id": "566473db",
   "metadata": {},
   "outputs": [
    {
     "data": {
      "text/plain": [
       "0    66\n",
       "1    34\n",
       "Name: Power Point, dtype: int64"
      ]
     },
     "execution_count": 19,
     "metadata": {},
     "output_type": "execute_result"
    }
   ],
   "source": [
    "data['Power Point'].value_counts()"
   ]
  },
  {
   "cell_type": "code",
   "execution_count": 20,
   "id": "ea07c8b6",
   "metadata": {},
   "outputs": [
    {
     "data": {
      "text/plain": [
       "0    90\n",
       "1    10\n",
       "Name: Spss, dtype: int64"
      ]
     },
     "execution_count": 20,
     "metadata": {},
     "output_type": "execute_result"
    }
   ],
   "source": [
    "data['Spss'].value_counts()"
   ]
  },
  {
   "cell_type": "code",
   "execution_count": 21,
   "id": "58876d38",
   "metadata": {},
   "outputs": [
    {
     "data": {
      "text/plain": [
       "0    81\n",
       "1    19\n",
       "Name: Google Chrome, dtype: int64"
      ]
     },
     "execution_count": 21,
     "metadata": {},
     "output_type": "execute_result"
    }
   ],
   "source": [
    "data['Google Chrome'].value_counts()"
   ]
  },
  {
   "cell_type": "code",
   "execution_count": 22,
   "id": "671a917a",
   "metadata": {},
   "outputs": [
    {
     "data": {
      "text/plain": [
       "0    76\n",
       "1    15\n",
       "2     9\n",
       "Name: KMPlayer, dtype: int64"
      ]
     },
     "execution_count": 22,
     "metadata": {},
     "output_type": "execute_result"
    }
   ],
   "source": [
    "data['KMPlayer'].value_counts()"
   ]
  },
  {
   "cell_type": "code",
   "execution_count": 23,
   "id": "63091847",
   "metadata": {},
   "outputs": [
    {
     "data": {
      "text/plain": [
       "0    75\n",
       "1    25\n",
       "Name: Zoom, dtype: int64"
      ]
     },
     "execution_count": 23,
     "metadata": {},
     "output_type": "execute_result"
    }
   ],
   "source": [
    "data['Zoom'].value_counts()"
   ]
  },
  {
   "cell_type": "code",
   "execution_count": 24,
   "id": "a3d3a607",
   "metadata": {},
   "outputs": [
    {
     "data": {
      "text/plain": [
       "0    47\n",
       "2    24\n",
       "1    14\n",
       "5    10\n",
       "3     5\n",
       "Name: Vscode, dtype: int64"
      ]
     },
     "execution_count": 24,
     "metadata": {},
     "output_type": "execute_result"
    }
   ],
   "source": [
    "data['Vscode'].value_counts()"
   ]
  },
  {
   "cell_type": "code",
   "execution_count": 25,
   "id": "fc432b1a",
   "metadata": {},
   "outputs": [
    {
     "data": {
      "text/plain": [
       "0    58\n",
       "2    18\n",
       "1    13\n",
       "5     8\n",
       "3     2\n",
       "6     1\n",
       "Name: NetBeans, dtype: int64"
      ]
     },
     "execution_count": 25,
     "metadata": {},
     "output_type": "execute_result"
    }
   ],
   "source": [
    "data['NetBeans'].value_counts()"
   ]
  },
  {
   "cell_type": "code",
   "execution_count": 26,
   "id": "04f452e5",
   "metadata": {},
   "outputs": [
    {
     "data": {
      "text/plain": [
       "0    92\n",
       "1     8\n",
       "Name: Microsoft Teams, dtype: int64"
      ]
     },
     "execution_count": 26,
     "metadata": {},
     "output_type": "execute_result"
    }
   ],
   "source": [
    "data['Microsoft Teams'].value_counts()"
   ]
  },
  {
   "cell_type": "code",
   "execution_count": 27,
   "id": "37230108",
   "metadata": {},
   "outputs": [
    {
     "data": {
      "text/plain": [
       "(100, 14)"
      ]
     },
     "execution_count": 27,
     "metadata": {},
     "output_type": "execute_result"
    }
   ],
   "source": [
    "data.shape"
   ]
  },
  {
   "cell_type": "code",
   "execution_count": 28,
   "id": "714ed0fb",
   "metadata": {},
   "outputs": [
    {
     "data": {
      "text/html": [
       "<div>\n",
       "<style scoped>\n",
       "    .dataframe tbody tr th:only-of-type {\n",
       "        vertical-align: middle;\n",
       "    }\n",
       "\n",
       "    .dataframe tbody tr th {\n",
       "        vertical-align: top;\n",
       "    }\n",
       "\n",
       "    .dataframe thead th {\n",
       "        text-align: right;\n",
       "    }\n",
       "</style>\n",
       "<table border=\"1\" class=\"dataframe\">\n",
       "  <thead>\n",
       "    <tr style=\"text-align: right;\">\n",
       "      <th></th>\n",
       "      <th>ï»¿</th>\n",
       "      <th>Word</th>\n",
       "      <th>Excel</th>\n",
       "      <th>Power Point</th>\n",
       "      <th>Google Chrome</th>\n",
       "      <th>Spss</th>\n",
       "      <th>KMPlayer</th>\n",
       "      <th>Zoom</th>\n",
       "      <th>Vscode</th>\n",
       "      <th>NetBeans</th>\n",
       "      <th>Microsoft Teams</th>\n",
       "      <th>Total(min)</th>\n",
       "      <th>Application usage time more than 360 min mean good</th>\n",
       "      <th>results</th>\n",
       "    </tr>\n",
       "  </thead>\n",
       "  <tbody>\n",
       "    <tr>\n",
       "      <th>0</th>\n",
       "      <td>Emp0001</td>\n",
       "      <td>2</td>\n",
       "      <td>0</td>\n",
       "      <td>0</td>\n",
       "      <td>0</td>\n",
       "      <td>0</td>\n",
       "      <td>0</td>\n",
       "      <td>0</td>\n",
       "      <td>3</td>\n",
       "      <td>0</td>\n",
       "      <td>0</td>\n",
       "      <td>485</td>\n",
       "      <td>Good</td>\n",
       "      <td>1</td>\n",
       "    </tr>\n",
       "    <tr>\n",
       "      <th>1</th>\n",
       "      <td>Emp0002</td>\n",
       "      <td>0</td>\n",
       "      <td>1</td>\n",
       "      <td>0</td>\n",
       "      <td>0</td>\n",
       "      <td>0</td>\n",
       "      <td>0</td>\n",
       "      <td>1</td>\n",
       "      <td>0</td>\n",
       "      <td>2</td>\n",
       "      <td>0</td>\n",
       "      <td>390</td>\n",
       "      <td>Good</td>\n",
       "      <td>1</td>\n",
       "    </tr>\n",
       "    <tr>\n",
       "      <th>2</th>\n",
       "      <td>Emp0003</td>\n",
       "      <td>0</td>\n",
       "      <td>0</td>\n",
       "      <td>0</td>\n",
       "      <td>0</td>\n",
       "      <td>0</td>\n",
       "      <td>0</td>\n",
       "      <td>1</td>\n",
       "      <td>0</td>\n",
       "      <td>2</td>\n",
       "      <td>0</td>\n",
       "      <td>284</td>\n",
       "      <td>Bad</td>\n",
       "      <td>0</td>\n",
       "    </tr>\n",
       "    <tr>\n",
       "      <th>3</th>\n",
       "      <td>Emp0004</td>\n",
       "      <td>0</td>\n",
       "      <td>0</td>\n",
       "      <td>0</td>\n",
       "      <td>0</td>\n",
       "      <td>0</td>\n",
       "      <td>0</td>\n",
       "      <td>1</td>\n",
       "      <td>1</td>\n",
       "      <td>5</td>\n",
       "      <td>0</td>\n",
       "      <td>583</td>\n",
       "      <td>Good</td>\n",
       "      <td>2</td>\n",
       "    </tr>\n",
       "    <tr>\n",
       "      <th>4</th>\n",
       "      <td>Emp0005</td>\n",
       "      <td>0</td>\n",
       "      <td>0</td>\n",
       "      <td>0</td>\n",
       "      <td>0</td>\n",
       "      <td>0</td>\n",
       "      <td>0</td>\n",
       "      <td>0</td>\n",
       "      <td>1</td>\n",
       "      <td>3</td>\n",
       "      <td>0</td>\n",
       "      <td>471</td>\n",
       "      <td>Good</td>\n",
       "      <td>1</td>\n",
       "    </tr>\n",
       "  </tbody>\n",
       "</table>\n",
       "</div>"
      ],
      "text/plain": [
       "       ï»¿  Word  Excel  Power Point  Google Chrome  Spss  KMPlayer  Zoom  \\\n",
       "0  Emp0001     2      0            0              0     0         0     0   \n",
       "1  Emp0002     0      1            0              0     0         0     1   \n",
       "2  Emp0003     0      0            0              0     0         0     1   \n",
       "3  Emp0004     0      0            0              0     0         0     1   \n",
       "4  Emp0005     0      0            0              0     0         0     0   \n",
       "\n",
       "   Vscode  NetBeans  Microsoft Teams  Total(min)  \\\n",
       "0       3         0                0         485   \n",
       "1       0         2                0         390   \n",
       "2       0         2                0         284   \n",
       "3       1         5                0         583   \n",
       "4       1         3                0         471   \n",
       "\n",
       "  Application usage time more than 360 min mean good  results  \n",
       "0                                               Good        1  \n",
       "1                                               Good        1  \n",
       "2                                                Bad        0  \n",
       "3                                               Good        2  \n",
       "4                                               Good        1  "
      ]
     },
     "execution_count": 28,
     "metadata": {},
     "output_type": "execute_result"
    }
   ],
   "source": [
    "data.head()"
   ]
  },
  {
   "cell_type": "code",
   "execution_count": 29,
   "id": "12b1b0f3",
   "metadata": {},
   "outputs": [],
   "source": [
    "data = data.drop(columns=['ï»¿', 'Total(min)', 'Application usage time more than 360 min mean good'])"
   ]
  },
  {
   "cell_type": "code",
   "execution_count": 30,
   "id": "1a13f299",
   "metadata": {},
   "outputs": [
    {
     "data": {
      "text/html": [
       "<div>\n",
       "<style scoped>\n",
       "    .dataframe tbody tr th:only-of-type {\n",
       "        vertical-align: middle;\n",
       "    }\n",
       "\n",
       "    .dataframe tbody tr th {\n",
       "        vertical-align: top;\n",
       "    }\n",
       "\n",
       "    .dataframe thead th {\n",
       "        text-align: right;\n",
       "    }\n",
       "</style>\n",
       "<table border=\"1\" class=\"dataframe\">\n",
       "  <thead>\n",
       "    <tr style=\"text-align: right;\">\n",
       "      <th></th>\n",
       "      <th>Word</th>\n",
       "      <th>Excel</th>\n",
       "      <th>Power Point</th>\n",
       "      <th>Google Chrome</th>\n",
       "      <th>Spss</th>\n",
       "      <th>KMPlayer</th>\n",
       "      <th>Zoom</th>\n",
       "      <th>Vscode</th>\n",
       "      <th>NetBeans</th>\n",
       "      <th>Microsoft Teams</th>\n",
       "      <th>results</th>\n",
       "    </tr>\n",
       "  </thead>\n",
       "  <tbody>\n",
       "    <tr>\n",
       "      <th>0</th>\n",
       "      <td>2</td>\n",
       "      <td>0</td>\n",
       "      <td>0</td>\n",
       "      <td>0</td>\n",
       "      <td>0</td>\n",
       "      <td>0</td>\n",
       "      <td>0</td>\n",
       "      <td>3</td>\n",
       "      <td>0</td>\n",
       "      <td>0</td>\n",
       "      <td>1</td>\n",
       "    </tr>\n",
       "    <tr>\n",
       "      <th>1</th>\n",
       "      <td>0</td>\n",
       "      <td>1</td>\n",
       "      <td>0</td>\n",
       "      <td>0</td>\n",
       "      <td>0</td>\n",
       "      <td>0</td>\n",
       "      <td>1</td>\n",
       "      <td>0</td>\n",
       "      <td>2</td>\n",
       "      <td>0</td>\n",
       "      <td>1</td>\n",
       "    </tr>\n",
       "    <tr>\n",
       "      <th>2</th>\n",
       "      <td>0</td>\n",
       "      <td>0</td>\n",
       "      <td>0</td>\n",
       "      <td>0</td>\n",
       "      <td>0</td>\n",
       "      <td>0</td>\n",
       "      <td>1</td>\n",
       "      <td>0</td>\n",
       "      <td>2</td>\n",
       "      <td>0</td>\n",
       "      <td>0</td>\n",
       "    </tr>\n",
       "    <tr>\n",
       "      <th>3</th>\n",
       "      <td>0</td>\n",
       "      <td>0</td>\n",
       "      <td>0</td>\n",
       "      <td>0</td>\n",
       "      <td>0</td>\n",
       "      <td>0</td>\n",
       "      <td>1</td>\n",
       "      <td>1</td>\n",
       "      <td>5</td>\n",
       "      <td>0</td>\n",
       "      <td>2</td>\n",
       "    </tr>\n",
       "    <tr>\n",
       "      <th>4</th>\n",
       "      <td>0</td>\n",
       "      <td>0</td>\n",
       "      <td>0</td>\n",
       "      <td>0</td>\n",
       "      <td>0</td>\n",
       "      <td>0</td>\n",
       "      <td>0</td>\n",
       "      <td>1</td>\n",
       "      <td>3</td>\n",
       "      <td>0</td>\n",
       "      <td>1</td>\n",
       "    </tr>\n",
       "  </tbody>\n",
       "</table>\n",
       "</div>"
      ],
      "text/plain": [
       "   Word  Excel  Power Point  Google Chrome  Spss  KMPlayer  Zoom  Vscode  \\\n",
       "0     2      0            0              0     0         0     0       3   \n",
       "1     0      1            0              0     0         0     1       0   \n",
       "2     0      0            0              0     0         0     1       0   \n",
       "3     0      0            0              0     0         0     1       1   \n",
       "4     0      0            0              0     0         0     0       1   \n",
       "\n",
       "   NetBeans  Microsoft Teams  results  \n",
       "0         0                0        1  \n",
       "1         2                0        1  \n",
       "2         2                0        0  \n",
       "3         5                0        2  \n",
       "4         3                0        1  "
      ]
     },
     "execution_count": 30,
     "metadata": {},
     "output_type": "execute_result"
    }
   ],
   "source": [
    "data.head()"
   ]
  },
  {
   "cell_type": "code",
   "execution_count": 31,
   "id": "85e5dd3e",
   "metadata": {},
   "outputs": [],
   "source": [
    "data = pd.get_dummies(data)"
   ]
  },
  {
   "cell_type": "code",
   "execution_count": 32,
   "id": "21064087",
   "metadata": {},
   "outputs": [
    {
     "data": {
      "text/html": [
       "<div>\n",
       "<style scoped>\n",
       "    .dataframe tbody tr th:only-of-type {\n",
       "        vertical-align: middle;\n",
       "    }\n",
       "\n",
       "    .dataframe tbody tr th {\n",
       "        vertical-align: top;\n",
       "    }\n",
       "\n",
       "    .dataframe thead th {\n",
       "        text-align: right;\n",
       "    }\n",
       "</style>\n",
       "<table border=\"1\" class=\"dataframe\">\n",
       "  <thead>\n",
       "    <tr style=\"text-align: right;\">\n",
       "      <th></th>\n",
       "      <th>Word</th>\n",
       "      <th>Excel</th>\n",
       "      <th>Power Point</th>\n",
       "      <th>Google Chrome</th>\n",
       "      <th>Spss</th>\n",
       "      <th>KMPlayer</th>\n",
       "      <th>Zoom</th>\n",
       "      <th>Vscode</th>\n",
       "      <th>NetBeans</th>\n",
       "      <th>Microsoft Teams</th>\n",
       "      <th>results</th>\n",
       "    </tr>\n",
       "  </thead>\n",
       "  <tbody>\n",
       "    <tr>\n",
       "      <th>0</th>\n",
       "      <td>2</td>\n",
       "      <td>0</td>\n",
       "      <td>0</td>\n",
       "      <td>0</td>\n",
       "      <td>0</td>\n",
       "      <td>0</td>\n",
       "      <td>0</td>\n",
       "      <td>3</td>\n",
       "      <td>0</td>\n",
       "      <td>0</td>\n",
       "      <td>1</td>\n",
       "    </tr>\n",
       "    <tr>\n",
       "      <th>1</th>\n",
       "      <td>0</td>\n",
       "      <td>1</td>\n",
       "      <td>0</td>\n",
       "      <td>0</td>\n",
       "      <td>0</td>\n",
       "      <td>0</td>\n",
       "      <td>1</td>\n",
       "      <td>0</td>\n",
       "      <td>2</td>\n",
       "      <td>0</td>\n",
       "      <td>1</td>\n",
       "    </tr>\n",
       "    <tr>\n",
       "      <th>2</th>\n",
       "      <td>0</td>\n",
       "      <td>0</td>\n",
       "      <td>0</td>\n",
       "      <td>0</td>\n",
       "      <td>0</td>\n",
       "      <td>0</td>\n",
       "      <td>1</td>\n",
       "      <td>0</td>\n",
       "      <td>2</td>\n",
       "      <td>0</td>\n",
       "      <td>0</td>\n",
       "    </tr>\n",
       "    <tr>\n",
       "      <th>3</th>\n",
       "      <td>0</td>\n",
       "      <td>0</td>\n",
       "      <td>0</td>\n",
       "      <td>0</td>\n",
       "      <td>0</td>\n",
       "      <td>0</td>\n",
       "      <td>1</td>\n",
       "      <td>1</td>\n",
       "      <td>5</td>\n",
       "      <td>0</td>\n",
       "      <td>2</td>\n",
       "    </tr>\n",
       "    <tr>\n",
       "      <th>4</th>\n",
       "      <td>0</td>\n",
       "      <td>0</td>\n",
       "      <td>0</td>\n",
       "      <td>0</td>\n",
       "      <td>0</td>\n",
       "      <td>0</td>\n",
       "      <td>0</td>\n",
       "      <td>1</td>\n",
       "      <td>3</td>\n",
       "      <td>0</td>\n",
       "      <td>1</td>\n",
       "    </tr>\n",
       "  </tbody>\n",
       "</table>\n",
       "</div>"
      ],
      "text/plain": [
       "   Word  Excel  Power Point  Google Chrome  Spss  KMPlayer  Zoom  Vscode  \\\n",
       "0     2      0            0              0     0         0     0       3   \n",
       "1     0      1            0              0     0         0     1       0   \n",
       "2     0      0            0              0     0         0     1       0   \n",
       "3     0      0            0              0     0         0     1       1   \n",
       "4     0      0            0              0     0         0     0       1   \n",
       "\n",
       "   NetBeans  Microsoft Teams  results  \n",
       "0         0                0        1  \n",
       "1         2                0        1  \n",
       "2         2                0        0  \n",
       "3         5                0        2  \n",
       "4         3                0        1  "
      ]
     },
     "execution_count": 32,
     "metadata": {},
     "output_type": "execute_result"
    }
   ],
   "source": [
    "data.head()"
   ]
  },
  {
   "cell_type": "code",
   "execution_count": 33,
   "id": "c1e7f2a9",
   "metadata": {},
   "outputs": [
    {
     "data": {
      "text/plain": [
       "(100, 11)"
      ]
     },
     "execution_count": 33,
     "metadata": {},
     "output_type": "execute_result"
    }
   ],
   "source": [
    "data.shape"
   ]
  },
  {
   "cell_type": "code",
   "execution_count": 34,
   "id": "b70d1fb5",
   "metadata": {},
   "outputs": [
    {
     "data": {
      "text/plain": [
       "<matplotlib.axes._subplots.AxesSubplot at 0x25943546bb0>"
      ]
     },
     "execution_count": 34,
     "metadata": {},
     "output_type": "execute_result"
    },
    {
     "data": {
      "image/png": "[encoded data removed]",
      "text/plain": [
       "<Figure size 432x288 with 1 Axes>"
      ]
     },
     "metadata": {
      "needs_background": "light"
     },
     "output_type": "display_data"
    }
   ],
   "source": [
    "sns.boxplot(x='results',y='Word',data=data)"
   ]
  },
  {
   "cell_type": "code",
   "execution_count": 35,
   "id": "30ea4f95",
   "metadata": {},
   "outputs": [
    {
     "data": {
      "text/plain": [
       "<matplotlib.axes._subplots.AxesSubplot at 0x259456702e0>"
      ]
     },
     "execution_count": 35,
     "metadata": {},
     "output_type": "execute_result"
    },
    {
     "data": {
      "image/png": "[encoded data removed]",
      "text/plain": [
       "<Figure size 432x288 with 1 Axes>"
      ]
     },
     "metadata": {
      "needs_background": "light"
     },
     "output_type": "display_data"
    }
   ],
   "source": [
    "sns.boxplot(x='results',y='Excel',data=data)"
   ]
  },
  {
   "cell_type": "code",
   "execution_count": 36,
   "id": "4bd20dbe",
   "metadata": {},
   "outputs": [
    {
     "data": {
      "text/plain": [
       "<matplotlib.axes._subplots.AxesSubplot at 0x2594571b370>"
      ]
     },
     "execution_count": 36,
     "metadata": {},
     "output_type": "execute_result"
    },
    {
     "data": {
      "image/png": "[encoded data removed]",
      "text/plain": [
       "<Figure size 432x288 with 1 Axes>"
      ]
     },
     "metadata": {
      "needs_background": "light"
     },
     "output_type": "display_data"
    }
   ],
   "source": [
    "sns.boxplot(x='results',y='Power Point',data=data)"
   ]
  },
  {
   "cell_type": "code",
   "execution_count": 37,
   "id": "f36ed443",
   "metadata": {},
   "outputs": [
    {
     "data": {
      "text/plain": [
       "<matplotlib.axes._subplots.AxesSubplot at 0x259457b1d90>"
      ]
     },
     "execution_count": 37,
     "metadata": {},
     "output_type": "execute_result"
    },
    {
     "data": {
      "image/png": "[encoded data removed]",
      "text/plain": [
       "<Figure size 432x288 with 1 Axes>"
      ]
     },
     "metadata": {
      "needs_background": "light"
     },
     "output_type": "display_data"
    }
   ],
   "source": [
    "sns.boxplot(x='results',y='Google Chrome',data=data)"
   ]
  },
  {
   "cell_type": "code",
   "execution_count": 38,
   "id": "641ae05c",
   "metadata": {},
   "outputs": [
    {
     "data": {
      "text/plain": [
       "<matplotlib.axes._subplots.AxesSubplot at 0x25945841c10>"
      ]
     },
     "execution_count": 38,
     "metadata": {},
     "output_type": "execute_result"
    },
    {
     "data": {
      "image/png": "[encoded data removed]",
      "text/plain": [
       "<Figure size 432x288 with 1 Axes>"
      ]
     },
     "metadata": {
      "needs_background": "light"
     },
     "output_type": "display_data"
    }
   ],
   "source": [
    "sns.boxplot(x='results',y='Spss',data=data)"
   ]
  },
  {
   "cell_type": "code",
   "execution_count": 39,
   "id": "64e47848",
   "metadata": {},
   "outputs": [
    {
     "data": {
      "text/plain": [
       "<matplotlib.axes._subplots.AxesSubplot at 0x2594582cd30>"
      ]
     },
     "execution_count": 39,
     "metadata": {},
     "output_type": "execute_result"
    },
    {
     "data": {
      "image/png": "[encoded data removed]",
      "text/plain": [
       "<Figure size 432x288 with 1 Axes>"
      ]
     },
     "metadata": {
      "needs_background": "light"
     },
     "output_type": "display_data"
    }
   ],
   "source": [
    "sns.boxplot(x='results',y='KMPlayer',data=data)"
   ]
  },
  {
   "cell_type": "code",
   "execution_count": 40,
   "id": "c945e100",
   "metadata": {},
   "outputs": [
    {
     "data": {
      "text/plain": [
       "<matplotlib.axes._subplots.AxesSubplot at 0x2594597b250>"
      ]
     },
     "execution_count": 40,
     "metadata": {},
     "output_type": "execute_result"
    },
    {
     "data": {
      "image/png": "[encoded data removed]",
      "text/plain": [
       "<Figure size 432x288 with 1 Axes>"
      ]
     },
     "metadata": {
      "needs_background": "light"
     },
     "output_type": "display_data"
    }
   ],
   "source": [
    "sns.boxplot(x='results',y='Zoom',data=data)"
   ]
  },
  {
   "cell_type": "code",
   "execution_count": 41,
   "id": "d6f59c43",
   "metadata": {},
   "outputs": [
    {
     "data": {
      "text/plain": [
       "<matplotlib.axes._subplots.AxesSubplot at 0x25945a08ee0>"
      ]
     },
     "execution_count": 41,
     "metadata": {},
     "output_type": "execute_result"
    },
    {
     "data": {
      "image/png": "[encoded data removed]",
      "text/plain": [
       "<Figure size 432x288 with 1 Axes>"
      ]
     },
     "metadata": {
      "needs_background": "light"
     },
     "output_type": "display_data"
    }
   ],
   "source": [
    "sns.boxplot(x='results',y='Vscode',data=data)"
   ]
  },
  {
   "cell_type": "code",
   "execution_count": 42,
   "id": "72adb61f",
   "metadata": {},
   "outputs": [
    {
     "data": {
      "text/plain": [
       "<matplotlib.axes._subplots.AxesSubplot at 0x25945aa3c10>"
      ]
     },
     "execution_count": 42,
     "metadata": {},
     "output_type": "execute_result"
    },
    {
     "data": {
      "image/png": "[encoded data removed]",
      "text/plain": [
       "<Figure size 432x288 with 1 Axes>"
      ]
     },
     "metadata": {
      "needs_background": "light"
     },
     "output_type": "display_data"
    }
   ],
   "source": [
    "sns.boxplot(x='results',y='NetBeans',data=data)"
   ]
  },
  {
   "cell_type": "code",
   "execution_count": 43,
   "id": "39b994b6",
   "metadata": {},
   "outputs": [
    {
     "data": {
      "text/plain": [
       "<matplotlib.axes._subplots.AxesSubplot at 0x259458e4970>"
      ]
     },
     "execution_count": 43,
     "metadata": {},
     "output_type": "execute_result"
    },
    {
     "data": {
      "image/png": "[encoded data removed]",
      "text/plain": [
       "<Figure size 432x288 with 1 Axes>"
      ]
     },
     "metadata": {
      "needs_background": "light"
     },
     "output_type": "display_data"
    }
   ],
   "source": [
    "sns.boxplot(x='results',y='Microsoft Teams',data=data)"
   ]
  },
  {
   "cell_type": "code",
   "execution_count": 44,
   "id": "59e9e958",
   "metadata": {},
   "outputs": [
    {
     "data": {
      "text/plain": [
       "<matplotlib.axes._subplots.AxesSubplot at 0x25945bb4fd0>"
      ]
     },
     "execution_count": 44,
     "metadata": {},
     "output_type": "execute_result"
    },
    {
     "data": {
      "image/png": "[encoded data removed]",
      "text/plain": [
       "<Figure size 432x288 with 1 Axes>"
      ]
     },
     "metadata": {
      "needs_background": "light"
     },
     "output_type": "display_data"
    }
   ],
   "source": [
    "sns.countplot(x=\"results\",data=data)"
   ]
  },
  {
   "cell_type": "code",
   "execution_count": 45,
   "id": "26627d79",
   "metadata": {},
   "outputs": [],
   "source": [
    "X = data.drop('results', axis=1)\n",
    "y = data['results']"
   ]
  },
  {
   "cell_type": "code",
   "execution_count": 46,
   "id": "672b4751",
   "metadata": {},
   "outputs": [],
   "source": [
    "from sklearn.model_selection import train_test_split\n",
    "X_train, X_test, y_train, y_test = train_test_split(X, y, test_size = 0.25)"
   ]
  },
  {
   "cell_type": "code",
   "execution_count": 47,
   "id": "4900b014",
   "metadata": {},
   "outputs": [
    {
     "data": {
      "text/plain": [
       "((75, 10), (100, 10))"
      ]
     },
     "execution_count": 47,
     "metadata": {},
     "output_type": "execute_result"
    }
   ],
   "source": [
    "X_train.shape, X.shape"
   ]
  },
  {
   "cell_type": "code",
   "execution_count": 48,
   "id": "5459e44e",
   "metadata": {},
   "outputs": [
    {
     "data": {
      "text/plain": [
       "43    2\n",
       "65    1\n",
       "75    1\n",
       "33    1\n",
       "58    3\n",
       "     ..\n",
       "88    2\n",
       "32    3\n",
       "28    3\n",
       "90    1\n",
       "78    1\n",
       "Name: results, Length: 75, dtype: int64"
      ]
     },
     "execution_count": 48,
     "metadata": {},
     "output_type": "execute_result"
    }
   ],
   "source": [
    "y_train"
   ]
  },
  {
   "cell_type": "code",
   "execution_count": 49,
   "id": "51ef1cd2",
   "metadata": {},
   "outputs": [],
   "source": [
    "def model_acc(model):\n",
    "    model.fit(X_train, y_train)\n",
    "    acc = model.score(X_test, y_test)\n",
    "    print(str(model)+ ' --> ' +str(acc))"
   ]
  },
  {
   "cell_type": "code",
   "execution_count": 50,
   "id": "8ef6f709",
   "metadata": {},
   "outputs": [
    {
     "name": "stdout",
     "output_type": "stream",
     "text": [
      "LinearRegression() --> 0.7770266003626469\n",
      "Lasso() --> -0.024267950260730142\n",
      "DecisionTreeRegressor() --> 0.23285198555956665\n",
      "RandomForestRegressor() --> 0.6473909997994385\n"
     ]
    }
   ],
   "source": [
    "from sklearn.linear_model import LinearRegression\n",
    "lr = LinearRegression()\n",
    "model_acc(lr)\n",
    "\n",
    "from sklearn.linear_model import Lasso\n",
    "lasso = Lasso()\n",
    "model_acc(lasso)\n",
    "\n",
    "from sklearn.tree import DecisionTreeRegressor\n",
    "dt = DecisionTreeRegressor()\n",
    "model_acc(dt)\n",
    "\n",
    "from sklearn.ensemble import RandomForestRegressor\n",
    "rf = RandomForestRegressor()\n",
    "model_acc(rf)"
   ]
  },
  {
   "cell_type": "code",
   "execution_count": 51,
   "id": "f56b1196",
   "metadata": {},
   "outputs": [
    {
     "data": {
      "text/plain": [
       "0.7770266003626469"
      ]
     },
     "execution_count": 51,
     "metadata": {},
     "output_type": "execute_result"
    }
   ],
   "source": [
    "reg = lr.fit(X_train, y_train)\n",
    "\n",
    "reg.score(X_test, y_test)"
   ]
  },
  {
   "cell_type": "code",
   "execution_count": 52,
   "id": "31f258ee",
   "metadata": {},
   "outputs": [],
   "source": [
    "import pickle\n",
    "# save model to file\n",
    "pickle.dump(reg, open(\"model.pickle.dat\", \"wb\"))"
   ]
  },
  {
   "cell_type": "code",
   "execution_count": 53,
   "id": "ab85e656",
   "metadata": {},
   "outputs": [
    {
     "data": {
      "text/plain": [
       "1"
      ]
     },
     "execution_count": 53,
     "metadata": {},
     "output_type": "execute_result"
    }
   ],
   "source": [
    "import math\n",
    "int(np.round(reg.predict([[0,0,0,0,0,0,0,1,3,0]]),0))"
   ]
  },
  {
   "cell_type": "code",
   "execution_count": 54,
   "id": "9c44f16c",
   "metadata": {},
   "outputs": [],
   "source": [
    "predict=np.round(reg.predict(X_test))"
   ]
  },
  {
   "cell_type": "code",
   "execution_count": 55,
   "id": "406be503",
   "metadata": {},
   "outputs": [
    {
     "name": "stdout",
     "output_type": "stream",
     "text": [
      "<class 'numpy.ndarray'>\n",
      "<class 'pandas.core.series.Series'>\n"
     ]
    },
    {
     "data": {
      "image/png": "[encoded data removed]",
      "text/plain": [
       "<Figure size 1152x360 with 1 Axes>"
      ]
     },
     "metadata": {
      "needs_background": "light"
     },
     "output_type": "display_data"
    }
   ],
   "source": [
    "A = np.array(y_test).reshape(-1, 1)\n",
    "B = predict.reshape(-1, 1)\n",
    "print(type(predict))\n",
    "print(type(y_test))\n",
    "plt.rcParams['figure.figsize'] = 16,5\n",
    "plt.figure()\n",
    "plt.plot(A[-100:], label=\"Real\")\n",
    "plt.plot(B[-100:], label=\"Predicted\")\n",
    "plt.legend()\n",
    "plt.title(\"Result : real vs predicted\")\n",
    "plt.ylabel(\"Result\")\n",
    "plt.xticks(())\n",
    "plt.show()"
   ]
  },
  {
   "cell_type": "code",
   "execution_count": 56,
   "id": "f31d6c62",
   "metadata": {},
   "outputs": [
    {
     "data": {
      "text/plain": [
       "array([0.33888058, 3.72563126, 2.52994278, 0.61889313, 2.92932257,\n",
       "       1.33717433, 1.72108662, 2.0879136 , 1.60966359, 1.22101381,\n",
       "       0.67828463, 1.62983188, 3.26366175, 0.82733583, 0.57159273,\n",
       "       2.23683606, 1.95390671, 2.96625015, 0.8694133 , 1.48598326,\n",
       "       2.94388466, 0.41368631, 2.16279919, 2.60424322, 0.57695773])"
      ]
     },
     "execution_count": 56,
     "metadata": {},
     "output_type": "execute_result"
    }
   ],
   "source": [
    "reg.predict(X_test)"
   ]
  },
  {
   "cell_type": "code",
   "execution_count": 57,
   "id": "998e7d3d",
   "metadata": {},
   "outputs": [],
   "source": [
    "with open('model.pickle.dat' , 'rb') as f:\n",
    "    model = pickle.load(f)"
   ]
  },
  {
   "cell_type": "code",
   "execution_count": 58,
   "id": "0ecaf776",
   "metadata": {},
   "outputs": [
    {
     "data": {
      "text/plain": [
       "2"
      ]
     },
     "execution_count": 58,
     "metadata": {},
     "output_type": "execute_result"
    }
   ],
   "source": [
    "math.ceil(model.predict([[0,0,0,0,0,0,0,1,3,0]]))"
   ]
  },
  {
   "cell_type": "code",
   "execution_count": null,
   "id": "9a885512",
   "metadata": {},
   "outputs": [],
   "source": []
  }
 ],
 "metadata": {
  "kernelspec": {
   "display_name": "Python 3",
   "language": "python",
   "name": "python3"
  },
  "language_info": {
   "codemirror_mode": {
    "name": "ipython",
    "version": 3
   },
   "file_extension": ".py",
   "mimetype": "text/x-python",
   "name": "python",
   "nbconvert_exporter": "python",
   "pygments_lexer": "ipython3",
   "version": "3.10.9"
  }
 },
 "nbformat": 4,
 "nbformat_minor": 5
}
