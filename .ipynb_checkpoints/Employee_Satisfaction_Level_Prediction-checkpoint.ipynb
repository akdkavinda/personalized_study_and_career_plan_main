{
 "cells": [
  {
   "cell_type": "code",
   "execution_count": 1,
   "id": "2e12013c",
   "metadata": {},
   "outputs": [],
   "source": [
    "import numpy as np\n",
    "import pandas as pd\n",
    "import pickle\n",
    "import matplotlib.pyplot as plt\n",
    "import seaborn as sns"
   ]
  },
  {
   "cell_type": "code",
   "execution_count": 2,
   "id": "2c0e31bb",
   "metadata": {},
   "outputs": [],
   "source": [
    "data = pd.read_csv('emp.csv', encoding='latin-1')"
   ]
  },
  {
   "cell_type": "code",
   "execution_count": 3,
   "id": "eb5c1ba4",
   "metadata": {},
   "outputs": [
    {
     "data": {
      "text/html": [
       "<div>\n",
       "<style scoped>\n",
       "    .dataframe tbody tr th:only-of-type {\n",
       "        vertical-align: middle;\n",
       "    }\n",
       "\n",
       "    .dataframe tbody tr th {\n",
       "        vertical-align: top;\n",
       "    }\n",
       "\n",
       "    .dataframe thead th {\n",
       "        text-align: right;\n",
       "    }\n",
       "</style>\n",
       "<table border=\"1\" class=\"dataframe\">\n",
       "  <thead>\n",
       "    <tr style=\"text-align: right;\">\n",
       "      <th></th>\n",
       "      <th>ï»¿Employee Number</th>\n",
       "      <th>Number of Tasks Performed for one day</th>\n",
       "      <th>Expected Time (mins)</th>\n",
       "      <th>Actual Time (mins)</th>\n",
       "      <th>Task Completion Rate %</th>\n",
       "      <th>Overtime Work Rate (Mins)</th>\n",
       "      <th>Satisfaction Level Status</th>\n",
       "      <th>Satisfaction Level Result</th>\n",
       "      <th>Unnamed: 8</th>\n",
       "      <th>Unnamed: 9</th>\n",
       "      <th>Unnamed: 10</th>\n",
       "    </tr>\n",
       "  </thead>\n",
       "  <tbody>\n",
       "    <tr>\n",
       "      <th>0</th>\n",
       "      <td>EMP001</td>\n",
       "      <td>4</td>\n",
       "      <td>300</td>\n",
       "      <td>280</td>\n",
       "      <td>70.0</td>\n",
       "      <td>60</td>\n",
       "      <td>Satisfied</td>\n",
       "      <td>2</td>\n",
       "      <td>NaN</td>\n",
       "      <td>NaN</td>\n",
       "      <td>NaN</td>\n",
       "    </tr>\n",
       "    <tr>\n",
       "      <th>1</th>\n",
       "      <td>EMP002</td>\n",
       "      <td>5</td>\n",
       "      <td>400</td>\n",
       "      <td>420</td>\n",
       "      <td>60.0</td>\n",
       "      <td>100</td>\n",
       "      <td>Neutral</td>\n",
       "      <td>3</td>\n",
       "      <td>NaN</td>\n",
       "      <td>NaN</td>\n",
       "      <td>NaN</td>\n",
       "    </tr>\n",
       "    <tr>\n",
       "      <th>2</th>\n",
       "      <td>EMP003</td>\n",
       "      <td>7</td>\n",
       "      <td>100</td>\n",
       "      <td>80</td>\n",
       "      <td>55.5</td>\n",
       "      <td>70</td>\n",
       "      <td>Neutral</td>\n",
       "      <td>3</td>\n",
       "      <td>NaN</td>\n",
       "      <td>NaN</td>\n",
       "      <td>NaN</td>\n",
       "    </tr>\n",
       "    <tr>\n",
       "      <th>3</th>\n",
       "      <td>EMP004</td>\n",
       "      <td>6</td>\n",
       "      <td>300</td>\n",
       "      <td>270</td>\n",
       "      <td>43.0</td>\n",
       "      <td>80</td>\n",
       "      <td>Unsatisfied</td>\n",
       "      <td>4</td>\n",
       "      <td>NaN</td>\n",
       "      <td>NaN</td>\n",
       "      <td>NaN</td>\n",
       "    </tr>\n",
       "    <tr>\n",
       "      <th>4</th>\n",
       "      <td>EMP005</td>\n",
       "      <td>5</td>\n",
       "      <td>300</td>\n",
       "      <td>280</td>\n",
       "      <td>80.0</td>\n",
       "      <td>60</td>\n",
       "      <td>Very Satisfied</td>\n",
       "      <td>1</td>\n",
       "      <td>NaN</td>\n",
       "      <td>NaN</td>\n",
       "      <td>NaN</td>\n",
       "    </tr>\n",
       "  </tbody>\n",
       "</table>\n",
       "</div>"
      ],
      "text/plain": [
       "  ï»¿Employee Number  Number of Tasks Performed for one day  \\\n",
       "0             EMP001                                      4   \n",
       "1             EMP002                                      5   \n",
       "2             EMP003                                      7   \n",
       "3             EMP004                                      6   \n",
       "4             EMP005                                      5   \n",
       "\n",
       "   Expected Time (mins)  Actual Time (mins)  Task Completion Rate %  \\\n",
       "0                   300                 280                    70.0   \n",
       "1                   400                 420                    60.0   \n",
       "2                   100                  80                    55.5   \n",
       "3                   300                 270                    43.0   \n",
       "4                   300                 280                    80.0   \n",
       "\n",
       "   Overtime Work Rate (Mins) Satisfaction Level Status  \\\n",
       "0                         60                 Satisfied   \n",
       "1                        100                   Neutral   \n",
       "2                         70                   Neutral   \n",
       "3                         80               Unsatisfied   \n",
       "4                         60            Very Satisfied   \n",
       "\n",
       "   Satisfaction Level Result  Unnamed: 8  Unnamed: 9  Unnamed: 10  \n",
       "0                          2         NaN         NaN          NaN  \n",
       "1                          3         NaN         NaN          NaN  \n",
       "2                          3         NaN         NaN          NaN  \n",
       "3                          4         NaN         NaN          NaN  \n",
       "4                          1         NaN         NaN          NaN  "
      ]
     },
     "execution_count": 3,
     "metadata": {},
     "output_type": "execute_result"
    }
   ],
   "source": [
    "data.head()"
   ]
  },
  {
   "cell_type": "code",
   "execution_count": 4,
   "id": "baad5263",
   "metadata": {},
   "outputs": [
    {
     "data": {
      "text/plain": [
       "(100, 11)"
      ]
     },
     "execution_count": 4,
     "metadata": {},
     "output_type": "execute_result"
    }
   ],
   "source": [
    "data.shape"
   ]
  },
  {
   "cell_type": "code",
   "execution_count": 5,
   "id": "aec420d5",
   "metadata": {},
   "outputs": [
    {
     "data": {
      "text/plain": [
       "ï»¿Employee Number                         0\n",
       "Number of Tasks Performed for one day      0\n",
       "Expected Time (mins)                       0\n",
       "Actual Time (mins)                         0\n",
       "Task Completion Rate %                     0\n",
       "Overtime Work Rate (Mins)                  0\n",
       "Satisfaction Level Status                  0\n",
       "Satisfaction Level Result                  0\n",
       "Unnamed: 8                               100\n",
       "Unnamed: 9                               100\n",
       "Unnamed: 10                              100\n",
       "dtype: int64"
      ]
     },
     "execution_count": 5,
     "metadata": {},
     "output_type": "execute_result"
    }
   ],
   "source": [
    "data.isnull().sum()"
   ]
  },
  {
   "cell_type": "code",
   "execution_count": 6,
   "id": "928fe0dd",
   "metadata": {},
   "outputs": [
    {
     "data": {
      "text/plain": [
       "<AxesSubplot:>"
      ]
     },
     "execution_count": 6,
     "metadata": {},
     "output_type": "execute_result"
    },
    {
     "data": {
      "image/png": "[encoded data removed]",
      "text/plain": [
       "<Figure size 432x288 with 2 Axes>"
      ]
     },
     "metadata": {
      "needs_background": "light"
     },
     "output_type": "display_data"
    }
   ],
   "source": [
    "sns.heatmap(data.isnull(),yticklabels=False, cmap=\"viridis\")"
   ]
  },
  {
   "cell_type": "code",
   "execution_count": 7,
   "id": "7f1cda98",
   "metadata": {},
   "outputs": [],
   "source": [
    "data = data.drop(columns=['ï»¿Employee Number','Unnamed: 8', 'Unnamed: 9', 'Unnamed: 10'])"
   ]
  },
  {
   "cell_type": "code",
   "execution_count": 8,
   "id": "bcd8e755",
   "metadata": {},
   "outputs": [
    {
     "data": {
      "text/html": [
       "<div>\n",
       "<style scoped>\n",
       "    .dataframe tbody tr th:only-of-type {\n",
       "        vertical-align: middle;\n",
       "    }\n",
       "\n",
       "    .dataframe tbody tr th {\n",
       "        vertical-align: top;\n",
       "    }\n",
       "\n",
       "    .dataframe thead th {\n",
       "        text-align: right;\n",
       "    }\n",
       "</style>\n",
       "<table border=\"1\" class=\"dataframe\">\n",
       "  <thead>\n",
       "    <tr style=\"text-align: right;\">\n",
       "      <th></th>\n",
       "      <th>Number of Tasks Performed for one day</th>\n",
       "      <th>Expected Time (mins)</th>\n",
       "      <th>Actual Time (mins)</th>\n",
       "      <th>Task Completion Rate %</th>\n",
       "      <th>Overtime Work Rate (Mins)</th>\n",
       "      <th>Satisfaction Level Status</th>\n",
       "      <th>Satisfaction Level Result</th>\n",
       "    </tr>\n",
       "  </thead>\n",
       "  <tbody>\n",
       "    <tr>\n",
       "      <th>0</th>\n",
       "      <td>4</td>\n",
       "      <td>300</td>\n",
       "      <td>280</td>\n",
       "      <td>70.0</td>\n",
       "      <td>60</td>\n",
       "      <td>Satisfied</td>\n",
       "      <td>2</td>\n",
       "    </tr>\n",
       "    <tr>\n",
       "      <th>1</th>\n",
       "      <td>5</td>\n",
       "      <td>400</td>\n",
       "      <td>420</td>\n",
       "      <td>60.0</td>\n",
       "      <td>100</td>\n",
       "      <td>Neutral</td>\n",
       "      <td>3</td>\n",
       "    </tr>\n",
       "    <tr>\n",
       "      <th>2</th>\n",
       "      <td>7</td>\n",
       "      <td>100</td>\n",
       "      <td>80</td>\n",
       "      <td>55.5</td>\n",
       "      <td>70</td>\n",
       "      <td>Neutral</td>\n",
       "      <td>3</td>\n",
       "    </tr>\n",
       "    <tr>\n",
       "      <th>3</th>\n",
       "      <td>6</td>\n",
       "      <td>300</td>\n",
       "      <td>270</td>\n",
       "      <td>43.0</td>\n",
       "      <td>80</td>\n",
       "      <td>Unsatisfied</td>\n",
       "      <td>4</td>\n",
       "    </tr>\n",
       "    <tr>\n",
       "      <th>4</th>\n",
       "      <td>5</td>\n",
       "      <td>300</td>\n",
       "      <td>280</td>\n",
       "      <td>80.0</td>\n",
       "      <td>60</td>\n",
       "      <td>Very Satisfied</td>\n",
       "      <td>1</td>\n",
       "    </tr>\n",
       "  </tbody>\n",
       "</table>\n",
       "</div>"
      ],
      "text/plain": [
       "   Number of Tasks Performed for one day  Expected Time (mins)  \\\n",
       "0                                      4                   300   \n",
       "1                                      5                   400   \n",
       "2                                      7                   100   \n",
       "3                                      6                   300   \n",
       "4                                      5                   300   \n",
       "\n",
       "   Actual Time (mins)  Task Completion Rate %  Overtime Work Rate (Mins)  \\\n",
       "0                 280                    70.0                         60   \n",
       "1                 420                    60.0                        100   \n",
       "2                  80                    55.5                         70   \n",
       "3                 270                    43.0                         80   \n",
       "4                 280                    80.0                         60   \n",
       "\n",
       "  Satisfaction Level Status  Satisfaction Level Result  \n",
       "0                 Satisfied                          2  \n",
       "1                   Neutral                          3  \n",
       "2                   Neutral                          3  \n",
       "3               Unsatisfied                          4  \n",
       "4            Very Satisfied                          1  "
      ]
     },
     "execution_count": 8,
     "metadata": {},
     "output_type": "execute_result"
    }
   ],
   "source": [
    "data.head()"
   ]
  },
  {
   "cell_type": "code",
   "execution_count": 9,
   "id": "0842fb83",
   "metadata": {},
   "outputs": [],
   "source": [
    "data = data.drop(columns=['Satisfaction Level Status'])"
   ]
  },
  {
   "cell_type": "code",
   "execution_count": 10,
   "id": "00534ca1",
   "metadata": {},
   "outputs": [
    {
     "data": {
      "text/html": [
       "<div>\n",
       "<style scoped>\n",
       "    .dataframe tbody tr th:only-of-type {\n",
       "        vertical-align: middle;\n",
       "    }\n",
       "\n",
       "    .dataframe tbody tr th {\n",
       "        vertical-align: top;\n",
       "    }\n",
       "\n",
       "    .dataframe thead th {\n",
       "        text-align: right;\n",
       "    }\n",
       "</style>\n",
       "<table border=\"1\" class=\"dataframe\">\n",
       "  <thead>\n",
       "    <tr style=\"text-align: right;\">\n",
       "      <th></th>\n",
       "      <th>Number of Tasks Performed for one day</th>\n",
       "      <th>Expected Time (mins)</th>\n",
       "      <th>Actual Time (mins)</th>\n",
       "      <th>Task Completion Rate %</th>\n",
       "      <th>Overtime Work Rate (Mins)</th>\n",
       "      <th>Satisfaction Level Result</th>\n",
       "    </tr>\n",
       "  </thead>\n",
       "  <tbody>\n",
       "    <tr>\n",
       "      <th>0</th>\n",
       "      <td>4</td>\n",
       "      <td>300</td>\n",
       "      <td>280</td>\n",
       "      <td>70.0</td>\n",
       "      <td>60</td>\n",
       "      <td>2</td>\n",
       "    </tr>\n",
       "    <tr>\n",
       "      <th>1</th>\n",
       "      <td>5</td>\n",
       "      <td>400</td>\n",
       "      <td>420</td>\n",
       "      <td>60.0</td>\n",
       "      <td>100</td>\n",
       "      <td>3</td>\n",
       "    </tr>\n",
       "    <tr>\n",
       "      <th>2</th>\n",
       "      <td>7</td>\n",
       "      <td>100</td>\n",
       "      <td>80</td>\n",
       "      <td>55.5</td>\n",
       "      <td>70</td>\n",
       "      <td>3</td>\n",
       "    </tr>\n",
       "    <tr>\n",
       "      <th>3</th>\n",
       "      <td>6</td>\n",
       "      <td>300</td>\n",
       "      <td>270</td>\n",
       "      <td>43.0</td>\n",
       "      <td>80</td>\n",
       "      <td>4</td>\n",
       "    </tr>\n",
       "    <tr>\n",
       "      <th>4</th>\n",
       "      <td>5</td>\n",
       "      <td>300</td>\n",
       "      <td>280</td>\n",
       "      <td>80.0</td>\n",
       "      <td>60</td>\n",
       "      <td>1</td>\n",
       "    </tr>\n",
       "  </tbody>\n",
       "</table>\n",
       "</div>"
      ],
      "text/plain": [
       "   Number of Tasks Performed for one day  Expected Time (mins)  \\\n",
       "0                                      4                   300   \n",
       "1                                      5                   400   \n",
       "2                                      7                   100   \n",
       "3                                      6                   300   \n",
       "4                                      5                   300   \n",
       "\n",
       "   Actual Time (mins)  Task Completion Rate %  Overtime Work Rate (Mins)  \\\n",
       "0                 280                    70.0                         60   \n",
       "1                 420                    60.0                        100   \n",
       "2                  80                    55.5                         70   \n",
       "3                 270                    43.0                         80   \n",
       "4                 280                    80.0                         60   \n",
       "\n",
       "   Satisfaction Level Result  \n",
       "0                          2  \n",
       "1                          3  \n",
       "2                          3  \n",
       "3                          4  \n",
       "4                          1  "
      ]
     },
     "execution_count": 10,
     "metadata": {},
     "output_type": "execute_result"
    }
   ],
   "source": [
    "data.head()"
   ]
  },
  {
   "cell_type": "code",
   "execution_count": 11,
   "id": "62f8555f",
   "metadata": {},
   "outputs": [
    {
     "data": {
      "text/plain": [
       "(100, 6)"
      ]
     },
     "execution_count": 11,
     "metadata": {},
     "output_type": "execute_result"
    }
   ],
   "source": [
    "data.shape"
   ]
  },
  {
   "cell_type": "code",
   "execution_count": 12,
   "id": "d8025830",
   "metadata": {},
   "outputs": [
    {
     "data": {
      "text/html": [
       "<div>\n",
       "<style scoped>\n",
       "    .dataframe tbody tr th:only-of-type {\n",
       "        vertical-align: middle;\n",
       "    }\n",
       "\n",
       "    .dataframe tbody tr th {\n",
       "        vertical-align: top;\n",
       "    }\n",
       "\n",
       "    .dataframe thead th {\n",
       "        text-align: right;\n",
       "    }\n",
       "</style>\n",
       "<table border=\"1\" class=\"dataframe\">\n",
       "  <thead>\n",
       "    <tr style=\"text-align: right;\">\n",
       "      <th></th>\n",
       "      <th>Number of Tasks Performed for one day</th>\n",
       "      <th>Expected Time (mins)</th>\n",
       "      <th>Actual Time (mins)</th>\n",
       "      <th>Task Completion Rate %</th>\n",
       "      <th>Overtime Work Rate (Mins)</th>\n",
       "      <th>Satisfaction Level Result</th>\n",
       "    </tr>\n",
       "  </thead>\n",
       "  <tbody>\n",
       "    <tr>\n",
       "      <th>0</th>\n",
       "      <td>4</td>\n",
       "      <td>300</td>\n",
       "      <td>280</td>\n",
       "      <td>70.0</td>\n",
       "      <td>60</td>\n",
       "      <td>2</td>\n",
       "    </tr>\n",
       "    <tr>\n",
       "      <th>1</th>\n",
       "      <td>5</td>\n",
       "      <td>400</td>\n",
       "      <td>420</td>\n",
       "      <td>60.0</td>\n",
       "      <td>100</td>\n",
       "      <td>3</td>\n",
       "    </tr>\n",
       "    <tr>\n",
       "      <th>2</th>\n",
       "      <td>7</td>\n",
       "      <td>100</td>\n",
       "      <td>80</td>\n",
       "      <td>55.5</td>\n",
       "      <td>70</td>\n",
       "      <td>3</td>\n",
       "    </tr>\n",
       "    <tr>\n",
       "      <th>3</th>\n",
       "      <td>6</td>\n",
       "      <td>300</td>\n",
       "      <td>270</td>\n",
       "      <td>43.0</td>\n",
       "      <td>80</td>\n",
       "      <td>4</td>\n",
       "    </tr>\n",
       "    <tr>\n",
       "      <th>4</th>\n",
       "      <td>5</td>\n",
       "      <td>300</td>\n",
       "      <td>280</td>\n",
       "      <td>80.0</td>\n",
       "      <td>60</td>\n",
       "      <td>1</td>\n",
       "    </tr>\n",
       "  </tbody>\n",
       "</table>\n",
       "</div>"
      ],
      "text/plain": [
       "   Number of Tasks Performed for one day  Expected Time (mins)  \\\n",
       "0                                      4                   300   \n",
       "1                                      5                   400   \n",
       "2                                      7                   100   \n",
       "3                                      6                   300   \n",
       "4                                      5                   300   \n",
       "\n",
       "   Actual Time (mins)  Task Completion Rate %  Overtime Work Rate (Mins)  \\\n",
       "0                 280                    70.0                         60   \n",
       "1                 420                    60.0                        100   \n",
       "2                  80                    55.5                         70   \n",
       "3                 270                    43.0                         80   \n",
       "4                 280                    80.0                         60   \n",
       "\n",
       "   Satisfaction Level Result  \n",
       "0                          2  \n",
       "1                          3  \n",
       "2                          3  \n",
       "3                          4  \n",
       "4                          1  "
      ]
     },
     "execution_count": 12,
     "metadata": {},
     "output_type": "execute_result"
    }
   ],
   "source": [
    "data.head()"
   ]
  },
  {
   "cell_type": "code",
   "execution_count": 13,
   "id": "26b5b552",
   "metadata": {},
   "outputs": [
    {
     "name": "stdout",
     "output_type": "stream",
     "text": [
      "<class 'pandas.core.frame.DataFrame'>\n",
      "RangeIndex: 100 entries, 0 to 99\n",
      "Data columns (total 6 columns):\n",
      " #   Column                                 Non-Null Count  Dtype  \n",
      "---  ------                                 --------------  -----  \n",
      " 0   Number of Tasks Performed for one day  100 non-null    int64  \n",
      " 1   Expected Time (mins)                   100 non-null    int64  \n",
      " 2   Actual Time (mins)                     100 non-null    int64  \n",
      " 3   Task Completion Rate %                 100 non-null    float64\n",
      " 4   Overtime Work Rate (Mins)              100 non-null    int64  \n",
      " 5   Satisfaction Level Result              100 non-null    int64  \n",
      "dtypes: float64(1), int64(5)\n",
      "memory usage: 4.8 KB\n"
     ]
    }
   ],
   "source": [
    "data.info()"
   ]
  },
  {
   "cell_type": "code",
   "execution_count": 14,
   "id": "30b2d1e1",
   "metadata": {},
   "outputs": [
    {
     "data": {
      "text/plain": [
       "2    25\n",
       "5    19\n",
       "3    18\n",
       "4    17\n",
       "1    12\n",
       "6     8\n",
       "7     1\n",
       "Name: Number of Tasks Performed for one day, dtype: int64"
      ]
     },
     "execution_count": 14,
     "metadata": {},
     "output_type": "execute_result"
    }
   ],
   "source": [
    "data['Number of Tasks Performed for one day'].value_counts()"
   ]
  },
  {
   "cell_type": "code",
   "execution_count": 15,
   "id": "ca6bfd29",
   "metadata": {},
   "outputs": [
    {
     "data": {
      "text/plain": [
       "300    19\n",
       "250    17\n",
       "400    13\n",
       "450    12\n",
       "350     8\n",
       "320     7\n",
       "150     6\n",
       "200     6\n",
       "460     2\n",
       "280     1\n",
       "145     1\n",
       "480     1\n",
       "330     1\n",
       "500     1\n",
       "120     1\n",
       "100     1\n",
       "310     1\n",
       "380     1\n",
       "220     1\n",
       "Name: Expected Time (mins), dtype: int64"
      ]
     },
     "execution_count": 15,
     "metadata": {},
     "output_type": "execute_result"
    }
   ],
   "source": [
    "data['Expected Time (mins)'].value_counts()"
   ]
  },
  {
   "cell_type": "code",
   "execution_count": 16,
   "id": "38ef4ce8",
   "metadata": {},
   "outputs": [],
   "source": [
    "def minutes_to_hours(minutes):\n",
    "    hours=minutes//60\n",
    "    if minutes%60 > 30:\n",
    "        hours+1\n",
    "        \n",
    "    return hours"
   ]
  },
  {
   "cell_type": "code",
   "execution_count": 17,
   "id": "a77b2805",
   "metadata": {},
   "outputs": [],
   "source": [
    "data['Expected Time (mins)'] = data['Expected Time (mins)'].apply(minutes_to_hours)"
   ]
  },
  {
   "cell_type": "code",
   "execution_count": 18,
   "id": "3d53e2fe",
   "metadata": {},
   "outputs": [
    {
     "data": {
      "text/plain": [
       "300    19\n",
       "350    15\n",
       "400    11\n",
       "250    10\n",
       "200     7\n",
       "320     7\n",
       "450     5\n",
       "280     5\n",
       "150     4\n",
       "420     3\n",
       "270     2\n",
       "480     1\n",
       "520     1\n",
       "460     1\n",
       "530     1\n",
       "220     1\n",
       "230     1\n",
       "425     1\n",
       "80      1\n",
       "115     1\n",
       "465     1\n",
       "260     1\n",
       "440     1\n",
       "Name: Actual Time (mins), dtype: int64"
      ]
     },
     "execution_count": 18,
     "metadata": {},
     "output_type": "execute_result"
    }
   ],
   "source": [
    "data['Actual Time (mins)'].value_counts()"
   ]
  },
  {
   "cell_type": "code",
   "execution_count": 19,
   "id": "a0cfc0f3",
   "metadata": {},
   "outputs": [],
   "source": [
    "data['Actual Time (mins)'] = data['Actual Time (mins)'].apply(minutes_to_hours)"
   ]
  },
  {
   "cell_type": "code",
   "execution_count": 20,
   "id": "12a2c882",
   "metadata": {},
   "outputs": [
    {
     "data": {
      "text/plain": [
       "80.0     15\n",
       "90.0      9\n",
       "45.0      7\n",
       "100.0     6\n",
       "65.0      6\n",
       "60.0      6\n",
       "95.0      5\n",
       "78.0      5\n",
       "69.0      3\n",
       "70.0      3\n",
       "89.0      2\n",
       "75.0      2\n",
       "65.5      2\n",
       "35.0      2\n",
       "56.0      2\n",
       "79.0      2\n",
       "91.0      2\n",
       "86.0      2\n",
       "54.0      1\n",
       "50.0      1\n",
       "46.0      1\n",
       "63.5      1\n",
       "97.0      1\n",
       "62.0      1\n",
       "55.0      1\n",
       "85.0      1\n",
       "99.0      1\n",
       "68.0      1\n",
       "77.0      1\n",
       "58.0      1\n",
       "32.8      1\n",
       "67.7      1\n",
       "72.0      1\n",
       "40.0      1\n",
       "43.0      1\n",
       "55.5      1\n",
       "92.0      1\n",
       "Name: Task Completion Rate %, dtype: int64"
      ]
     },
     "execution_count": 20,
     "metadata": {},
     "output_type": "execute_result"
    }
   ],
   "source": [
    "data['Task Completion Rate %'].value_counts()"
   ]
  },
  {
   "cell_type": "code",
   "execution_count": 21,
   "id": "0158b7ea",
   "metadata": {},
   "outputs": [],
   "source": [
    "def percentage_set(value):\n",
    "    res=value//10\n",
    "    if value%10 > 5:\n",
    "        res+1\n",
    "        \n",
    "    return res*10"
   ]
  },
  {
   "cell_type": "code",
   "execution_count": 22,
   "id": "7281377c",
   "metadata": {},
   "outputs": [],
   "source": [
    "data['Task Completion Rate %'] = data['Task Completion Rate %'].apply(percentage_set)"
   ]
  },
  {
   "cell_type": "code",
   "execution_count": 23,
   "id": "5a9786bf",
   "metadata": {},
   "outputs": [
    {
     "data": {
      "text/plain": [
       "0      36\n",
       "30     22\n",
       "15     12\n",
       "60     11\n",
       "45      7\n",
       "50      6\n",
       "35      2\n",
       "100     1\n",
       "70      1\n",
       "80      1\n",
       "40      1\n",
       "Name: Overtime Work Rate (Mins), dtype: int64"
      ]
     },
     "execution_count": 23,
     "metadata": {},
     "output_type": "execute_result"
    }
   ],
   "source": [
    "data['Overtime Work Rate (Mins)'].value_counts()"
   ]
  },
  {
   "cell_type": "code",
   "execution_count": 24,
   "id": "c8547c36",
   "metadata": {},
   "outputs": [],
   "source": [
    "data['Overtime Work Rate (Mins)'] = data['Overtime Work Rate (Mins)'].apply(minutes_to_hours)"
   ]
  },
  {
   "cell_type": "code",
   "execution_count": 25,
   "id": "f1fd18e4",
   "metadata": {},
   "outputs": [
    {
     "data": {
      "text/html": [
       "<div>\n",
       "<style scoped>\n",
       "    .dataframe tbody tr th:only-of-type {\n",
       "        vertical-align: middle;\n",
       "    }\n",
       "\n",
       "    .dataframe tbody tr th {\n",
       "        vertical-align: top;\n",
       "    }\n",
       "\n",
       "    .dataframe thead th {\n",
       "        text-align: right;\n",
       "    }\n",
       "</style>\n",
       "<table border=\"1\" class=\"dataframe\">\n",
       "  <thead>\n",
       "    <tr style=\"text-align: right;\">\n",
       "      <th></th>\n",
       "      <th>Number of Tasks Performed for one day</th>\n",
       "      <th>Expected Time (mins)</th>\n",
       "      <th>Actual Time (mins)</th>\n",
       "      <th>Task Completion Rate %</th>\n",
       "      <th>Overtime Work Rate (Mins)</th>\n",
       "      <th>Satisfaction Level Result</th>\n",
       "    </tr>\n",
       "  </thead>\n",
       "  <tbody>\n",
       "    <tr>\n",
       "      <th>0</th>\n",
       "      <td>4</td>\n",
       "      <td>5</td>\n",
       "      <td>4</td>\n",
       "      <td>70.0</td>\n",
       "      <td>1</td>\n",
       "      <td>2</td>\n",
       "    </tr>\n",
       "    <tr>\n",
       "      <th>1</th>\n",
       "      <td>5</td>\n",
       "      <td>6</td>\n",
       "      <td>7</td>\n",
       "      <td>60.0</td>\n",
       "      <td>1</td>\n",
       "      <td>3</td>\n",
       "    </tr>\n",
       "    <tr>\n",
       "      <th>2</th>\n",
       "      <td>7</td>\n",
       "      <td>1</td>\n",
       "      <td>1</td>\n",
       "      <td>50.0</td>\n",
       "      <td>1</td>\n",
       "      <td>3</td>\n",
       "    </tr>\n",
       "    <tr>\n",
       "      <th>3</th>\n",
       "      <td>6</td>\n",
       "      <td>5</td>\n",
       "      <td>4</td>\n",
       "      <td>40.0</td>\n",
       "      <td>1</td>\n",
       "      <td>4</td>\n",
       "    </tr>\n",
       "    <tr>\n",
       "      <th>4</th>\n",
       "      <td>5</td>\n",
       "      <td>5</td>\n",
       "      <td>4</td>\n",
       "      <td>80.0</td>\n",
       "      <td>1</td>\n",
       "      <td>1</td>\n",
       "    </tr>\n",
       "    <tr>\n",
       "      <th>5</th>\n",
       "      <td>3</td>\n",
       "      <td>4</td>\n",
       "      <td>5</td>\n",
       "      <td>40.0</td>\n",
       "      <td>0</td>\n",
       "      <td>4</td>\n",
       "    </tr>\n",
       "    <tr>\n",
       "      <th>6</th>\n",
       "      <td>1</td>\n",
       "      <td>8</td>\n",
       "      <td>8</td>\n",
       "      <td>70.0</td>\n",
       "      <td>0</td>\n",
       "      <td>2</td>\n",
       "    </tr>\n",
       "    <tr>\n",
       "      <th>7</th>\n",
       "      <td>2</td>\n",
       "      <td>8</td>\n",
       "      <td>7</td>\n",
       "      <td>60.0</td>\n",
       "      <td>0</td>\n",
       "      <td>2</td>\n",
       "    </tr>\n",
       "    <tr>\n",
       "      <th>8</th>\n",
       "      <td>5</td>\n",
       "      <td>7</td>\n",
       "      <td>8</td>\n",
       "      <td>30.0</td>\n",
       "      <td>0</td>\n",
       "      <td>5</td>\n",
       "    </tr>\n",
       "    <tr>\n",
       "      <th>9</th>\n",
       "      <td>4</td>\n",
       "      <td>6</td>\n",
       "      <td>8</td>\n",
       "      <td>50.0</td>\n",
       "      <td>0</td>\n",
       "      <td>3</td>\n",
       "    </tr>\n",
       "    <tr>\n",
       "      <th>10</th>\n",
       "      <td>2</td>\n",
       "      <td>4</td>\n",
       "      <td>5</td>\n",
       "      <td>80.0</td>\n",
       "      <td>0</td>\n",
       "      <td>1</td>\n",
       "    </tr>\n",
       "    <tr>\n",
       "      <th>11</th>\n",
       "      <td>5</td>\n",
       "      <td>2</td>\n",
       "      <td>2</td>\n",
       "      <td>100.0</td>\n",
       "      <td>0</td>\n",
       "      <td>1</td>\n",
       "    </tr>\n",
       "    <tr>\n",
       "      <th>12</th>\n",
       "      <td>6</td>\n",
       "      <td>5</td>\n",
       "      <td>5</td>\n",
       "      <td>90.0</td>\n",
       "      <td>0</td>\n",
       "      <td>1</td>\n",
       "    </tr>\n",
       "    <tr>\n",
       "      <th>13</th>\n",
       "      <td>3</td>\n",
       "      <td>5</td>\n",
       "      <td>4</td>\n",
       "      <td>90.0</td>\n",
       "      <td>0</td>\n",
       "      <td>1</td>\n",
       "    </tr>\n",
       "    <tr>\n",
       "      <th>14</th>\n",
       "      <td>1</td>\n",
       "      <td>2</td>\n",
       "      <td>3</td>\n",
       "      <td>70.0</td>\n",
       "      <td>1</td>\n",
       "      <td>2</td>\n",
       "    </tr>\n",
       "    <tr>\n",
       "      <th>15</th>\n",
       "      <td>4</td>\n",
       "      <td>5</td>\n",
       "      <td>5</td>\n",
       "      <td>80.0</td>\n",
       "      <td>0</td>\n",
       "      <td>1</td>\n",
       "    </tr>\n",
       "    <tr>\n",
       "      <th>16</th>\n",
       "      <td>5</td>\n",
       "      <td>6</td>\n",
       "      <td>7</td>\n",
       "      <td>40.0</td>\n",
       "      <td>0</td>\n",
       "      <td>4</td>\n",
       "    </tr>\n",
       "    <tr>\n",
       "      <th>17</th>\n",
       "      <td>2</td>\n",
       "      <td>4</td>\n",
       "      <td>4</td>\n",
       "      <td>70.0</td>\n",
       "      <td>0</td>\n",
       "      <td>2</td>\n",
       "    </tr>\n",
       "    <tr>\n",
       "      <th>18</th>\n",
       "      <td>3</td>\n",
       "      <td>5</td>\n",
       "      <td>5</td>\n",
       "      <td>80.0</td>\n",
       "      <td>0</td>\n",
       "      <td>1</td>\n",
       "    </tr>\n",
       "    <tr>\n",
       "      <th>19</th>\n",
       "      <td>2</td>\n",
       "      <td>4</td>\n",
       "      <td>3</td>\n",
       "      <td>70.0</td>\n",
       "      <td>0</td>\n",
       "      <td>2</td>\n",
       "    </tr>\n",
       "    <tr>\n",
       "      <th>20</th>\n",
       "      <td>1</td>\n",
       "      <td>3</td>\n",
       "      <td>3</td>\n",
       "      <td>60.0</td>\n",
       "      <td>0</td>\n",
       "      <td>3</td>\n",
       "    </tr>\n",
       "    <tr>\n",
       "      <th>21</th>\n",
       "      <td>5</td>\n",
       "      <td>7</td>\n",
       "      <td>6</td>\n",
       "      <td>70.0</td>\n",
       "      <td>0</td>\n",
       "      <td>2</td>\n",
       "    </tr>\n",
       "    <tr>\n",
       "      <th>22</th>\n",
       "      <td>5</td>\n",
       "      <td>7</td>\n",
       "      <td>7</td>\n",
       "      <td>60.0</td>\n",
       "      <td>0</td>\n",
       "      <td>3</td>\n",
       "    </tr>\n",
       "    <tr>\n",
       "      <th>23</th>\n",
       "      <td>3</td>\n",
       "      <td>5</td>\n",
       "      <td>5</td>\n",
       "      <td>60.0</td>\n",
       "      <td>0</td>\n",
       "      <td>2</td>\n",
       "    </tr>\n",
       "    <tr>\n",
       "      <th>24</th>\n",
       "      <td>3</td>\n",
       "      <td>4</td>\n",
       "      <td>3</td>\n",
       "      <td>80.0</td>\n",
       "      <td>0</td>\n",
       "      <td>1</td>\n",
       "    </tr>\n",
       "  </tbody>\n",
       "</table>\n",
       "</div>"
      ],
      "text/plain": [
       "    Number of Tasks Performed for one day  Expected Time (mins)  \\\n",
       "0                                       4                     5   \n",
       "1                                       5                     6   \n",
       "2                                       7                     1   \n",
       "3                                       6                     5   \n",
       "4                                       5                     5   \n",
       "5                                       3                     4   \n",
       "6                                       1                     8   \n",
       "7                                       2                     8   \n",
       "8                                       5                     7   \n",
       "9                                       4                     6   \n",
       "10                                      2                     4   \n",
       "11                                      5                     2   \n",
       "12                                      6                     5   \n",
       "13                                      3                     5   \n",
       "14                                      1                     2   \n",
       "15                                      4                     5   \n",
       "16                                      5                     6   \n",
       "17                                      2                     4   \n",
       "18                                      3                     5   \n",
       "19                                      2                     4   \n",
       "20                                      1                     3   \n",
       "21                                      5                     7   \n",
       "22                                      5                     7   \n",
       "23                                      3                     5   \n",
       "24                                      3                     4   \n",
       "\n",
       "    Actual Time (mins)  Task Completion Rate %  Overtime Work Rate (Mins)  \\\n",
       "0                    4                    70.0                          1   \n",
       "1                    7                    60.0                          1   \n",
       "2                    1                    50.0                          1   \n",
       "3                    4                    40.0                          1   \n",
       "4                    4                    80.0                          1   \n",
       "5                    5                    40.0                          0   \n",
       "6                    8                    70.0                          0   \n",
       "7                    7                    60.0                          0   \n",
       "8                    8                    30.0                          0   \n",
       "9                    8                    50.0                          0   \n",
       "10                   5                    80.0                          0   \n",
       "11                   2                   100.0                          0   \n",
       "12                   5                    90.0                          0   \n",
       "13                   4                    90.0                          0   \n",
       "14                   3                    70.0                          1   \n",
       "15                   5                    80.0                          0   \n",
       "16                   7                    40.0                          0   \n",
       "17                   4                    70.0                          0   \n",
       "18                   5                    80.0                          0   \n",
       "19                   3                    70.0                          0   \n",
       "20                   3                    60.0                          0   \n",
       "21                   6                    70.0                          0   \n",
       "22                   7                    60.0                          0   \n",
       "23                   5                    60.0                          0   \n",
       "24                   3                    80.0                          0   \n",
       "\n",
       "    Satisfaction Level Result  \n",
       "0                           2  \n",
       "1                           3  \n",
       "2                           3  \n",
       "3                           4  \n",
       "4                           1  \n",
       "5                           4  \n",
       "6                           2  \n",
       "7                           2  \n",
       "8                           5  \n",
       "9                           3  \n",
       "10                          1  \n",
       "11                          1  \n",
       "12                          1  \n",
       "13                          1  \n",
       "14                          2  \n",
       "15                          1  \n",
       "16                          4  \n",
       "17                          2  \n",
       "18                          1  \n",
       "19                          2  \n",
       "20                          3  \n",
       "21                          2  \n",
       "22                          3  \n",
       "23                          2  \n",
       "24                          1  "
      ]
     },
     "execution_count": 25,
     "metadata": {},
     "output_type": "execute_result"
    }
   ],
   "source": [
    "data.head(25)"
   ]
  },
  {
   "cell_type": "code",
   "execution_count": 26,
   "id": "03e5768a",
   "metadata": {},
   "outputs": [
    {
     "data": {
      "text/plain": [
       "<AxesSubplot:>"
      ]
     },
     "execution_count": 26,
     "metadata": {},
     "output_type": "execute_result"
    },
    {
     "data": {
      "image/png": "[encoded data removed]",
      "text/plain": [
       "<Figure size 432x288 with 2 Axes>"
      ]
     },
     "metadata": {
      "needs_background": "light"
     },
     "output_type": "display_data"
    }
   ],
   "source": [
    "sns.heatmap(data.isnull(),yticklabels=False, cmap=\"viridis\")"
   ]
  },
  {
   "cell_type": "code",
   "execution_count": 27,
   "id": "1185e710",
   "metadata": {},
   "outputs": [
    {
     "data": {
      "text/plain": [
       "<AxesSubplot:xlabel='Number of Tasks Performed for one day', ylabel='Satisfaction Level Result'>"
      ]
     },
     "execution_count": 27,
     "metadata": {},
     "output_type": "execute_result"
    },
    {
     "data": {
      "image/png": "[encoded data removed]",
      "text/plain": [
       "<Figure size 432x288 with 1 Axes>"
      ]
     },
     "metadata": {
      "needs_background": "light"
     },
     "output_type": "display_data"
    }
   ],
   "source": [
    "sns.boxplot(x='Number of Tasks Performed for one day',y='Satisfaction Level Result',data=data)"
   ]
  },
  {
   "cell_type": "code",
   "execution_count": 28,
   "id": "7a394e7a",
   "metadata": {},
   "outputs": [
    {
     "data": {
      "text/plain": [
       "<AxesSubplot:xlabel='Task Completion Rate %', ylabel='Satisfaction Level Result'>"
      ]
     },
     "execution_count": 28,
     "metadata": {},
     "output_type": "execute_result"
    },
    {
     "data": {
      "image/png": "[encoded data removed]",
      "text/plain": [
       "<Figure size 432x288 with 1 Axes>"
      ]
     },
     "metadata": {
      "needs_background": "light"
     },
     "output_type": "display_data"
    }
   ],
   "source": [
    "sns.boxplot(x='Task Completion Rate %',y='Satisfaction Level Result',data=data)"
   ]
  },
  {
   "cell_type": "code",
   "execution_count": 29,
   "id": "1712fed9",
   "metadata": {},
   "outputs": [
    {
     "data": {
      "text/plain": [
       "<AxesSubplot:xlabel='Expected Time (mins)', ylabel='Satisfaction Level Result'>"
      ]
     },
     "execution_count": 29,
     "metadata": {},
     "output_type": "execute_result"
    },
    {
     "data": {
      "image/png": "[encoded data removed]",
      "text/plain": [
       "<Figure size 432x288 with 1 Axes>"
      ]
     },
     "metadata": {
      "needs_background": "light"
     },
     "output_type": "display_data"
    }
   ],
   "source": [
    "sns.boxplot(x='Expected Time (mins)',y='Satisfaction Level Result',data=data)"
   ]
  },
  {
   "cell_type": "code",
   "execution_count": 30,
   "id": "93a1de16",
   "metadata": {},
   "outputs": [
    {
     "data": {
      "text/plain": [
       "<AxesSubplot:xlabel='Actual Time (mins)', ylabel='Satisfaction Level Result'>"
      ]
     },
     "execution_count": 30,
     "metadata": {},
     "output_type": "execute_result"
    },
    {
     "data": {
      "image/png": "[encoded data removed]",
      "text/plain": [
       "<Figure size 432x288 with 1 Axes>"
      ]
     },
     "metadata": {
      "needs_background": "light"
     },
     "output_type": "display_data"
    }
   ],
   "source": [
    "sns.boxplot(x='Actual Time (mins)',y='Satisfaction Level Result',data=data)"
   ]
  },
  {
   "cell_type": "code",
   "execution_count": 31,
   "id": "18195a79",
   "metadata": {},
   "outputs": [],
   "source": [
    "X = data.drop('Satisfaction Level Result', axis=1)\n",
    "y = data['Satisfaction Level Result']"
   ]
  },
  {
   "cell_type": "code",
   "execution_count": 32,
   "id": "cdf8d68f",
   "metadata": {},
   "outputs": [],
   "source": [
    "from sklearn.model_selection import train_test_split\n",
    "X_train, X_test, y_train, y_test = train_test_split(X, y, test_size = 0.25)"
   ]
  },
  {
   "cell_type": "code",
   "execution_count": 33,
   "id": "35ee043f",
   "metadata": {},
   "outputs": [
    {
     "data": {
      "text/plain": [
       "((75, 5), (100, 5))"
      ]
     },
     "execution_count": 33,
     "metadata": {},
     "output_type": "execute_result"
    }
   ],
   "source": [
    "X_train.shape, X.shape"
   ]
  },
  {
   "cell_type": "code",
   "execution_count": 34,
   "id": "e1348beb",
   "metadata": {},
   "outputs": [],
   "source": [
    "def model_acc(model):\n",
    "    model.fit(X_train, y_train)\n",
    "    acc = model.score(X_test, y_test)\n",
    "    print(str(model)+ ' --> ' +str(acc))"
   ]
  },
  {
   "cell_type": "code",
   "execution_count": 35,
   "id": "6eb1aa39",
   "metadata": {},
   "outputs": [
    {
     "name": "stdout",
     "output_type": "stream",
     "text": [
      "LinearRegression() --> 0.869094573865821\n",
      "Lasso() --> 0.8758780835197296\n",
      "DecisionTreeRegressor() --> 0.8604465709728868\n",
      "RandomForestRegressor() --> 0.9232057416267943\n"
     ]
    }
   ],
   "source": [
    "from sklearn.linear_model import LinearRegression\n",
    "lr = LinearRegression()\n",
    "model_acc(lr)\n",
    "\n",
    "from sklearn.linear_model import Lasso\n",
    "lasso = Lasso()\n",
    "model_acc(lasso)\n",
    "\n",
    "from sklearn.tree import DecisionTreeRegressor\n",
    "dt = DecisionTreeRegressor()\n",
    "model_acc(dt)\n",
    "\n",
    "from sklearn.ensemble import RandomForestRegressor\n",
    "rf = RandomForestRegressor()\n",
    "model_acc(rf)"
   ]
  },
  {
   "cell_type": "code",
   "execution_count": 36,
   "id": "fa7d24f3",
   "metadata": {},
   "outputs": [
    {
     "data": {
      "text/plain": [
       "0.9313157894736842"
      ]
     },
     "execution_count": 36,
     "metadata": {},
     "output_type": "execute_result"
    }
   ],
   "source": [
    "model = rf.fit(X_train, y_train)\n",
    "\n",
    "model.score(X_test, y_test)"
   ]
  },
  {
   "cell_type": "code",
   "execution_count": 37,
   "id": "ef330df3",
   "metadata": {},
   "outputs": [],
   "source": [
    "predict=np.round(model.predict(X_test))"
   ]
  },
  {
   "cell_type": "code",
   "execution_count": 38,
   "id": "4379f836",
   "metadata": {},
   "outputs": [
    {
     "name": "stdout",
     "output_type": "stream",
     "text": [
      "<class 'numpy.ndarray'>\n",
      "<class 'pandas.core.series.Series'>\n"
     ]
    },
    {
     "data": {
      "image/png": "[encoded data removed]",
      "text/plain": [
       "<Figure size 1152x360 with 1 Axes>"
      ]
     },
     "metadata": {
      "needs_background": "light"
     },
     "output_type": "display_data"
    }
   ],
   "source": [
    "A = np.array(y_test).reshape(-1, 1)\n",
    "B = predict.reshape(-1, 1)\n",
    "print(type(predict))\n",
    "print(type(y_test))\n",
    "plt.rcParams['figure.figsize'] = 16,5\n",
    "plt.figure()\n",
    "plt.plot(A[-100:], label=\"Real\")\n",
    "plt.plot(B[-100:], label=\"Predicted\")\n",
    "plt.legend()\n",
    "plt.title(\"Result : real vs predicted\")\n",
    "plt.ylabel(\"Result\")\n",
    "plt.xticks(())\n",
    "plt.show()"
   ]
  },
  {
   "cell_type": "code",
   "execution_count": 69,
   "id": "7be779d1",
   "metadata": {},
   "outputs": [],
   "source": [
    "pickle.dump(model, open(\"emp.pickle.dat\", \"wb\"))"
   ]
  },
  {
   "cell_type": "code",
   "execution_count": 82,
   "id": "91a306a6",
   "metadata": {},
   "outputs": [
    {
     "data": {
      "text/plain": [
       "2"
      ]
     },
     "execution_count": 82,
     "metadata": {},
     "output_type": "execute_result"
    }
   ],
   "source": [
    "int(np.round(model.predict([[4,5,4,60.0,1]]),0))"
   ]
  },
  {
   "cell_type": "code",
   "execution_count": 83,
   "id": "ead55d8f",
   "metadata": {},
   "outputs": [
    {
     "data": {
      "text/plain": [
       "array([4.02, 1.  , 1.  , 1.  , 2.25, 4.03, 4.7 , 2.02, 1.  , 1.  , 2.02,\n",
       "       2.04, 1.  , 1.  , 2.3 , 2.97, 2.1 , 1.  , 1.  , 1.  , 2.03, 2.07,\n",
       "       1.  , 1.  , 2.53])"
      ]
     },
     "execution_count": 83,
     "metadata": {},
     "output_type": "execute_result"
    }
   ],
   "source": [
    "model.predict(X_test)"
   ]
  },
  {
   "cell_type": "code",
   "execution_count": 85,
   "id": "ac2582ee",
   "metadata": {},
   "outputs": [],
   "source": [
    "with open('emp.pickle.dat' , 'rb') as f:\n",
    "    emp_model = pickle.load(f)"
   ]
  },
  {
   "cell_type": "code",
   "execution_count": 86,
   "id": "02f73d15",
   "metadata": {},
   "outputs": [
    {
     "data": {
      "text/plain": [
       "array([2.49])"
      ]
     },
     "execution_count": 86,
     "metadata": {},
     "output_type": "execute_result"
    }
   ],
   "source": [
    "emp_model.predict([[4,5,4,60.0,1]])"
   ]
  },
  {
   "cell_type": "code",
   "execution_count": 87,
   "id": "a97691cc",
   "metadata": {},
   "outputs": [
    {
     "data": {
      "text/plain": [
       "2"
      ]
     },
     "execution_count": 87,
     "metadata": {},
     "output_type": "execute_result"
    }
   ],
   "source": [
    "int(np.round(emp_model.predict([[4,5,4,60.0,1]]),0))"
   ]
  },
  {
   "cell_type": "code",
   "execution_count": 88,
   "id": "f0d1ba7b",
   "metadata": {},
   "outputs": [
    {
     "data": {
      "text/plain": [
       "array([4., 1., 1., 1., 2., 4., 5., 2., 1., 1., 2., 2., 1., 1., 2., 3., 2.,\n",
       "       1., 1., 1., 2., 2., 1., 1., 3.])"
      ]
     },
     "execution_count": 88,
     "metadata": {},
     "output_type": "execute_result"
    }
   ],
   "source": [
    "np.round(emp_model.predict(X_test),0)"
   ]
  },
  {
   "cell_type": "code",
   "execution_count": null,
   "id": "408f1652",
   "metadata": {},
   "outputs": [],
   "source": []
  }
 ],
 "metadata": {
  "kernelspec": {
   "display_name": "Python 3",
   "language": "python",
   "name": "python3"
  },
  "language_info": {
   "codemirror_mode": {
    "name": "ipython",
    "version": 3
   },
   "file_extension": ".py",
   "mimetype": "text/x-python",
   "name": "python",
   "nbconvert_exporter": "python",
   "pygments_lexer": "ipython3",
   "version": "3.10.9"
  },
  "vscode": {
   "interpreter": {
    "hash": "49d8cc53d4e430fe6f3413c7276ddeaac60812903653b0788cc898211e602178"
   }
  }
 },
 "nbformat": 4,
 "nbformat_minor": 5
}
