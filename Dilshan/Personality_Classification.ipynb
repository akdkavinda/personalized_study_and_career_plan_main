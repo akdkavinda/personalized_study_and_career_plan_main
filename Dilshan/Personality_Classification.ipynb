{
 "cells": [
  {
   "cell_type": "code",
   "execution_count": 175,
   "id": "4842c6bd",
   "metadata": {},
   "outputs": [],
   "source": [
    "import numpy as np\n",
    "import pandas as pd\n",
    "import matplotlib.pyplot as plt\n",
    "import seaborn as sns"
   ]
  },
  {
   "cell_type": "code",
   "execution_count": 176,
   "id": "d82d86bc",
   "metadata": {},
   "outputs": [],
   "source": [
    "data = pd.read_csv('dataset.csv', encoding='latin-1')"
   ]
  },
  {
   "cell_type": "code",
   "execution_count": 177,
   "id": "fb7f411f",
   "metadata": {},
   "outputs": [
    {
     "data": {
      "text/html": [
       "<div>\n",
       "<style scoped>\n",
       "    .dataframe tbody tr th:only-of-type {\n",
       "        vertical-align: middle;\n",
       "    }\n",
       "\n",
       "    .dataframe tbody tr th {\n",
       "        vertical-align: top;\n",
       "    }\n",
       "\n",
       "    .dataframe thead th {\n",
       "        text-align: right;\n",
       "    }\n",
       "</style>\n",
       "<table border=\"1\" class=\"dataframe\">\n",
       "  <thead>\n",
       "    <tr style=\"text-align: right;\">\n",
       "      <th></th>\n",
       "      <th>EXT1</th>\n",
       "      <th>EXT2</th>\n",
       "      <th>EXT3</th>\n",
       "      <th>EXT4</th>\n",
       "      <th>EXT5</th>\n",
       "      <th>EXT6</th>\n",
       "      <th>EXT7</th>\n",
       "      <th>EXT8</th>\n",
       "      <th>EXT9</th>\n",
       "      <th>EXT10</th>\n",
       "      <th>...</th>\n",
       "      <th>OPN1</th>\n",
       "      <th>OPN2</th>\n",
       "      <th>OPN3</th>\n",
       "      <th>OPN4</th>\n",
       "      <th>OPN5</th>\n",
       "      <th>OPN6</th>\n",
       "      <th>OPN7</th>\n",
       "      <th>OPN8</th>\n",
       "      <th>OPN9</th>\n",
       "      <th>OPN10</th>\n",
       "    </tr>\n",
       "  </thead>\n",
       "  <tbody>\n",
       "    <tr>\n",
       "      <th>0</th>\n",
       "      <td>4</td>\n",
       "      <td>1</td>\n",
       "      <td>5</td>\n",
       "      <td>2</td>\n",
       "      <td>5</td>\n",
       "      <td>1</td>\n",
       "      <td>5</td>\n",
       "      <td>2</td>\n",
       "      <td>4</td>\n",
       "      <td>1</td>\n",
       "      <td>...</td>\n",
       "      <td>5</td>\n",
       "      <td>1</td>\n",
       "      <td>4</td>\n",
       "      <td>1</td>\n",
       "      <td>4</td>\n",
       "      <td>1</td>\n",
       "      <td>5</td>\n",
       "      <td>3</td>\n",
       "      <td>4</td>\n",
       "      <td>5</td>\n",
       "    </tr>\n",
       "    <tr>\n",
       "      <th>1</th>\n",
       "      <td>3</td>\n",
       "      <td>5</td>\n",
       "      <td>3</td>\n",
       "      <td>4</td>\n",
       "      <td>3</td>\n",
       "      <td>3</td>\n",
       "      <td>2</td>\n",
       "      <td>5</td>\n",
       "      <td>1</td>\n",
       "      <td>5</td>\n",
       "      <td>...</td>\n",
       "      <td>1</td>\n",
       "      <td>2</td>\n",
       "      <td>4</td>\n",
       "      <td>2</td>\n",
       "      <td>3</td>\n",
       "      <td>1</td>\n",
       "      <td>4</td>\n",
       "      <td>2</td>\n",
       "      <td>5</td>\n",
       "      <td>3</td>\n",
       "    </tr>\n",
       "    <tr>\n",
       "      <th>2</th>\n",
       "      <td>2</td>\n",
       "      <td>3</td>\n",
       "      <td>4</td>\n",
       "      <td>4</td>\n",
       "      <td>3</td>\n",
       "      <td>2</td>\n",
       "      <td>1</td>\n",
       "      <td>3</td>\n",
       "      <td>2</td>\n",
       "      <td>5</td>\n",
       "      <td>...</td>\n",
       "      <td>5</td>\n",
       "      <td>1</td>\n",
       "      <td>2</td>\n",
       "      <td>1</td>\n",
       "      <td>4</td>\n",
       "      <td>2</td>\n",
       "      <td>5</td>\n",
       "      <td>3</td>\n",
       "      <td>4</td>\n",
       "      <td>4</td>\n",
       "    </tr>\n",
       "    <tr>\n",
       "      <th>3</th>\n",
       "      <td>2</td>\n",
       "      <td>2</td>\n",
       "      <td>2</td>\n",
       "      <td>3</td>\n",
       "      <td>4</td>\n",
       "      <td>2</td>\n",
       "      <td>2</td>\n",
       "      <td>4</td>\n",
       "      <td>1</td>\n",
       "      <td>4</td>\n",
       "      <td>...</td>\n",
       "      <td>4</td>\n",
       "      <td>2</td>\n",
       "      <td>5</td>\n",
       "      <td>2</td>\n",
       "      <td>3</td>\n",
       "      <td>1</td>\n",
       "      <td>4</td>\n",
       "      <td>4</td>\n",
       "      <td>3</td>\n",
       "      <td>3</td>\n",
       "    </tr>\n",
       "    <tr>\n",
       "      <th>4</th>\n",
       "      <td>3</td>\n",
       "      <td>3</td>\n",
       "      <td>3</td>\n",
       "      <td>3</td>\n",
       "      <td>5</td>\n",
       "      <td>3</td>\n",
       "      <td>3</td>\n",
       "      <td>5</td>\n",
       "      <td>3</td>\n",
       "      <td>4</td>\n",
       "      <td>...</td>\n",
       "      <td>5</td>\n",
       "      <td>1</td>\n",
       "      <td>5</td>\n",
       "      <td>1</td>\n",
       "      <td>5</td>\n",
       "      <td>1</td>\n",
       "      <td>5</td>\n",
       "      <td>3</td>\n",
       "      <td>5</td>\n",
       "      <td>5</td>\n",
       "    </tr>\n",
       "  </tbody>\n",
       "</table>\n",
       "<p>5 rows × 50 columns</p>\n",
       "</div>"
      ],
      "text/plain": [
       "   EXT1  EXT2  EXT3  EXT4  EXT5  EXT6  EXT7  EXT8  EXT9  EXT10  ...  OPN1  \\\n",
       "0     4     1     5     2     5     1     5     2     4      1  ...     5   \n",
       "1     3     5     3     4     3     3     2     5     1      5  ...     1   \n",
       "2     2     3     4     4     3     2     1     3     2      5  ...     5   \n",
       "3     2     2     2     3     4     2     2     4     1      4  ...     4   \n",
       "4     3     3     3     3     5     3     3     5     3      4  ...     5   \n",
       "\n",
       "   OPN2  OPN3  OPN4  OPN5  OPN6  OPN7  OPN8  OPN9  OPN10  \n",
       "0     1     4     1     4     1     5     3     4      5  \n",
       "1     2     4     2     3     1     4     2     5      3  \n",
       "2     1     2     1     4     2     5     3     4      4  \n",
       "3     2     5     2     3     1     4     4     3      3  \n",
       "4     1     5     1     5     1     5     3     5      5  \n",
       "\n",
       "[5 rows x 50 columns]"
      ]
     },
     "execution_count": 177,
     "metadata": {},
     "output_type": "execute_result"
    }
   ],
   "source": [
    "data.head()"
   ]
  },
  {
   "cell_type": "code",
   "execution_count": 178,
   "id": "81fa2fda",
   "metadata": {},
   "outputs": [
    {
     "data": {
      "text/plain": [
       "(12007, 50)"
      ]
     },
     "execution_count": 178,
     "metadata": {},
     "output_type": "execute_result"
    }
   ],
   "source": [
    "data.shape"
   ]
  },
  {
   "cell_type": "code",
   "execution_count": 179,
   "id": "627f27dc",
   "metadata": {},
   "outputs": [
    {
     "data": {
      "text/plain": [
       "EXT1     0\n",
       "EXT2     0\n",
       "EXT3     0\n",
       "EXT4     0\n",
       "EXT5     0\n",
       "EXT6     0\n",
       "EXT7     0\n",
       "EXT8     0\n",
       "EXT9     0\n",
       "EXT10    0\n",
       "EST1     0\n",
       "EST2     0\n",
       "EST3     0\n",
       "EST4     0\n",
       "EST5     0\n",
       "EST6     0\n",
       "EST7     0\n",
       "EST8     0\n",
       "EST9     0\n",
       "EST10    0\n",
       "AGR1     0\n",
       "AGR2     0\n",
       "AGR3     0\n",
       "AGR4     0\n",
       "AGR5     0\n",
       "AGR6     0\n",
       "AGR7     0\n",
       "AGR8     0\n",
       "AGR9     0\n",
       "AGR10    0\n",
       "CSN1     0\n",
       "CSN2     0\n",
       "CSN3     0\n",
       "CSN4     0\n",
       "CSN5     0\n",
       "CSN6     0\n",
       "CSN7     0\n",
       "CSN8     0\n",
       "CSN9     0\n",
       "CSN10    0\n",
       "OPN1     0\n",
       "OPN2     0\n",
       "OPN3     0\n",
       "OPN4     0\n",
       "OPN5     0\n",
       "OPN6     0\n",
       "OPN7     0\n",
       "OPN8     0\n",
       "OPN9     0\n",
       "OPN10    0\n",
       "dtype: int64"
      ]
     },
     "execution_count": 179,
     "metadata": {},
     "output_type": "execute_result"
    }
   ],
   "source": [
    "data.isnull().sum()"
   ]
  },
  {
   "cell_type": "code",
   "execution_count": 180,
   "id": "2783d7e3",
   "metadata": {},
   "outputs": [
    {
     "name": "stdout",
     "output_type": "stream",
     "text": [
      "<class 'pandas.core.frame.DataFrame'>\n",
      "RangeIndex: 12007 entries, 0 to 12006\n",
      "Data columns (total 50 columns):\n",
      " #   Column  Non-Null Count  Dtype\n",
      "---  ------  --------------  -----\n",
      " 0   EXT1    12007 non-null  int64\n",
      " 1   EXT2    12007 non-null  int64\n",
      " 2   EXT3    12007 non-null  int64\n",
      " 3   EXT4    12007 non-null  int64\n",
      " 4   EXT5    12007 non-null  int64\n",
      " 5   EXT6    12007 non-null  int64\n",
      " 6   EXT7    12007 non-null  int64\n",
      " 7   EXT8    12007 non-null  int64\n",
      " 8   EXT9    12007 non-null  int64\n",
      " 9   EXT10   12007 non-null  int64\n",
      " 10  EST1    12007 non-null  int64\n",
      " 11  EST2    12007 non-null  int64\n",
      " 12  EST3    12007 non-null  int64\n",
      " 13  EST4    12007 non-null  int64\n",
      " 14  EST5    12007 non-null  int64\n",
      " 15  EST6    12007 non-null  int64\n",
      " 16  EST7    12007 non-null  int64\n",
      " 17  EST8    12007 non-null  int64\n",
      " 18  EST9    12007 non-null  int64\n",
      " 19  EST10   12007 non-null  int64\n",
      " 20  AGR1    12007 non-null  int64\n",
      " 21  AGR2    12007 non-null  int64\n",
      " 22  AGR3    12007 non-null  int64\n",
      " 23  AGR4    12007 non-null  int64\n",
      " 24  AGR5    12007 non-null  int64\n",
      " 25  AGR6    12007 non-null  int64\n",
      " 26  AGR7    12007 non-null  int64\n",
      " 27  AGR8    12007 non-null  int64\n",
      " 28  AGR9    12007 non-null  int64\n",
      " 29  AGR10   12007 non-null  int64\n",
      " 30  CSN1    12007 non-null  int64\n",
      " 31  CSN2    12007 non-null  int64\n",
      " 32  CSN3    12007 non-null  int64\n",
      " 33  CSN4    12007 non-null  int64\n",
      " 34  CSN5    12007 non-null  int64\n",
      " 35  CSN6    12007 non-null  int64\n",
      " 36  CSN7    12007 non-null  int64\n",
      " 37  CSN8    12007 non-null  int64\n",
      " 38  CSN9    12007 non-null  int64\n",
      " 39  CSN10   12007 non-null  int64\n",
      " 40  OPN1    12007 non-null  int64\n",
      " 41  OPN2    12007 non-null  int64\n",
      " 42  OPN3    12007 non-null  int64\n",
      " 43  OPN4    12007 non-null  int64\n",
      " 44  OPN5    12007 non-null  int64\n",
      " 45  OPN6    12007 non-null  int64\n",
      " 46  OPN7    12007 non-null  int64\n",
      " 47  OPN8    12007 non-null  int64\n",
      " 48  OPN9    12007 non-null  int64\n",
      " 49  OPN10   12007 non-null  int64\n",
      "dtypes: int64(50)\n",
      "memory usage: 4.6 MB\n"
     ]
    }
   ],
   "source": [
    "data.info()"
   ]
  },
  {
   "cell_type": "code",
   "execution_count": 181,
   "id": "b835fe02",
   "metadata": {},
   "outputs": [
    {
     "data": {
      "text/plain": [
       "<Axes: >"
      ]
     },
     "execution_count": 181,
     "metadata": {},
     "output_type": "execute_result"
    },
    {
     "data": {
      "image/png": "[encoded data removed]",
      "text/plain": [
       "<Figure size 640x480 with 2 Axes>"
      ]
     },
     "metadata": {},
     "output_type": "display_data"
    }
   ],
   "source": [
    "sns.heatmap(data.isnull(),yticklabels=False, cmap=\"viridis\")"
   ]
  },
  {
   "cell_type": "code",
   "execution_count": 182,
   "id": "73782dd4",
   "metadata": {},
   "outputs": [],
   "source": [
    "#def th5_q(value):\n",
    "#    res=21\n",
    "#    if value==1:\n",
    "#        res=21\n",
    "#    elif value==2:\n",
    "#        res=22\n",
    "#    elif value==3:\n",
    "#        res=23\n",
    "#    elif value==4:\n",
    "#        res=24\n",
    "#    else:\n",
    "#        res=25\n",
    "#        \n",
    "#    return res"
   ]
  },
  {
   "cell_type": "code",
   "execution_count": 183,
   "id": "13949728",
   "metadata": {},
   "outputs": [],
   "source": [
    "#data['OPN1'] = data['OPN1'].apply(th5_q)\n",
    "#data['OPN2'] = data['OPN2'].apply(th5_q)\n",
    "#data['OPN3'] = data['OPN3'].apply(th5_q)\n",
    "#data['OPN4'] = data['OPN4'].apply(th5_q)\n",
    "#data['OPN5'] = data['OPN5'].apply(th5_q)\n",
    "#data['OPN6'] = data['OPN6'].apply(th5_q)\n",
    "#data['OPN7'] = data['OPN7'].apply(th5_q)\n",
    "#data['OPN8'] = data['OPN8'].apply(th5_q)\n",
    "#data['OPN9'] = data['OPN9'].apply(th5_q)\n",
    "#data['OPN10'] = data['OPN10'].apply(th5_q)"
   ]
  },
  {
   "cell_type": "code",
   "execution_count": 184,
   "id": "2b833776",
   "metadata": {},
   "outputs": [],
   "source": [
    "def new_res_col(row):\n",
    "    value1=row['EXT1']+row['EXT2']+row['EXT3']+row['EXT4']+row['EXT5']+row['EXT6']+row['EXT7']+row['EXT8']+row['EXT9']+row['EXT10']\n",
    "    value2=row['EST1']+row['EST2']+row['EST3']+row['EST4']+row['EST5']+row['EST6']+row['EST7']+row['EST8']+row['EST9']+row['EST10']\n",
    "    value3=row['AGR1']+row['AGR2']+row['AGR3']+row['AGR4']+row['AGR5']+row['AGR6']+row['AGR7']+row['AGR8']+row['AGR9']+row['AGR10']\n",
    "    value4=row['CSN1']+row['CSN2']+row['CSN3']+row['CSN4']+row['CSN5']+row['CSN6']+row['CSN7']+row['CSN8']+row['CSN9']+row['CSN10']\n",
    "    value5=row['OPN1']+row['OPN2']+row['OPN3']+row['OPN4']+row['OPN5']+row['OPN6']+row['OPN7']+row['OPN8']+row['OPN9']+row['OPN10']\n",
    "    res=1\n",
    "    if value1>value2 and value1>value3 and value1>value4 and value1>value5:\n",
    "        res=1\n",
    "    elif value2>value1 and value2>value3 and value2>value4 and value2>value5:\n",
    "        res=2\n",
    "    elif value3>value1 and value3>value2 and value3>value4 and value3>value5:\n",
    "        res=3\n",
    "    elif value4>value1 and value4>value2 and value4>value3 and value4>value5:\n",
    "        res=4\n",
    "    else:\n",
    "        res=5\n",
    "        \n",
    "    return res"
   ]
  },
  {
   "cell_type": "code",
   "execution_count": 185,
   "id": "a5acc10b",
   "metadata": {},
   "outputs": [
    {
     "data": {
      "text/plain": [
       "0        5\n",
       "1        1\n",
       "2        5\n",
       "3        3\n",
       "4        5\n",
       "        ..\n",
       "12002    4\n",
       "12003    5\n",
       "12004    5\n",
       "12005    3\n",
       "12006    2\n",
       "Length: 12007, dtype: int64"
      ]
     },
     "execution_count": 185,
     "metadata": {},
     "output_type": "execute_result"
    }
   ],
   "source": [
    "data.apply(new_res_col, axis=1)"
   ]
  },
  {
   "cell_type": "code",
   "execution_count": 186,
   "id": "06c34590",
   "metadata": {},
   "outputs": [],
   "source": [
    "data['result'] = data.apply(new_res_col, axis=1)"
   ]
  },
  {
   "cell_type": "code",
   "execution_count": 187,
   "id": "03a1146e",
   "metadata": {},
   "outputs": [
    {
     "data": {
      "text/html": [
       "<div>\n",
       "<style scoped>\n",
       "    .dataframe tbody tr th:only-of-type {\n",
       "        vertical-align: middle;\n",
       "    }\n",
       "\n",
       "    .dataframe tbody tr th {\n",
       "        vertical-align: top;\n",
       "    }\n",
       "\n",
       "    .dataframe thead th {\n",
       "        text-align: right;\n",
       "    }\n",
       "</style>\n",
       "<table border=\"1\" class=\"dataframe\">\n",
       "  <thead>\n",
       "    <tr style=\"text-align: right;\">\n",
       "      <th></th>\n",
       "      <th>EXT1</th>\n",
       "      <th>EXT2</th>\n",
       "      <th>EXT3</th>\n",
       "      <th>EXT4</th>\n",
       "      <th>EXT5</th>\n",
       "      <th>EXT6</th>\n",
       "      <th>EXT7</th>\n",
       "      <th>EXT8</th>\n",
       "      <th>EXT9</th>\n",
       "      <th>EXT10</th>\n",
       "      <th>...</th>\n",
       "      <th>OPN2</th>\n",
       "      <th>OPN3</th>\n",
       "      <th>OPN4</th>\n",
       "      <th>OPN5</th>\n",
       "      <th>OPN6</th>\n",
       "      <th>OPN7</th>\n",
       "      <th>OPN8</th>\n",
       "      <th>OPN9</th>\n",
       "      <th>OPN10</th>\n",
       "      <th>result</th>\n",
       "    </tr>\n",
       "  </thead>\n",
       "  <tbody>\n",
       "    <tr>\n",
       "      <th>0</th>\n",
       "      <td>4</td>\n",
       "      <td>1</td>\n",
       "      <td>5</td>\n",
       "      <td>2</td>\n",
       "      <td>5</td>\n",
       "      <td>1</td>\n",
       "      <td>5</td>\n",
       "      <td>2</td>\n",
       "      <td>4</td>\n",
       "      <td>1</td>\n",
       "      <td>...</td>\n",
       "      <td>1</td>\n",
       "      <td>4</td>\n",
       "      <td>1</td>\n",
       "      <td>4</td>\n",
       "      <td>1</td>\n",
       "      <td>5</td>\n",
       "      <td>3</td>\n",
       "      <td>4</td>\n",
       "      <td>5</td>\n",
       "      <td>5</td>\n",
       "    </tr>\n",
       "    <tr>\n",
       "      <th>1</th>\n",
       "      <td>3</td>\n",
       "      <td>5</td>\n",
       "      <td>3</td>\n",
       "      <td>4</td>\n",
       "      <td>3</td>\n",
       "      <td>3</td>\n",
       "      <td>2</td>\n",
       "      <td>5</td>\n",
       "      <td>1</td>\n",
       "      <td>5</td>\n",
       "      <td>...</td>\n",
       "      <td>2</td>\n",
       "      <td>4</td>\n",
       "      <td>2</td>\n",
       "      <td>3</td>\n",
       "      <td>1</td>\n",
       "      <td>4</td>\n",
       "      <td>2</td>\n",
       "      <td>5</td>\n",
       "      <td>3</td>\n",
       "      <td>1</td>\n",
       "    </tr>\n",
       "    <tr>\n",
       "      <th>2</th>\n",
       "      <td>2</td>\n",
       "      <td>3</td>\n",
       "      <td>4</td>\n",
       "      <td>4</td>\n",
       "      <td>3</td>\n",
       "      <td>2</td>\n",
       "      <td>1</td>\n",
       "      <td>3</td>\n",
       "      <td>2</td>\n",
       "      <td>5</td>\n",
       "      <td>...</td>\n",
       "      <td>1</td>\n",
       "      <td>2</td>\n",
       "      <td>1</td>\n",
       "      <td>4</td>\n",
       "      <td>2</td>\n",
       "      <td>5</td>\n",
       "      <td>3</td>\n",
       "      <td>4</td>\n",
       "      <td>4</td>\n",
       "      <td>5</td>\n",
       "    </tr>\n",
       "    <tr>\n",
       "      <th>3</th>\n",
       "      <td>2</td>\n",
       "      <td>2</td>\n",
       "      <td>2</td>\n",
       "      <td>3</td>\n",
       "      <td>4</td>\n",
       "      <td>2</td>\n",
       "      <td>2</td>\n",
       "      <td>4</td>\n",
       "      <td>1</td>\n",
       "      <td>4</td>\n",
       "      <td>...</td>\n",
       "      <td>2</td>\n",
       "      <td>5</td>\n",
       "      <td>2</td>\n",
       "      <td>3</td>\n",
       "      <td>1</td>\n",
       "      <td>4</td>\n",
       "      <td>4</td>\n",
       "      <td>3</td>\n",
       "      <td>3</td>\n",
       "      <td>3</td>\n",
       "    </tr>\n",
       "    <tr>\n",
       "      <th>4</th>\n",
       "      <td>3</td>\n",
       "      <td>3</td>\n",
       "      <td>3</td>\n",
       "      <td>3</td>\n",
       "      <td>5</td>\n",
       "      <td>3</td>\n",
       "      <td>3</td>\n",
       "      <td>5</td>\n",
       "      <td>3</td>\n",
       "      <td>4</td>\n",
       "      <td>...</td>\n",
       "      <td>1</td>\n",
       "      <td>5</td>\n",
       "      <td>1</td>\n",
       "      <td>5</td>\n",
       "      <td>1</td>\n",
       "      <td>5</td>\n",
       "      <td>3</td>\n",
       "      <td>5</td>\n",
       "      <td>5</td>\n",
       "      <td>5</td>\n",
       "    </tr>\n",
       "    <tr>\n",
       "      <th>...</th>\n",
       "      <td>...</td>\n",
       "      <td>...</td>\n",
       "      <td>...</td>\n",
       "      <td>...</td>\n",
       "      <td>...</td>\n",
       "      <td>...</td>\n",
       "      <td>...</td>\n",
       "      <td>...</td>\n",
       "      <td>...</td>\n",
       "      <td>...</td>\n",
       "      <td>...</td>\n",
       "      <td>...</td>\n",
       "      <td>...</td>\n",
       "      <td>...</td>\n",
       "      <td>...</td>\n",
       "      <td>...</td>\n",
       "      <td>...</td>\n",
       "      <td>...</td>\n",
       "      <td>...</td>\n",
       "      <td>...</td>\n",
       "      <td>...</td>\n",
       "    </tr>\n",
       "    <tr>\n",
       "      <th>12002</th>\n",
       "      <td>1</td>\n",
       "      <td>1</td>\n",
       "      <td>1</td>\n",
       "      <td>1</td>\n",
       "      <td>1</td>\n",
       "      <td>1</td>\n",
       "      <td>1</td>\n",
       "      <td>1</td>\n",
       "      <td>1</td>\n",
       "      <td>1</td>\n",
       "      <td>...</td>\n",
       "      <td>1</td>\n",
       "      <td>1</td>\n",
       "      <td>1</td>\n",
       "      <td>1</td>\n",
       "      <td>1</td>\n",
       "      <td>1</td>\n",
       "      <td>1</td>\n",
       "      <td>1</td>\n",
       "      <td>1</td>\n",
       "      <td>4</td>\n",
       "    </tr>\n",
       "    <tr>\n",
       "      <th>12003</th>\n",
       "      <td>1</td>\n",
       "      <td>1</td>\n",
       "      <td>1</td>\n",
       "      <td>1</td>\n",
       "      <td>1</td>\n",
       "      <td>1</td>\n",
       "      <td>1</td>\n",
       "      <td>1</td>\n",
       "      <td>1</td>\n",
       "      <td>1</td>\n",
       "      <td>...</td>\n",
       "      <td>5</td>\n",
       "      <td>5</td>\n",
       "      <td>5</td>\n",
       "      <td>5</td>\n",
       "      <td>5</td>\n",
       "      <td>5</td>\n",
       "      <td>5</td>\n",
       "      <td>5</td>\n",
       "      <td>5</td>\n",
       "      <td>5</td>\n",
       "    </tr>\n",
       "    <tr>\n",
       "      <th>12004</th>\n",
       "      <td>1</td>\n",
       "      <td>1</td>\n",
       "      <td>1</td>\n",
       "      <td>1</td>\n",
       "      <td>1</td>\n",
       "      <td>1</td>\n",
       "      <td>1</td>\n",
       "      <td>1</td>\n",
       "      <td>1</td>\n",
       "      <td>1</td>\n",
       "      <td>...</td>\n",
       "      <td>5</td>\n",
       "      <td>1</td>\n",
       "      <td>1</td>\n",
       "      <td>5</td>\n",
       "      <td>1</td>\n",
       "      <td>1</td>\n",
       "      <td>5</td>\n",
       "      <td>1</td>\n",
       "      <td>1</td>\n",
       "      <td>5</td>\n",
       "    </tr>\n",
       "    <tr>\n",
       "      <th>12005</th>\n",
       "      <td>1</td>\n",
       "      <td>1</td>\n",
       "      <td>1</td>\n",
       "      <td>5</td>\n",
       "      <td>1</td>\n",
       "      <td>1</td>\n",
       "      <td>5</td>\n",
       "      <td>5</td>\n",
       "      <td>5</td>\n",
       "      <td>5</td>\n",
       "      <td>...</td>\n",
       "      <td>1</td>\n",
       "      <td>1</td>\n",
       "      <td>1</td>\n",
       "      <td>1</td>\n",
       "      <td>1</td>\n",
       "      <td>1</td>\n",
       "      <td>1</td>\n",
       "      <td>1</td>\n",
       "      <td>1</td>\n",
       "      <td>3</td>\n",
       "    </tr>\n",
       "    <tr>\n",
       "      <th>12006</th>\n",
       "      <td>1</td>\n",
       "      <td>1</td>\n",
       "      <td>1</td>\n",
       "      <td>1</td>\n",
       "      <td>1</td>\n",
       "      <td>1</td>\n",
       "      <td>1</td>\n",
       "      <td>1</td>\n",
       "      <td>1</td>\n",
       "      <td>1</td>\n",
       "      <td>...</td>\n",
       "      <td>1</td>\n",
       "      <td>1</td>\n",
       "      <td>1</td>\n",
       "      <td>1</td>\n",
       "      <td>1</td>\n",
       "      <td>1</td>\n",
       "      <td>1</td>\n",
       "      <td>1</td>\n",
       "      <td>1</td>\n",
       "      <td>2</td>\n",
       "    </tr>\n",
       "  </tbody>\n",
       "</table>\n",
       "<p>12007 rows × 51 columns</p>\n",
       "</div>"
      ],
      "text/plain": [
       "       EXT1  EXT2  EXT3  EXT4  EXT5  EXT6  EXT7  EXT8  EXT9  EXT10  ...  OPN2  \\\n",
       "0         4     1     5     2     5     1     5     2     4      1  ...     1   \n",
       "1         3     5     3     4     3     3     2     5     1      5  ...     2   \n",
       "2         2     3     4     4     3     2     1     3     2      5  ...     1   \n",
       "3         2     2     2     3     4     2     2     4     1      4  ...     2   \n",
       "4         3     3     3     3     5     3     3     5     3      4  ...     1   \n",
       "...     ...   ...   ...   ...   ...   ...   ...   ...   ...    ...  ...   ...   \n",
       "12002     1     1     1     1     1     1     1     1     1      1  ...     1   \n",
       "12003     1     1     1     1     1     1     1     1     1      1  ...     5   \n",
       "12004     1     1     1     1     1     1     1     1     1      1  ...     5   \n",
       "12005     1     1     1     5     1     1     5     5     5      5  ...     1   \n",
       "12006     1     1     1     1     1     1     1     1     1      1  ...     1   \n",
       "\n",
       "       OPN3  OPN4  OPN5  OPN6  OPN7  OPN8  OPN9  OPN10  result  \n",
       "0         4     1     4     1     5     3     4      5       5  \n",
       "1         4     2     3     1     4     2     5      3       1  \n",
       "2         2     1     4     2     5     3     4      4       5  \n",
       "3         5     2     3     1     4     4     3      3       3  \n",
       "4         5     1     5     1     5     3     5      5       5  \n",
       "...     ...   ...   ...   ...   ...   ...   ...    ...     ...  \n",
       "12002     1     1     1     1     1     1     1      1       4  \n",
       "12003     5     5     5     5     5     5     5      5       5  \n",
       "12004     1     1     5     1     1     5     1      1       5  \n",
       "12005     1     1     1     1     1     1     1      1       3  \n",
       "12006     1     1     1     1     1     1     1      1       2  \n",
       "\n",
       "[12007 rows x 51 columns]"
      ]
     },
     "execution_count": 187,
     "metadata": {},
     "output_type": "execute_result"
    }
   ],
   "source": [
    "data"
   ]
  },
  {
   "cell_type": "code",
   "execution_count": 188,
   "id": "2a0a8199",
   "metadata": {},
   "outputs": [],
   "source": [
    "X = data.drop('result', axis=1)\n",
    "y = data['result']"
   ]
  },
  {
   "cell_type": "code",
   "execution_count": 189,
   "id": "0035507f",
   "metadata": {},
   "outputs": [],
   "source": [
    "from sklearn.model_selection import train_test_split\n",
    "X_train, X_test, y_train, y_test = train_test_split(X, y, test_size = 0.25)"
   ]
  },
  {
   "cell_type": "code",
   "execution_count": 190,
   "id": "89880f2d",
   "metadata": {},
   "outputs": [
    {
     "data": {
      "text/plain": [
       "((9005, 50), (12007, 50))"
      ]
     },
     "execution_count": 190,
     "metadata": {},
     "output_type": "execute_result"
    }
   ],
   "source": [
    "X_train.shape, X.shape"
   ]
  },
  {
   "cell_type": "code",
   "execution_count": 191,
   "id": "e3df0cf2",
   "metadata": {},
   "outputs": [
    {
     "data": {
      "text/plain": [
       "1088     4\n",
       "11258    5\n",
       "5459     2\n",
       "7730     5\n",
       "21       2\n",
       "        ..\n",
       "11184    5\n",
       "5682     2\n",
       "8508     2\n",
       "10778    5\n",
       "6932     1\n",
       "Name: result, Length: 9005, dtype: int64"
      ]
     },
     "execution_count": 191,
     "metadata": {},
     "output_type": "execute_result"
    }
   ],
   "source": [
    "y_train"
   ]
  },
  {
   "cell_type": "code",
   "execution_count": 192,
   "id": "d9ff37a5",
   "metadata": {},
   "outputs": [],
   "source": [
    "def model_acc(model):\n",
    "    model.fit(X_train, y_train)\n",
    "    acc = model.score(X_test, y_test)\n",
    "    print(str(model)+ ' --> ' +str(acc))"
   ]
  },
  {
   "cell_type": "code",
   "execution_count": 193,
   "id": "1fd41bde",
   "metadata": {},
   "outputs": [
    {
     "name": "stdout",
     "output_type": "stream",
     "text": [
      "LinearRegression() --> 0.3459783009068731\n",
      "Lasso() --> -0.000349700876997483\n",
      "DecisionTreeRegressor() --> -0.3723748553044355\n",
      "RandomForestRegressor() --> 0.3736089701399953\n"
     ]
    }
   ],
   "source": [
    "from sklearn.linear_model import LinearRegression\n",
    "lr = LinearRegression()\n",
    "model_acc(lr)\n",
    "\n",
    "from sklearn.linear_model import Lasso\n",
    "lasso = Lasso()\n",
    "model_acc(lasso)\n",
    "\n",
    "from sklearn.tree import DecisionTreeRegressor\n",
    "dt = DecisionTreeRegressor()\n",
    "model_acc(dt)\n",
    "\n",
    "from sklearn.ensemble import RandomForestRegressor\n",
    "rf = RandomForestRegressor()\n",
    "model_acc(rf)"
   ]
  },
  {
   "cell_type": "code",
   "execution_count": 194,
   "id": "536576b3",
   "metadata": {},
   "outputs": [
    {
     "data": {
      "text/plain": [
       "0.37086261635488016"
      ]
     },
     "execution_count": 194,
     "metadata": {},
     "output_type": "execute_result"
    }
   ],
   "source": [
    "reg = rf.fit(X_train, y_train)\n",
    "\n",
    "reg.score(X_test, y_test)"
   ]
  },
  {
   "cell_type": "code",
   "execution_count": 195,
   "id": "c5cebd70",
   "metadata": {},
   "outputs": [],
   "source": [
    "import pickle\n",
    "# save model to file\n",
    "pickle.dump(reg, open(\"personality_model.dat\", \"wb\"))"
   ]
  },
  {
   "cell_type": "code",
   "execution_count": 197,
   "id": "504addb4",
   "metadata": {},
   "outputs": [
    {
     "name": "stderr",
     "output_type": "stream",
     "text": [
      "C:\\ProgramData\\Anaconda3\\lib\\site-packages\\sklearn\\base.py:420: UserWarning: X does not have valid feature names, but RandomForestRegressor was fitted with feature names\n",
      "  warnings.warn(\n"
     ]
    },
    {
     "data": {
      "text/plain": [
       "2"
      ]
     },
     "execution_count": 197,
     "metadata": {},
     "output_type": "execute_result"
    }
   ],
   "source": [
    "import math\n",
    "int(np.round(reg.predict([[5,5,1,1,1,1,1,1,1,1,1,1,1,1,1,1,1,1,1,1,1,1,1,1,1,1,1,1,1,1,1,1,1,1,1,1,1,1,1,1,1,1,1,1,1,1,1,1,1,1]]),0))"
   ]
  },
  {
   "cell_type": "code",
   "execution_count": 198,
   "id": "57918902",
   "metadata": {},
   "outputs": [],
   "source": [
    "predict=np.round(reg.predict(X_test))"
   ]
  },
  {
   "cell_type": "code",
   "execution_count": 199,
   "id": "529d900f",
   "metadata": {},
   "outputs": [
    {
     "name": "stdout",
     "output_type": "stream",
     "text": [
      "<class 'numpy.ndarray'>\n",
      "<class 'pandas.core.series.Series'>\n"
     ]
    },
    {
     "data": {
      "image/png": "[encoded data removed]",
      "text/plain": [
       "<Figure size 1600x500 with 1 Axes>"
      ]
     },
     "metadata": {},
     "output_type": "display_data"
    }
   ],
   "source": [
    "A = np.array(y_test).reshape(-1, 1)\n",
    "B = predict.reshape(-1, 1)\n",
    "print(type(predict))\n",
    "print(type(y_test))\n",
    "plt.rcParams['figure.figsize'] = 16,5\n",
    "plt.figure()\n",
    "plt.plot(A[-100:], label=\"Real\")\n",
    "plt.plot(B[-100:], label=\"Predicted\")\n",
    "plt.legend()\n",
    "plt.title(\"Result : real vs predicted\")\n",
    "plt.ylabel(\"Result\")\n",
    "plt.xticks(())\n",
    "plt.show()"
   ]
  },
  {
   "cell_type": "code",
   "execution_count": 200,
   "id": "19ab9538",
   "metadata": {},
   "outputs": [
    {
     "data": {
      "text/plain": [
       "array([3.92, 2.96, 2.72, ..., 3.91, 2.66, 4.92])"
      ]
     },
     "execution_count": 200,
     "metadata": {},
     "output_type": "execute_result"
    }
   ],
   "source": [
    "reg.predict(X_test)"
   ]
  },
  {
   "cell_type": "code",
   "execution_count": 201,
   "id": "c970b4de",
   "metadata": {},
   "outputs": [],
   "source": [
    "with open('personality_model.dat' , 'rb') as f:\n",
    "    model = pickle.load(f)"
   ]
  },
  {
   "cell_type": "code",
   "execution_count": 206,
   "id": "dd59bbf4",
   "metadata": {},
   "outputs": [
    {
     "name": "stderr",
     "output_type": "stream",
     "text": [
      "C:\\ProgramData\\Anaconda3\\lib\\site-packages\\sklearn\\base.py:420: UserWarning: X does not have valid feature names, but RandomForestRegressor was fitted with feature names\n",
      "  warnings.warn(\n"
     ]
    },
    {
     "data": {
      "text/plain": [
       "2"
      ]
     },
     "execution_count": 206,
     "metadata": {},
     "output_type": "execute_result"
    }
   ],
   "source": [
    "math.ceil(model.predict([[5,1,1,1,1,1,1,1,1,1,1,1,1,1,1,1,1,1,1,1,1,1,1,1,1,1,1,1,1,1,1,1,1,1,1,1,1,1,1,1,1,1,1,1,1,1,1,1,1,1]]))"
   ]
  },
  {
   "cell_type": "code",
   "execution_count": null,
   "id": "9db2fb4e",
   "metadata": {},
   "outputs": [],
   "source": []
  }
 ],
 "metadata": {
  "kernelspec": {
   "display_name": "Python 3",
   "language": "python",
   "name": "python3"
  },
  "language_info": {
   "codemirror_mode": {
    "name": "ipython",
    "version": 3
   },
   "file_extension": ".py",
   "mimetype": "text/x-python",
   "name": "python",
   "nbconvert_exporter": "python",
   "pygments_lexer": "ipython3",
   "version": "3.10.9"
  }
 },
 "nbformat": 4,
 "nbformat_minor": 5
}
