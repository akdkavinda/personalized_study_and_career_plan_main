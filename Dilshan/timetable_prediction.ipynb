{
 "cells": [
  {
   "cell_type": "code",
   "execution_count": 240,
   "id": "4842c6bd",
   "metadata": {},
   "outputs": [],
   "source": [
    "import numpy as np\n",
    "import pandas as pd\n",
    "import matplotlib.pyplot as plt\n",
    "import seaborn as sns"
   ]
  },
  {
   "cell_type": "code",
   "execution_count": 241,
   "id": "d82d86bc",
   "metadata": {},
   "outputs": [],
   "source": [
    "data = pd.read_csv('book.csv', encoding='latin-1')"
   ]
  },
  {
   "cell_type": "code",
   "execution_count": 242,
   "id": "fb7f411f",
   "metadata": {},
   "outputs": [
    {
     "data": {
      "text/html": [
       "<div>\n",
       "<style scoped>\n",
       "    .dataframe tbody tr th:only-of-type {\n",
       "        vertical-align: middle;\n",
       "    }\n",
       "\n",
       "    .dataframe tbody tr th {\n",
       "        vertical-align: top;\n",
       "    }\n",
       "\n",
       "    .dataframe thead th {\n",
       "        text-align: right;\n",
       "    }\n",
       "</style>\n",
       "<table border=\"1\" class=\"dataframe\">\n",
       "  <thead>\n",
       "    <tr style=\"text-align: right;\">\n",
       "      <th></th>\n",
       "      <th>personality</th>\n",
       "      <th>Gender</th>\n",
       "      <th>age</th>\n",
       "      <th>Subject</th>\n",
       "      <th>time slot</th>\n",
       "      <th>day</th>\n",
       "      <th>City</th>\n",
       "      <th>Time</th>\n",
       "      <th>Unnamed: 8</th>\n",
       "      <th>Unnamed: 9</th>\n",
       "      <th>Unnamed: 10</th>\n",
       "      <th>Unnamed: 11</th>\n",
       "    </tr>\n",
       "  </thead>\n",
       "  <tbody>\n",
       "    <tr>\n",
       "      <th>0</th>\n",
       "      <td>Extraversion</td>\n",
       "      <td>Male</td>\n",
       "      <td>17</td>\n",
       "      <td>Physics</td>\n",
       "      <td>0-2</td>\n",
       "      <td>Monday</td>\n",
       "      <td>Matara</td>\n",
       "      <td>100</td>\n",
       "      <td>NaN</td>\n",
       "      <td>NaN</td>\n",
       "      <td>NaN</td>\n",
       "      <td>NaN</td>\n",
       "    </tr>\n",
       "    <tr>\n",
       "      <th>1</th>\n",
       "      <td>Extraversion</td>\n",
       "      <td>Female</td>\n",
       "      <td>20</td>\n",
       "      <td>Bio</td>\n",
       "      <td>0-2</td>\n",
       "      <td>Tuesday</td>\n",
       "      <td>Galle</td>\n",
       "      <td>105</td>\n",
       "      <td>NaN</td>\n",
       "      <td>NaN</td>\n",
       "      <td>NaN</td>\n",
       "      <td>NaN</td>\n",
       "    </tr>\n",
       "    <tr>\n",
       "      <th>2</th>\n",
       "      <td>open</td>\n",
       "      <td>Female</td>\n",
       "      <td>17</td>\n",
       "      <td>Combine Maths</td>\n",
       "      <td>22-0</td>\n",
       "      <td>Monday</td>\n",
       "      <td>Colombo</td>\n",
       "      <td>100</td>\n",
       "      <td>NaN</td>\n",
       "      <td>NaN</td>\n",
       "      <td>NaN</td>\n",
       "      <td>NaN</td>\n",
       "    </tr>\n",
       "    <tr>\n",
       "      <th>3</th>\n",
       "      <td>Extraversion</td>\n",
       "      <td>Male</td>\n",
       "      <td>18</td>\n",
       "      <td>Chemistry</td>\n",
       "      <td>20-22</td>\n",
       "      <td>Friday</td>\n",
       "      <td>Galle</td>\n",
       "      <td>105</td>\n",
       "      <td>NaN</td>\n",
       "      <td>NaN</td>\n",
       "      <td>NaN</td>\n",
       "      <td>NaN</td>\n",
       "    </tr>\n",
       "    <tr>\n",
       "      <th>4</th>\n",
       "      <td>open</td>\n",
       "      <td>Male</td>\n",
       "      <td>19</td>\n",
       "      <td>Combine Maths</td>\n",
       "      <td>8-10</td>\n",
       "      <td>Tuesday</td>\n",
       "      <td>Gampaha</td>\n",
       "      <td>90</td>\n",
       "      <td>NaN</td>\n",
       "      <td>NaN</td>\n",
       "      <td>NaN</td>\n",
       "      <td>NaN</td>\n",
       "    </tr>\n",
       "  </tbody>\n",
       "</table>\n",
       "</div>"
      ],
      "text/plain": [
       "    personality  Gender  age        Subject time slot      day     City  Time  \\\n",
       "0  Extraversion    Male   17        Physics       0-2   Monday   Matara   100   \n",
       "1  Extraversion  Female   20            Bio       0-2  Tuesday    Galle   105   \n",
       "2          open  Female   17  Combine Maths      22-0   Monday  Colombo   100   \n",
       "3  Extraversion    Male   18      Chemistry     20-22   Friday    Galle   105   \n",
       "4          open    Male   19  Combine Maths      8-10  Tuesday  Gampaha    90   \n",
       "\n",
       "   Unnamed: 8  Unnamed: 9  Unnamed: 10  Unnamed: 11  \n",
       "0         NaN         NaN          NaN          NaN  \n",
       "1         NaN         NaN          NaN          NaN  \n",
       "2         NaN         NaN          NaN          NaN  \n",
       "3         NaN         NaN          NaN          NaN  \n",
       "4         NaN         NaN          NaN          NaN  "
      ]
     },
     "execution_count": 242,
     "metadata": {},
     "output_type": "execute_result"
    }
   ],
   "source": [
    "data.head()"
   ]
  },
  {
   "cell_type": "code",
   "execution_count": 243,
   "id": "70fad308",
   "metadata": {},
   "outputs": [],
   "source": [
    "data = data.drop(columns=['Unnamed: 8', 'Unnamed: 9', 'Unnamed: 10','Unnamed: 11'])"
   ]
  },
  {
   "cell_type": "code",
   "execution_count": 244,
   "id": "aab37354",
   "metadata": {},
   "outputs": [
    {
     "data": {
      "text/plain": [
       "<Axes: >"
      ]
     },
     "execution_count": 244,
     "metadata": {},
     "output_type": "execute_result"
    },
    {
     "data": {
      "image/png": "[encoded data removed]",
      "text/plain": [
       "<Figure size 640x480 with 2 Axes>"
      ]
     },
     "metadata": {},
     "output_type": "display_data"
    }
   ],
   "source": [
    "sns.heatmap(data.isnull(),yticklabels=False, cmap=\"viridis\")"
   ]
  },
  {
   "cell_type": "code",
   "execution_count": 245,
   "id": "81fa2fda",
   "metadata": {},
   "outputs": [
    {
     "data": {
      "text/plain": [
       "(120, 8)"
      ]
     },
     "execution_count": 245,
     "metadata": {},
     "output_type": "execute_result"
    }
   ],
   "source": [
    "data.shape"
   ]
  },
  {
   "cell_type": "code",
   "execution_count": 246,
   "id": "627f27dc",
   "metadata": {},
   "outputs": [
    {
     "data": {
      "text/plain": [
       "personality    0\n",
       "Gender         0\n",
       "age            0\n",
       "Subject        0\n",
       "time slot      0\n",
       "day            0\n",
       "City           0\n",
       "Time           0\n",
       "dtype: int64"
      ]
     },
     "execution_count": 246,
     "metadata": {},
     "output_type": "execute_result"
    }
   ],
   "source": [
    "data.isnull().sum()"
   ]
  },
  {
   "cell_type": "code",
   "execution_count": 247,
   "id": "2783d7e3",
   "metadata": {},
   "outputs": [
    {
     "name": "stdout",
     "output_type": "stream",
     "text": [
      "<class 'pandas.core.frame.DataFrame'>\n",
      "RangeIndex: 120 entries, 0 to 119\n",
      "Data columns (total 8 columns):\n",
      " #   Column       Non-Null Count  Dtype \n",
      "---  ------       --------------  ----- \n",
      " 0   personality  120 non-null    object\n",
      " 1   Gender       120 non-null    object\n",
      " 2   age          120 non-null    int64 \n",
      " 3   Subject      120 non-null    object\n",
      " 4   time slot    120 non-null    object\n",
      " 5   day          120 non-null    object\n",
      " 6   City         120 non-null    object\n",
      " 7   Time         120 non-null    int64 \n",
      "dtypes: int64(2), object(6)\n",
      "memory usage: 7.6+ KB\n"
     ]
    }
   ],
   "source": [
    "data.info()"
   ]
  },
  {
   "cell_type": "code",
   "execution_count": 248,
   "id": "a8a69ee0",
   "metadata": {},
   "outputs": [
    {
     "data": {
      "text/html": [
       "<div>\n",
       "<style scoped>\n",
       "    .dataframe tbody tr th:only-of-type {\n",
       "        vertical-align: middle;\n",
       "    }\n",
       "\n",
       "    .dataframe tbody tr th {\n",
       "        vertical-align: top;\n",
       "    }\n",
       "\n",
       "    .dataframe thead th {\n",
       "        text-align: right;\n",
       "    }\n",
       "</style>\n",
       "<table border=\"1\" class=\"dataframe\">\n",
       "  <thead>\n",
       "    <tr style=\"text-align: right;\">\n",
       "      <th></th>\n",
       "      <th>personality</th>\n",
       "      <th>Gender</th>\n",
       "      <th>age</th>\n",
       "      <th>Subject</th>\n",
       "      <th>time slot</th>\n",
       "      <th>day</th>\n",
       "      <th>City</th>\n",
       "      <th>Time</th>\n",
       "    </tr>\n",
       "  </thead>\n",
       "  <tbody>\n",
       "    <tr>\n",
       "      <th>0</th>\n",
       "      <td>Extraversion</td>\n",
       "      <td>Male</td>\n",
       "      <td>17</td>\n",
       "      <td>Physics</td>\n",
       "      <td>0-2</td>\n",
       "      <td>Monday</td>\n",
       "      <td>Matara</td>\n",
       "      <td>100</td>\n",
       "    </tr>\n",
       "    <tr>\n",
       "      <th>1</th>\n",
       "      <td>Extraversion</td>\n",
       "      <td>Female</td>\n",
       "      <td>20</td>\n",
       "      <td>Bio</td>\n",
       "      <td>0-2</td>\n",
       "      <td>Tuesday</td>\n",
       "      <td>Galle</td>\n",
       "      <td>105</td>\n",
       "    </tr>\n",
       "    <tr>\n",
       "      <th>2</th>\n",
       "      <td>open</td>\n",
       "      <td>Female</td>\n",
       "      <td>17</td>\n",
       "      <td>Combine Maths</td>\n",
       "      <td>22-0</td>\n",
       "      <td>Monday</td>\n",
       "      <td>Colombo</td>\n",
       "      <td>100</td>\n",
       "    </tr>\n",
       "    <tr>\n",
       "      <th>3</th>\n",
       "      <td>Extraversion</td>\n",
       "      <td>Male</td>\n",
       "      <td>18</td>\n",
       "      <td>Chemistry</td>\n",
       "      <td>20-22</td>\n",
       "      <td>Friday</td>\n",
       "      <td>Galle</td>\n",
       "      <td>105</td>\n",
       "    </tr>\n",
       "    <tr>\n",
       "      <th>4</th>\n",
       "      <td>open</td>\n",
       "      <td>Male</td>\n",
       "      <td>19</td>\n",
       "      <td>Combine Maths</td>\n",
       "      <td>8-10</td>\n",
       "      <td>Tuesday</td>\n",
       "      <td>Gampaha</td>\n",
       "      <td>90</td>\n",
       "    </tr>\n",
       "    <tr>\n",
       "      <th>...</th>\n",
       "      <td>...</td>\n",
       "      <td>...</td>\n",
       "      <td>...</td>\n",
       "      <td>...</td>\n",
       "      <td>...</td>\n",
       "      <td>...</td>\n",
       "      <td>...</td>\n",
       "      <td>...</td>\n",
       "    </tr>\n",
       "    <tr>\n",
       "      <th>115</th>\n",
       "      <td>Extraversion</td>\n",
       "      <td>Female</td>\n",
       "      <td>18</td>\n",
       "      <td>Bio</td>\n",
       "      <td>6-8</td>\n",
       "      <td>Tuesday</td>\n",
       "      <td>Matara</td>\n",
       "      <td>0</td>\n",
       "    </tr>\n",
       "    <tr>\n",
       "      <th>116</th>\n",
       "      <td>Conscientiousness</td>\n",
       "      <td>Male</td>\n",
       "      <td>17</td>\n",
       "      <td>Chemistry</td>\n",
       "      <td>6-8</td>\n",
       "      <td>Monday</td>\n",
       "      <td>Matara</td>\n",
       "      <td>20</td>\n",
       "    </tr>\n",
       "    <tr>\n",
       "      <th>117</th>\n",
       "      <td>Conscientiousness</td>\n",
       "      <td>Female</td>\n",
       "      <td>17</td>\n",
       "      <td>Chemistry</td>\n",
       "      <td>6-8</td>\n",
       "      <td>Monday</td>\n",
       "      <td>Matara</td>\n",
       "      <td>30</td>\n",
       "    </tr>\n",
       "    <tr>\n",
       "      <th>118</th>\n",
       "      <td>Extraversion</td>\n",
       "      <td>Male</td>\n",
       "      <td>17</td>\n",
       "      <td>Combine Maths</td>\n",
       "      <td>10-12</td>\n",
       "      <td>Sunday</td>\n",
       "      <td>Matara</td>\n",
       "      <td>115</td>\n",
       "    </tr>\n",
       "    <tr>\n",
       "      <th>119</th>\n",
       "      <td>Extraversion</td>\n",
       "      <td>Female</td>\n",
       "      <td>18</td>\n",
       "      <td>Bio</td>\n",
       "      <td>6-8</td>\n",
       "      <td>Sunday</td>\n",
       "      <td>Gampaha</td>\n",
       "      <td>40</td>\n",
       "    </tr>\n",
       "  </tbody>\n",
       "</table>\n",
       "<p>120 rows × 8 columns</p>\n",
       "</div>"
      ],
      "text/plain": [
       "           personality  Gender  age        Subject time slot      day  \\\n",
       "0         Extraversion    Male   17        Physics       0-2   Monday   \n",
       "1         Extraversion  Female   20            Bio       0-2  Tuesday   \n",
       "2                 open  Female   17  Combine Maths      22-0   Monday   \n",
       "3         Extraversion    Male   18      Chemistry     20-22   Friday   \n",
       "4                 open    Male   19  Combine Maths      8-10  Tuesday   \n",
       "..                 ...     ...  ...            ...       ...      ...   \n",
       "115       Extraversion  Female   18            Bio       6-8  Tuesday   \n",
       "116  Conscientiousness    Male   17      Chemistry       6-8   Monday   \n",
       "117  Conscientiousness  Female   17      Chemistry       6-8   Monday   \n",
       "118       Extraversion    Male   17  Combine Maths     10-12   Sunday   \n",
       "119       Extraversion  Female   18            Bio       6-8   Sunday   \n",
       "\n",
       "        City  Time  \n",
       "0     Matara   100  \n",
       "1      Galle   105  \n",
       "2    Colombo   100  \n",
       "3      Galle   105  \n",
       "4    Gampaha    90  \n",
       "..       ...   ...  \n",
       "115   Matara     0  \n",
       "116   Matara    20  \n",
       "117   Matara    30  \n",
       "118   Matara   115  \n",
       "119  Gampaha    40  \n",
       "\n",
       "[120 rows x 8 columns]"
      ]
     },
     "execution_count": 248,
     "metadata": {},
     "output_type": "execute_result"
    }
   ],
   "source": [
    "data"
   ]
  },
  {
   "cell_type": "code",
   "execution_count": 249,
   "id": "b17569ff",
   "metadata": {},
   "outputs": [
    {
     "data": {
      "text/plain": [
       "Extraversion         51\n",
       "Conscientiousness    23\n",
       "Agreeableness        19\n",
       "open                 15\n",
       "Neuroticism          12\n",
       "Name: personality, dtype: int64"
      ]
     },
     "execution_count": 249,
     "metadata": {},
     "output_type": "execute_result"
    }
   ],
   "source": [
    "data['personality'].value_counts()"
   ]
  },
  {
   "cell_type": "code",
   "execution_count": 250,
   "id": "98619075",
   "metadata": {},
   "outputs": [
    {
     "data": {
      "text/plain": [
       "Male      68\n",
       "Female    52\n",
       "Name: Gender, dtype: int64"
      ]
     },
     "execution_count": 250,
     "metadata": {},
     "output_type": "execute_result"
    }
   ],
   "source": [
    "data['Gender'].value_counts()"
   ]
  },
  {
   "cell_type": "code",
   "execution_count": 251,
   "id": "3413ff11",
   "metadata": {},
   "outputs": [],
   "source": [
    "data['personality']=data['personality'].str.replace('Extraversion','0')\n",
    "data['personality']=data['personality'].str.replace('Conscientiousness','1')\n",
    "data['personality']=data['personality'].str.replace('Agreeableness','2')\n",
    "data['personality']=data['personality'].str.replace('open','3')\n",
    "data['personality']=data['personality'].str.replace('Neuroticism','4')"
   ]
  },
  {
   "cell_type": "code",
   "execution_count": 252,
   "id": "872c7efc",
   "metadata": {},
   "outputs": [],
   "source": [
    "data['Gender']=data['Gender'].str.replace('Male','0')\n",
    "data['Gender']=data['Gender'].str.replace('Female','1')"
   ]
  },
  {
   "cell_type": "code",
   "execution_count": 253,
   "id": "8d763561",
   "metadata": {},
   "outputs": [
    {
     "data": {
      "text/html": [
       "<div>\n",
       "<style scoped>\n",
       "    .dataframe tbody tr th:only-of-type {\n",
       "        vertical-align: middle;\n",
       "    }\n",
       "\n",
       "    .dataframe tbody tr th {\n",
       "        vertical-align: top;\n",
       "    }\n",
       "\n",
       "    .dataframe thead th {\n",
       "        text-align: right;\n",
       "    }\n",
       "</style>\n",
       "<table border=\"1\" class=\"dataframe\">\n",
       "  <thead>\n",
       "    <tr style=\"text-align: right;\">\n",
       "      <th></th>\n",
       "      <th>personality</th>\n",
       "      <th>Gender</th>\n",
       "      <th>age</th>\n",
       "      <th>Subject</th>\n",
       "      <th>time slot</th>\n",
       "      <th>day</th>\n",
       "      <th>City</th>\n",
       "      <th>Time</th>\n",
       "    </tr>\n",
       "  </thead>\n",
       "  <tbody>\n",
       "    <tr>\n",
       "      <th>0</th>\n",
       "      <td>0</td>\n",
       "      <td>0</td>\n",
       "      <td>17</td>\n",
       "      <td>Physics</td>\n",
       "      <td>0-2</td>\n",
       "      <td>Monday</td>\n",
       "      <td>Matara</td>\n",
       "      <td>100</td>\n",
       "    </tr>\n",
       "    <tr>\n",
       "      <th>1</th>\n",
       "      <td>0</td>\n",
       "      <td>1</td>\n",
       "      <td>20</td>\n",
       "      <td>Bio</td>\n",
       "      <td>0-2</td>\n",
       "      <td>Tuesday</td>\n",
       "      <td>Galle</td>\n",
       "      <td>105</td>\n",
       "    </tr>\n",
       "    <tr>\n",
       "      <th>2</th>\n",
       "      <td>3</td>\n",
       "      <td>1</td>\n",
       "      <td>17</td>\n",
       "      <td>Combine Maths</td>\n",
       "      <td>22-0</td>\n",
       "      <td>Monday</td>\n",
       "      <td>Colombo</td>\n",
       "      <td>100</td>\n",
       "    </tr>\n",
       "    <tr>\n",
       "      <th>3</th>\n",
       "      <td>0</td>\n",
       "      <td>0</td>\n",
       "      <td>18</td>\n",
       "      <td>Chemistry</td>\n",
       "      <td>20-22</td>\n",
       "      <td>Friday</td>\n",
       "      <td>Galle</td>\n",
       "      <td>105</td>\n",
       "    </tr>\n",
       "    <tr>\n",
       "      <th>4</th>\n",
       "      <td>3</td>\n",
       "      <td>0</td>\n",
       "      <td>19</td>\n",
       "      <td>Combine Maths</td>\n",
       "      <td>8-10</td>\n",
       "      <td>Tuesday</td>\n",
       "      <td>Gampaha</td>\n",
       "      <td>90</td>\n",
       "    </tr>\n",
       "  </tbody>\n",
       "</table>\n",
       "</div>"
      ],
      "text/plain": [
       "  personality Gender  age        Subject time slot      day     City  Time\n",
       "0           0      0   17        Physics       0-2   Monday   Matara   100\n",
       "1           0      1   20            Bio       0-2  Tuesday    Galle   105\n",
       "2           3      1   17  Combine Maths      22-0   Monday  Colombo   100\n",
       "3           0      0   18      Chemistry     20-22   Friday    Galle   105\n",
       "4           3      0   19  Combine Maths      8-10  Tuesday  Gampaha    90"
      ]
     },
     "execution_count": 253,
     "metadata": {},
     "output_type": "execute_result"
    }
   ],
   "source": [
    "data.head()"
   ]
  },
  {
   "cell_type": "code",
   "execution_count": 254,
   "id": "0b6a82c9",
   "metadata": {},
   "outputs": [
    {
     "data": {
      "text/plain": [
       "Chemistry        36\n",
       "Combine Maths    35\n",
       "Physics          32\n",
       "Bio              16\n",
       "Combine           1\n",
       "Name: Subject, dtype: int64"
      ]
     },
     "execution_count": 254,
     "metadata": {},
     "output_type": "execute_result"
    }
   ],
   "source": [
    "data['Subject'].value_counts()"
   ]
  },
  {
   "cell_type": "code",
   "execution_count": 276,
   "id": "e4451ce4",
   "metadata": {},
   "outputs": [],
   "source": [
    "data['Subject']=data['Subject'].str.replace('Combine Maths','0')\n",
    "data['Subject']=data['Subject'].str.replace('Physics','1')\n",
    "data['Subject']=data['Subject'].str.replace('Chemistry','2')\n",
    "data['Subject']=data['Subject'].str.replace('Bio','3')\n",
    "data['Subject']=data['Subject'].str.replace('Combine','0')"
   ]
  },
  {
   "cell_type": "code",
   "execution_count": 256,
   "id": "a3243f65",
   "metadata": {},
   "outputs": [
    {
     "name": "stdout",
     "output_type": "stream",
     "text": [
      "<class 'pandas.core.frame.DataFrame'>\n",
      "RangeIndex: 120 entries, 0 to 119\n",
      "Data columns (total 8 columns):\n",
      " #   Column       Non-Null Count  Dtype \n",
      "---  ------       --------------  ----- \n",
      " 0   personality  120 non-null    object\n",
      " 1   Gender       120 non-null    object\n",
      " 2   age          120 non-null    int64 \n",
      " 3   Subject      120 non-null    object\n",
      " 4   time slot    120 non-null    object\n",
      " 5   day          120 non-null    object\n",
      " 6   City         120 non-null    object\n",
      " 7   Time         120 non-null    int64 \n",
      "dtypes: int64(2), object(6)\n",
      "memory usage: 7.6+ KB\n"
     ]
    }
   ],
   "source": [
    "data.info()"
   ]
  },
  {
   "cell_type": "code",
   "execution_count": 257,
   "id": "6143d56c",
   "metadata": {},
   "outputs": [
    {
     "data": {
      "text/plain": [
       "0-2      18\n",
       "10-12    16\n",
       "20-22    15\n",
       "18-20    14\n",
       "16-18    12\n",
       "22-0     11\n",
       "8-10      8\n",
       "2-4       8\n",
       "4-6       7\n",
       "6-8       5\n",
       "14-16     4\n",
       "12-14     1\n",
       "22-24     1\n",
       "Name: time slot, dtype: int64"
      ]
     },
     "execution_count": 257,
     "metadata": {},
     "output_type": "execute_result"
    }
   ],
   "source": [
    "data['time slot'].value_counts()"
   ]
  },
  {
   "cell_type": "code",
   "execution_count": 258,
   "id": "c6d54cf8",
   "metadata": {},
   "outputs": [],
   "source": [
    "data['time slot']=data['time slot'].str.replace('12-Oct','12-14')\n",
    "data['time slot']=data['time slot'].str.replace('10-Aug','10-12')\n",
    "data['time slot']=data['time slot'].str.replace('6-Apr','6-8')\n",
    "data['time slot']=data['time slot'].str.replace('4-Feb','4-6')\n",
    "data['time slot']=data['time slot'].str.replace('14-Dec','14-16')\n",
    "data['time slot']=data['time slot'].str.replace('22-0','22-24')"
   ]
  },
  {
   "cell_type": "code",
   "execution_count": 259,
   "id": "ed2f436b",
   "metadata": {},
   "outputs": [
    {
     "data": {
      "text/plain": [
       "0-2      18\n",
       "10-12    16\n",
       "20-22    15\n",
       "18-20    14\n",
       "22-24    12\n",
       "16-18    12\n",
       "8-10      8\n",
       "2-4       8\n",
       "4-6       7\n",
       "6-8       5\n",
       "14-16     4\n",
       "12-14     1\n",
       "Name: time slot, dtype: int64"
      ]
     },
     "execution_count": 259,
     "metadata": {},
     "output_type": "execute_result"
    }
   ],
   "source": [
    "data['time slot'].value_counts()"
   ]
  },
  {
   "cell_type": "code",
   "execution_count": 260,
   "id": "2484fd7a",
   "metadata": {},
   "outputs": [
    {
     "name": "stdout",
     "output_type": "stream",
     "text": [
      "<class 'pandas.core.frame.DataFrame'>\n",
      "RangeIndex: 120 entries, 0 to 119\n",
      "Data columns (total 8 columns):\n",
      " #   Column       Non-Null Count  Dtype \n",
      "---  ------       --------------  ----- \n",
      " 0   personality  120 non-null    object\n",
      " 1   Gender       120 non-null    object\n",
      " 2   age          120 non-null    int64 \n",
      " 3   Subject      120 non-null    object\n",
      " 4   time slot    120 non-null    object\n",
      " 5   day          120 non-null    object\n",
      " 6   City         120 non-null    object\n",
      " 7   Time         120 non-null    int64 \n",
      "dtypes: int64(2), object(6)\n",
      "memory usage: 7.6+ KB\n"
     ]
    }
   ],
   "source": [
    "data.info()"
   ]
  },
  {
   "cell_type": "code",
   "execution_count": 261,
   "id": "b1616086",
   "metadata": {},
   "outputs": [],
   "source": [
    "data['time slot']=data['time slot'].str.replace('0-2','0')\n",
    "data['time slot']=data['time slot'].str.replace('2-4','1')\n",
    "data['time slot']=data['time slot'].str.replace('4-6','2')\n",
    "data['time slot']=data['time slot'].str.replace('6-8','3')\n",
    "data['time slot']=data['time slot'].str.replace('8-10','4')\n",
    "data['time slot']=data['time slot'].str.replace('10-12','5')\n",
    "data['time slot']=data['time slot'].str.replace('12-14','6')\n",
    "data['time slot']=data['time slot'].str.replace('14-16','7')\n",
    "data['time slot']=data['time slot'].str.replace('16-18','8')\n",
    "data['time slot']=data['time slot'].str.replace('18-20','9')\n",
    "data['time slot']=data['time slot'].str.replace('20-22','10')\n",
    "data['time slot']=data['time slot'].str.replace('22-24','11')"
   ]
  },
  {
   "cell_type": "code",
   "execution_count": 262,
   "id": "ca300b4f",
   "metadata": {},
   "outputs": [
    {
     "data": {
      "text/html": [
       "<div>\n",
       "<style scoped>\n",
       "    .dataframe tbody tr th:only-of-type {\n",
       "        vertical-align: middle;\n",
       "    }\n",
       "\n",
       "    .dataframe tbody tr th {\n",
       "        vertical-align: top;\n",
       "    }\n",
       "\n",
       "    .dataframe thead th {\n",
       "        text-align: right;\n",
       "    }\n",
       "</style>\n",
       "<table border=\"1\" class=\"dataframe\">\n",
       "  <thead>\n",
       "    <tr style=\"text-align: right;\">\n",
       "      <th></th>\n",
       "      <th>personality</th>\n",
       "      <th>Gender</th>\n",
       "      <th>age</th>\n",
       "      <th>Subject</th>\n",
       "      <th>time slot</th>\n",
       "      <th>day</th>\n",
       "      <th>City</th>\n",
       "      <th>Time</th>\n",
       "    </tr>\n",
       "  </thead>\n",
       "  <tbody>\n",
       "    <tr>\n",
       "      <th>0</th>\n",
       "      <td>0</td>\n",
       "      <td>0</td>\n",
       "      <td>17</td>\n",
       "      <td>1</td>\n",
       "      <td>0</td>\n",
       "      <td>Monday</td>\n",
       "      <td>Matara</td>\n",
       "      <td>100</td>\n",
       "    </tr>\n",
       "    <tr>\n",
       "      <th>1</th>\n",
       "      <td>0</td>\n",
       "      <td>1</td>\n",
       "      <td>20</td>\n",
       "      <td>3</td>\n",
       "      <td>0</td>\n",
       "      <td>Tuesday</td>\n",
       "      <td>Galle</td>\n",
       "      <td>105</td>\n",
       "    </tr>\n",
       "    <tr>\n",
       "      <th>2</th>\n",
       "      <td>3</td>\n",
       "      <td>1</td>\n",
       "      <td>17</td>\n",
       "      <td>0</td>\n",
       "      <td>11</td>\n",
       "      <td>Monday</td>\n",
       "      <td>Colombo</td>\n",
       "      <td>100</td>\n",
       "    </tr>\n",
       "    <tr>\n",
       "      <th>3</th>\n",
       "      <td>0</td>\n",
       "      <td>0</td>\n",
       "      <td>18</td>\n",
       "      <td>2</td>\n",
       "      <td>202</td>\n",
       "      <td>Friday</td>\n",
       "      <td>Galle</td>\n",
       "      <td>105</td>\n",
       "    </tr>\n",
       "    <tr>\n",
       "      <th>4</th>\n",
       "      <td>3</td>\n",
       "      <td>0</td>\n",
       "      <td>19</td>\n",
       "      <td>0</td>\n",
       "      <td>4</td>\n",
       "      <td>Tuesday</td>\n",
       "      <td>Gampaha</td>\n",
       "      <td>90</td>\n",
       "    </tr>\n",
       "    <tr>\n",
       "      <th>...</th>\n",
       "      <td>...</td>\n",
       "      <td>...</td>\n",
       "      <td>...</td>\n",
       "      <td>...</td>\n",
       "      <td>...</td>\n",
       "      <td>...</td>\n",
       "      <td>...</td>\n",
       "      <td>...</td>\n",
       "    </tr>\n",
       "    <tr>\n",
       "      <th>115</th>\n",
       "      <td>0</td>\n",
       "      <td>1</td>\n",
       "      <td>18</td>\n",
       "      <td>3</td>\n",
       "      <td>3</td>\n",
       "      <td>Tuesday</td>\n",
       "      <td>Matara</td>\n",
       "      <td>0</td>\n",
       "    </tr>\n",
       "    <tr>\n",
       "      <th>116</th>\n",
       "      <td>1</td>\n",
       "      <td>0</td>\n",
       "      <td>17</td>\n",
       "      <td>2</td>\n",
       "      <td>3</td>\n",
       "      <td>Monday</td>\n",
       "      <td>Matara</td>\n",
       "      <td>20</td>\n",
       "    </tr>\n",
       "    <tr>\n",
       "      <th>117</th>\n",
       "      <td>1</td>\n",
       "      <td>1</td>\n",
       "      <td>17</td>\n",
       "      <td>2</td>\n",
       "      <td>3</td>\n",
       "      <td>Monday</td>\n",
       "      <td>Matara</td>\n",
       "      <td>30</td>\n",
       "    </tr>\n",
       "    <tr>\n",
       "      <th>118</th>\n",
       "      <td>0</td>\n",
       "      <td>0</td>\n",
       "      <td>17</td>\n",
       "      <td>0</td>\n",
       "      <td>5</td>\n",
       "      <td>Sunday</td>\n",
       "      <td>Matara</td>\n",
       "      <td>115</td>\n",
       "    </tr>\n",
       "    <tr>\n",
       "      <th>119</th>\n",
       "      <td>0</td>\n",
       "      <td>1</td>\n",
       "      <td>18</td>\n",
       "      <td>3</td>\n",
       "      <td>3</td>\n",
       "      <td>Sunday</td>\n",
       "      <td>Gampaha</td>\n",
       "      <td>40</td>\n",
       "    </tr>\n",
       "  </tbody>\n",
       "</table>\n",
       "<p>120 rows × 8 columns</p>\n",
       "</div>"
      ],
      "text/plain": [
       "    personality Gender  age Subject time slot      day     City  Time\n",
       "0             0      0   17       1         0   Monday   Matara   100\n",
       "1             0      1   20       3         0  Tuesday    Galle   105\n",
       "2             3      1   17       0        11   Monday  Colombo   100\n",
       "3             0      0   18       2       202   Friday    Galle   105\n",
       "4             3      0   19       0         4  Tuesday  Gampaha    90\n",
       "..          ...    ...  ...     ...       ...      ...      ...   ...\n",
       "115           0      1   18       3         3  Tuesday   Matara     0\n",
       "116           1      0   17       2         3   Monday   Matara    20\n",
       "117           1      1   17       2         3   Monday   Matara    30\n",
       "118           0      0   17       0         5   Sunday   Matara   115\n",
       "119           0      1   18       3         3   Sunday  Gampaha    40\n",
       "\n",
       "[120 rows x 8 columns]"
      ]
     },
     "execution_count": 262,
     "metadata": {},
     "output_type": "execute_result"
    }
   ],
   "source": [
    "data"
   ]
  },
  {
   "cell_type": "code",
   "execution_count": 263,
   "id": "454b65cb",
   "metadata": {},
   "outputs": [
    {
     "data": {
      "text/plain": [
       "0      18\n",
       "5      16\n",
       "202    15\n",
       "9      14\n",
       "11     12\n",
       "8      12\n",
       "4       8\n",
       "1       8\n",
       "2       7\n",
       "3       5\n",
       "7       4\n",
       "6       1\n",
       "Name: time slot, dtype: int64"
      ]
     },
     "execution_count": 263,
     "metadata": {},
     "output_type": "execute_result"
    }
   ],
   "source": [
    "data['time slot'].value_counts()"
   ]
  },
  {
   "cell_type": "code",
   "execution_count": 264,
   "id": "71c5a6c9",
   "metadata": {},
   "outputs": [],
   "source": [
    "data['time slot']=data['time slot'].str.replace('202','10')"
   ]
  },
  {
   "cell_type": "code",
   "execution_count": 265,
   "id": "c85a1070",
   "metadata": {},
   "outputs": [
    {
     "data": {
      "text/plain": [
       "0     18\n",
       "5     16\n",
       "10    15\n",
       "9     14\n",
       "11    12\n",
       "8     12\n",
       "4      8\n",
       "1      8\n",
       "2      7\n",
       "3      5\n",
       "7      4\n",
       "6      1\n",
       "Name: time slot, dtype: int64"
      ]
     },
     "execution_count": 265,
     "metadata": {},
     "output_type": "execute_result"
    }
   ],
   "source": [
    "data['time slot'].value_counts()"
   ]
  },
  {
   "cell_type": "code",
   "execution_count": 266,
   "id": "b4abae66",
   "metadata": {},
   "outputs": [
    {
     "data": {
      "text/plain": [
       "Monday       53\n",
       "Tuesday      19\n",
       "Thursday     16\n",
       "Wednesday    14\n",
       "Friday       13\n",
       "Saturday      3\n",
       "Sunday        2\n",
       "Name: day, dtype: int64"
      ]
     },
     "execution_count": 266,
     "metadata": {},
     "output_type": "execute_result"
    }
   ],
   "source": [
    "data['day'].value_counts()"
   ]
  },
  {
   "cell_type": "code",
   "execution_count": 267,
   "id": "c1f44994",
   "metadata": {},
   "outputs": [],
   "source": [
    "data['day']=data['day'].str.replace('Monday','0')\n",
    "data['day']=data['day'].str.replace('Tuesday','1')\n",
    "data['day']=data['day'].str.replace('Wednesday','2')\n",
    "data['day']=data['day'].str.replace('Thursday','3')\n",
    "data['day']=data['day'].str.replace('Friday','4')\n",
    "data['day']=data['day'].str.replace('Saturday','5')\n",
    "data['day']=data['day'].str.replace('Sunday','6')"
   ]
  },
  {
   "cell_type": "code",
   "execution_count": 268,
   "id": "bbbbf0f5",
   "metadata": {},
   "outputs": [
    {
     "data": {
      "text/plain": [
       "0    53\n",
       "1    19\n",
       "3    16\n",
       "2    14\n",
       "4    13\n",
       "5     3\n",
       "6     2\n",
       "Name: day, dtype: int64"
      ]
     },
     "execution_count": 268,
     "metadata": {},
     "output_type": "execute_result"
    }
   ],
   "source": [
    "data['day'].value_counts()"
   ]
  },
  {
   "cell_type": "code",
   "execution_count": 269,
   "id": "0a84d8dc",
   "metadata": {},
   "outputs": [
    {
     "data": {
      "text/html": [
       "<div>\n",
       "<style scoped>\n",
       "    .dataframe tbody tr th:only-of-type {\n",
       "        vertical-align: middle;\n",
       "    }\n",
       "\n",
       "    .dataframe tbody tr th {\n",
       "        vertical-align: top;\n",
       "    }\n",
       "\n",
       "    .dataframe thead th {\n",
       "        text-align: right;\n",
       "    }\n",
       "</style>\n",
       "<table border=\"1\" class=\"dataframe\">\n",
       "  <thead>\n",
       "    <tr style=\"text-align: right;\">\n",
       "      <th></th>\n",
       "      <th>personality</th>\n",
       "      <th>Gender</th>\n",
       "      <th>age</th>\n",
       "      <th>Subject</th>\n",
       "      <th>time slot</th>\n",
       "      <th>day</th>\n",
       "      <th>City</th>\n",
       "      <th>Time</th>\n",
       "    </tr>\n",
       "  </thead>\n",
       "  <tbody>\n",
       "    <tr>\n",
       "      <th>0</th>\n",
       "      <td>0</td>\n",
       "      <td>0</td>\n",
       "      <td>17</td>\n",
       "      <td>1</td>\n",
       "      <td>0</td>\n",
       "      <td>0</td>\n",
       "      <td>Matara</td>\n",
       "      <td>100</td>\n",
       "    </tr>\n",
       "    <tr>\n",
       "      <th>1</th>\n",
       "      <td>0</td>\n",
       "      <td>1</td>\n",
       "      <td>20</td>\n",
       "      <td>3</td>\n",
       "      <td>0</td>\n",
       "      <td>1</td>\n",
       "      <td>Galle</td>\n",
       "      <td>105</td>\n",
       "    </tr>\n",
       "    <tr>\n",
       "      <th>2</th>\n",
       "      <td>3</td>\n",
       "      <td>1</td>\n",
       "      <td>17</td>\n",
       "      <td>0</td>\n",
       "      <td>11</td>\n",
       "      <td>0</td>\n",
       "      <td>Colombo</td>\n",
       "      <td>100</td>\n",
       "    </tr>\n",
       "    <tr>\n",
       "      <th>3</th>\n",
       "      <td>0</td>\n",
       "      <td>0</td>\n",
       "      <td>18</td>\n",
       "      <td>2</td>\n",
       "      <td>10</td>\n",
       "      <td>4</td>\n",
       "      <td>Galle</td>\n",
       "      <td>105</td>\n",
       "    </tr>\n",
       "    <tr>\n",
       "      <th>4</th>\n",
       "      <td>3</td>\n",
       "      <td>0</td>\n",
       "      <td>19</td>\n",
       "      <td>0</td>\n",
       "      <td>4</td>\n",
       "      <td>1</td>\n",
       "      <td>Gampaha</td>\n",
       "      <td>90</td>\n",
       "    </tr>\n",
       "    <tr>\n",
       "      <th>...</th>\n",
       "      <td>...</td>\n",
       "      <td>...</td>\n",
       "      <td>...</td>\n",
       "      <td>...</td>\n",
       "      <td>...</td>\n",
       "      <td>...</td>\n",
       "      <td>...</td>\n",
       "      <td>...</td>\n",
       "    </tr>\n",
       "    <tr>\n",
       "      <th>115</th>\n",
       "      <td>0</td>\n",
       "      <td>1</td>\n",
       "      <td>18</td>\n",
       "      <td>3</td>\n",
       "      <td>3</td>\n",
       "      <td>1</td>\n",
       "      <td>Matara</td>\n",
       "      <td>0</td>\n",
       "    </tr>\n",
       "    <tr>\n",
       "      <th>116</th>\n",
       "      <td>1</td>\n",
       "      <td>0</td>\n",
       "      <td>17</td>\n",
       "      <td>2</td>\n",
       "      <td>3</td>\n",
       "      <td>0</td>\n",
       "      <td>Matara</td>\n",
       "      <td>20</td>\n",
       "    </tr>\n",
       "    <tr>\n",
       "      <th>117</th>\n",
       "      <td>1</td>\n",
       "      <td>1</td>\n",
       "      <td>17</td>\n",
       "      <td>2</td>\n",
       "      <td>3</td>\n",
       "      <td>0</td>\n",
       "      <td>Matara</td>\n",
       "      <td>30</td>\n",
       "    </tr>\n",
       "    <tr>\n",
       "      <th>118</th>\n",
       "      <td>0</td>\n",
       "      <td>0</td>\n",
       "      <td>17</td>\n",
       "      <td>0</td>\n",
       "      <td>5</td>\n",
       "      <td>6</td>\n",
       "      <td>Matara</td>\n",
       "      <td>115</td>\n",
       "    </tr>\n",
       "    <tr>\n",
       "      <th>119</th>\n",
       "      <td>0</td>\n",
       "      <td>1</td>\n",
       "      <td>18</td>\n",
       "      <td>3</td>\n",
       "      <td>3</td>\n",
       "      <td>6</td>\n",
       "      <td>Gampaha</td>\n",
       "      <td>40</td>\n",
       "    </tr>\n",
       "  </tbody>\n",
       "</table>\n",
       "<p>120 rows × 8 columns</p>\n",
       "</div>"
      ],
      "text/plain": [
       "    personality Gender  age Subject time slot day     City  Time\n",
       "0             0      0   17       1         0   0   Matara   100\n",
       "1             0      1   20       3         0   1    Galle   105\n",
       "2             3      1   17       0        11   0  Colombo   100\n",
       "3             0      0   18       2        10   4    Galle   105\n",
       "4             3      0   19       0         4   1  Gampaha    90\n",
       "..          ...    ...  ...     ...       ...  ..      ...   ...\n",
       "115           0      1   18       3         3   1   Matara     0\n",
       "116           1      0   17       2         3   0   Matara    20\n",
       "117           1      1   17       2         3   0   Matara    30\n",
       "118           0      0   17       0         5   6   Matara   115\n",
       "119           0      1   18       3         3   6  Gampaha    40\n",
       "\n",
       "[120 rows x 8 columns]"
      ]
     },
     "execution_count": 269,
     "metadata": {},
     "output_type": "execute_result"
    }
   ],
   "source": [
    "data"
   ]
  },
  {
   "cell_type": "code",
   "execution_count": 270,
   "id": "d41d6553",
   "metadata": {},
   "outputs": [
    {
     "data": {
      "text/plain": [
       "Gampaha         39\n",
       "Matara          33\n",
       "Galle           11\n",
       "Kurunegala      11\n",
       "Colombo         10\n",
       "Anuradhapura    10\n",
       "Kandy            6\n",
       "Name: City, dtype: int64"
      ]
     },
     "execution_count": 270,
     "metadata": {},
     "output_type": "execute_result"
    }
   ],
   "source": [
    "data['City'].value_counts()"
   ]
  },
  {
   "cell_type": "code",
   "execution_count": 271,
   "id": "33928be9",
   "metadata": {},
   "outputs": [],
   "source": [
    "data['City']=data['City'].str.replace('Gampaha','0')\n",
    "data['City']=data['City'].str.replace('Matara','1')\n",
    "data['City']=data['City'].str.replace('Galle','2')\n",
    "data['City']=data['City'].str.replace('Kurunegala','3')\n",
    "data['City']=data['City'].str.replace('Colombo','4')\n",
    "data['City']=data['City'].str.replace('Anuradhapura','5')\n",
    "data['City']=data['City'].str.replace('Kandy','6')"
   ]
  },
  {
   "cell_type": "code",
   "execution_count": 272,
   "id": "9686f119",
   "metadata": {},
   "outputs": [
    {
     "data": {
      "text/html": [
       "<div>\n",
       "<style scoped>\n",
       "    .dataframe tbody tr th:only-of-type {\n",
       "        vertical-align: middle;\n",
       "    }\n",
       "\n",
       "    .dataframe tbody tr th {\n",
       "        vertical-align: top;\n",
       "    }\n",
       "\n",
       "    .dataframe thead th {\n",
       "        text-align: right;\n",
       "    }\n",
       "</style>\n",
       "<table border=\"1\" class=\"dataframe\">\n",
       "  <thead>\n",
       "    <tr style=\"text-align: right;\">\n",
       "      <th></th>\n",
       "      <th>personality</th>\n",
       "      <th>Gender</th>\n",
       "      <th>age</th>\n",
       "      <th>Subject</th>\n",
       "      <th>time slot</th>\n",
       "      <th>day</th>\n",
       "      <th>City</th>\n",
       "      <th>Time</th>\n",
       "    </tr>\n",
       "  </thead>\n",
       "  <tbody>\n",
       "    <tr>\n",
       "      <th>0</th>\n",
       "      <td>0</td>\n",
       "      <td>0</td>\n",
       "      <td>17</td>\n",
       "      <td>1</td>\n",
       "      <td>0</td>\n",
       "      <td>0</td>\n",
       "      <td>1</td>\n",
       "      <td>100</td>\n",
       "    </tr>\n",
       "    <tr>\n",
       "      <th>1</th>\n",
       "      <td>0</td>\n",
       "      <td>1</td>\n",
       "      <td>20</td>\n",
       "      <td>3</td>\n",
       "      <td>0</td>\n",
       "      <td>1</td>\n",
       "      <td>2</td>\n",
       "      <td>105</td>\n",
       "    </tr>\n",
       "    <tr>\n",
       "      <th>2</th>\n",
       "      <td>3</td>\n",
       "      <td>1</td>\n",
       "      <td>17</td>\n",
       "      <td>0</td>\n",
       "      <td>11</td>\n",
       "      <td>0</td>\n",
       "      <td>4</td>\n",
       "      <td>100</td>\n",
       "    </tr>\n",
       "    <tr>\n",
       "      <th>3</th>\n",
       "      <td>0</td>\n",
       "      <td>0</td>\n",
       "      <td>18</td>\n",
       "      <td>2</td>\n",
       "      <td>10</td>\n",
       "      <td>4</td>\n",
       "      <td>2</td>\n",
       "      <td>105</td>\n",
       "    </tr>\n",
       "    <tr>\n",
       "      <th>4</th>\n",
       "      <td>3</td>\n",
       "      <td>0</td>\n",
       "      <td>19</td>\n",
       "      <td>0</td>\n",
       "      <td>4</td>\n",
       "      <td>1</td>\n",
       "      <td>0</td>\n",
       "      <td>90</td>\n",
       "    </tr>\n",
       "    <tr>\n",
       "      <th>...</th>\n",
       "      <td>...</td>\n",
       "      <td>...</td>\n",
       "      <td>...</td>\n",
       "      <td>...</td>\n",
       "      <td>...</td>\n",
       "      <td>...</td>\n",
       "      <td>...</td>\n",
       "      <td>...</td>\n",
       "    </tr>\n",
       "    <tr>\n",
       "      <th>115</th>\n",
       "      <td>0</td>\n",
       "      <td>1</td>\n",
       "      <td>18</td>\n",
       "      <td>3</td>\n",
       "      <td>3</td>\n",
       "      <td>1</td>\n",
       "      <td>1</td>\n",
       "      <td>0</td>\n",
       "    </tr>\n",
       "    <tr>\n",
       "      <th>116</th>\n",
       "      <td>1</td>\n",
       "      <td>0</td>\n",
       "      <td>17</td>\n",
       "      <td>2</td>\n",
       "      <td>3</td>\n",
       "      <td>0</td>\n",
       "      <td>1</td>\n",
       "      <td>20</td>\n",
       "    </tr>\n",
       "    <tr>\n",
       "      <th>117</th>\n",
       "      <td>1</td>\n",
       "      <td>1</td>\n",
       "      <td>17</td>\n",
       "      <td>2</td>\n",
       "      <td>3</td>\n",
       "      <td>0</td>\n",
       "      <td>1</td>\n",
       "      <td>30</td>\n",
       "    </tr>\n",
       "    <tr>\n",
       "      <th>118</th>\n",
       "      <td>0</td>\n",
       "      <td>0</td>\n",
       "      <td>17</td>\n",
       "      <td>0</td>\n",
       "      <td>5</td>\n",
       "      <td>6</td>\n",
       "      <td>1</td>\n",
       "      <td>115</td>\n",
       "    </tr>\n",
       "    <tr>\n",
       "      <th>119</th>\n",
       "      <td>0</td>\n",
       "      <td>1</td>\n",
       "      <td>18</td>\n",
       "      <td>3</td>\n",
       "      <td>3</td>\n",
       "      <td>6</td>\n",
       "      <td>0</td>\n",
       "      <td>40</td>\n",
       "    </tr>\n",
       "  </tbody>\n",
       "</table>\n",
       "<p>120 rows × 8 columns</p>\n",
       "</div>"
      ],
      "text/plain": [
       "    personality Gender  age Subject time slot day City  Time\n",
       "0             0      0   17       1         0   0    1   100\n",
       "1             0      1   20       3         0   1    2   105\n",
       "2             3      1   17       0        11   0    4   100\n",
       "3             0      0   18       2        10   4    2   105\n",
       "4             3      0   19       0         4   1    0    90\n",
       "..          ...    ...  ...     ...       ...  ..  ...   ...\n",
       "115           0      1   18       3         3   1    1     0\n",
       "116           1      0   17       2         3   0    1    20\n",
       "117           1      1   17       2         3   0    1    30\n",
       "118           0      0   17       0         5   6    1   115\n",
       "119           0      1   18       3         3   6    0    40\n",
       "\n",
       "[120 rows x 8 columns]"
      ]
     },
     "execution_count": 272,
     "metadata": {},
     "output_type": "execute_result"
    }
   ],
   "source": [
    "data"
   ]
  },
  {
   "cell_type": "code",
   "execution_count": 273,
   "id": "4cab99b1",
   "metadata": {},
   "outputs": [
    {
     "data": {
      "text/plain": [
       "<Axes: xlabel='personality', ylabel='Time'>"
      ]
     },
     "execution_count": 273,
     "metadata": {},
     "output_type": "execute_result"
    },
    {
     "data": {
      "image/png": "[encoded data removed]",
      "text/plain": [
       "<Figure size 640x480 with 1 Axes>"
      ]
     },
     "metadata": {},
     "output_type": "display_data"
    }
   ],
   "source": [
    "sns.boxplot(x='personality',y='Time',data=data)"
   ]
  },
  {
   "cell_type": "code",
   "execution_count": 274,
   "id": "aae28267",
   "metadata": {},
   "outputs": [
    {
     "name": "stdout",
     "output_type": "stream",
     "text": [
      "<class 'pandas.core.frame.DataFrame'>\n",
      "RangeIndex: 120 entries, 0 to 119\n",
      "Data columns (total 8 columns):\n",
      " #   Column       Non-Null Count  Dtype \n",
      "---  ------       --------------  ----- \n",
      " 0   personality  120 non-null    object\n",
      " 1   Gender       120 non-null    object\n",
      " 2   age          120 non-null    int64 \n",
      " 3   Subject      120 non-null    object\n",
      " 4   time slot    120 non-null    object\n",
      " 5   day          120 non-null    object\n",
      " 6   City         120 non-null    object\n",
      " 7   Time         120 non-null    int64 \n",
      "dtypes: int64(2), object(6)\n",
      "memory usage: 7.6+ KB\n"
     ]
    }
   ],
   "source": [
    "data.info()"
   ]
  },
  {
   "cell_type": "code",
   "execution_count": 275,
   "id": "e54fbf3b",
   "metadata": {},
   "outputs": [
    {
     "data": {
      "text/plain": [
       "2          36\n",
       "0          35\n",
       "1          32\n",
       "3          16\n",
       "Combine     1\n",
       "Name: Subject, dtype: int64"
      ]
     },
     "execution_count": 275,
     "metadata": {},
     "output_type": "execute_result"
    }
   ],
   "source": [
    "data['Subject'].value_counts()"
   ]
  },
  {
   "cell_type": "code",
   "execution_count": 277,
   "id": "1437b32d",
   "metadata": {},
   "outputs": [],
   "source": [
    "data['personality'] = data['personality'].apply(np.int64)\n",
    "data['Gender'] = data['Gender'].apply(np.int64)\n",
    "data['Subject'] = data['Subject'].apply(np.int64)\n",
    "data['time slot'] = data['time slot'].apply(np.int64)\n",
    "data['day'] = data['day'].apply(np.int64)\n",
    "data['City'] = data['City'].apply(np.int64)"
   ]
  },
  {
   "cell_type": "code",
   "execution_count": 278,
   "id": "2a0a8199",
   "metadata": {},
   "outputs": [],
   "source": [
    "X = data.drop('Time', axis=1)\n",
    "y = data['Time']"
   ]
  },
  {
   "cell_type": "code",
   "execution_count": 279,
   "id": "0035507f",
   "metadata": {},
   "outputs": [],
   "source": [
    "from sklearn.model_selection import train_test_split\n",
    "X_train, X_test, y_train, y_test = train_test_split(X, y, test_size = 0.25)"
   ]
  },
  {
   "cell_type": "code",
   "execution_count": 280,
   "id": "89880f2d",
   "metadata": {},
   "outputs": [
    {
     "data": {
      "text/plain": [
       "((90, 7), (120, 7))"
      ]
     },
     "execution_count": 280,
     "metadata": {},
     "output_type": "execute_result"
    }
   ],
   "source": [
    "X_train.shape, X.shape"
   ]
  },
  {
   "cell_type": "code",
   "execution_count": 281,
   "id": "e3df0cf2",
   "metadata": {},
   "outputs": [
    {
     "data": {
      "text/plain": [
       "8      110\n",
       "14       0\n",
       "65     110\n",
       "50     105\n",
       "38      80\n",
       "      ... \n",
       "19      80\n",
       "88     115\n",
       "9       90\n",
       "100      0\n",
       "45     110\n",
       "Name: Time, Length: 90, dtype: int64"
      ]
     },
     "execution_count": 281,
     "metadata": {},
     "output_type": "execute_result"
    }
   ],
   "source": [
    "y_train"
   ]
  },
  {
   "cell_type": "code",
   "execution_count": 282,
   "id": "d9ff37a5",
   "metadata": {},
   "outputs": [],
   "source": [
    "def model_acc(model):\n",
    "    model.fit(X_train, y_train)\n",
    "    acc = model.score(X_test, y_test)\n",
    "    print(str(model)+ ' --> ' +str(acc))"
   ]
  },
  {
   "cell_type": "code",
   "execution_count": 283,
   "id": "1fd41bde",
   "metadata": {},
   "outputs": [
    {
     "name": "stdout",
     "output_type": "stream",
     "text": [
      "LinearRegression() --> 0.10733119884383857\n",
      "Lasso() --> 0.1332750037699314\n",
      "DecisionTreeRegressor() --> -0.7087824984147113\n",
      "RandomForestRegressor() --> 0.3309935795814838\n"
     ]
    }
   ],
   "source": [
    "from sklearn.linear_model import LinearRegression\n",
    "lr = LinearRegression()\n",
    "model_acc(lr)\n",
    "\n",
    "from sklearn.linear_model import Lasso\n",
    "lasso = Lasso()\n",
    "model_acc(lasso)\n",
    "\n",
    "from sklearn.tree import DecisionTreeRegressor\n",
    "dt = DecisionTreeRegressor()\n",
    "model_acc(dt)\n",
    "\n",
    "from sklearn.ensemble import RandomForestRegressor\n",
    "rf = RandomForestRegressor()\n",
    "model_acc(rf)"
   ]
  },
  {
   "cell_type": "code",
   "execution_count": 284,
   "id": "536576b3",
   "metadata": {},
   "outputs": [
    {
     "data": {
      "text/plain": [
       "0.3456971464806594"
      ]
     },
     "execution_count": 284,
     "metadata": {},
     "output_type": "execute_result"
    }
   ],
   "source": [
    "reg = rf.fit(X_train, y_train)\n",
    "\n",
    "reg.score(X_test, y_test)"
   ]
  },
  {
   "cell_type": "code",
   "execution_count": 285,
   "id": "c5cebd70",
   "metadata": {},
   "outputs": [],
   "source": [
    "import pickle\n",
    "# save model to file\n",
    "pickle.dump(reg, open(\"timetable_model.dat\", \"wb\"))"
   ]
  },
  {
   "cell_type": "code",
   "execution_count": 291,
   "id": "a0e58126",
   "metadata": {},
   "outputs": [
    {
     "data": {
      "text/html": [
       "<div>\n",
       "<style scoped>\n",
       "    .dataframe tbody tr th:only-of-type {\n",
       "        vertical-align: middle;\n",
       "    }\n",
       "\n",
       "    .dataframe tbody tr th {\n",
       "        vertical-align: top;\n",
       "    }\n",
       "\n",
       "    .dataframe thead th {\n",
       "        text-align: right;\n",
       "    }\n",
       "</style>\n",
       "<table border=\"1\" class=\"dataframe\">\n",
       "  <thead>\n",
       "    <tr style=\"text-align: right;\">\n",
       "      <th></th>\n",
       "      <th>personality</th>\n",
       "      <th>Gender</th>\n",
       "      <th>age</th>\n",
       "      <th>Subject</th>\n",
       "      <th>time slot</th>\n",
       "      <th>day</th>\n",
       "      <th>City</th>\n",
       "      <th>Time</th>\n",
       "    </tr>\n",
       "  </thead>\n",
       "  <tbody>\n",
       "    <tr>\n",
       "      <th>0</th>\n",
       "      <td>0</td>\n",
       "      <td>0</td>\n",
       "      <td>17</td>\n",
       "      <td>1</td>\n",
       "      <td>0</td>\n",
       "      <td>0</td>\n",
       "      <td>1</td>\n",
       "      <td>100</td>\n",
       "    </tr>\n",
       "    <tr>\n",
       "      <th>1</th>\n",
       "      <td>0</td>\n",
       "      <td>1</td>\n",
       "      <td>20</td>\n",
       "      <td>3</td>\n",
       "      <td>0</td>\n",
       "      <td>1</td>\n",
       "      <td>2</td>\n",
       "      <td>105</td>\n",
       "    </tr>\n",
       "    <tr>\n",
       "      <th>2</th>\n",
       "      <td>3</td>\n",
       "      <td>1</td>\n",
       "      <td>17</td>\n",
       "      <td>0</td>\n",
       "      <td>11</td>\n",
       "      <td>0</td>\n",
       "      <td>4</td>\n",
       "      <td>100</td>\n",
       "    </tr>\n",
       "    <tr>\n",
       "      <th>3</th>\n",
       "      <td>0</td>\n",
       "      <td>0</td>\n",
       "      <td>18</td>\n",
       "      <td>2</td>\n",
       "      <td>10</td>\n",
       "      <td>4</td>\n",
       "      <td>2</td>\n",
       "      <td>105</td>\n",
       "    </tr>\n",
       "    <tr>\n",
       "      <th>4</th>\n",
       "      <td>3</td>\n",
       "      <td>0</td>\n",
       "      <td>19</td>\n",
       "      <td>0</td>\n",
       "      <td>4</td>\n",
       "      <td>1</td>\n",
       "      <td>0</td>\n",
       "      <td>90</td>\n",
       "    </tr>\n",
       "    <tr>\n",
       "      <th>...</th>\n",
       "      <td>...</td>\n",
       "      <td>...</td>\n",
       "      <td>...</td>\n",
       "      <td>...</td>\n",
       "      <td>...</td>\n",
       "      <td>...</td>\n",
       "      <td>...</td>\n",
       "      <td>...</td>\n",
       "    </tr>\n",
       "    <tr>\n",
       "      <th>115</th>\n",
       "      <td>0</td>\n",
       "      <td>1</td>\n",
       "      <td>18</td>\n",
       "      <td>3</td>\n",
       "      <td>3</td>\n",
       "      <td>1</td>\n",
       "      <td>1</td>\n",
       "      <td>0</td>\n",
       "    </tr>\n",
       "    <tr>\n",
       "      <th>116</th>\n",
       "      <td>1</td>\n",
       "      <td>0</td>\n",
       "      <td>17</td>\n",
       "      <td>2</td>\n",
       "      <td>3</td>\n",
       "      <td>0</td>\n",
       "      <td>1</td>\n",
       "      <td>20</td>\n",
       "    </tr>\n",
       "    <tr>\n",
       "      <th>117</th>\n",
       "      <td>1</td>\n",
       "      <td>1</td>\n",
       "      <td>17</td>\n",
       "      <td>2</td>\n",
       "      <td>3</td>\n",
       "      <td>0</td>\n",
       "      <td>1</td>\n",
       "      <td>30</td>\n",
       "    </tr>\n",
       "    <tr>\n",
       "      <th>118</th>\n",
       "      <td>0</td>\n",
       "      <td>0</td>\n",
       "      <td>17</td>\n",
       "      <td>0</td>\n",
       "      <td>5</td>\n",
       "      <td>6</td>\n",
       "      <td>1</td>\n",
       "      <td>115</td>\n",
       "    </tr>\n",
       "    <tr>\n",
       "      <th>119</th>\n",
       "      <td>0</td>\n",
       "      <td>1</td>\n",
       "      <td>18</td>\n",
       "      <td>3</td>\n",
       "      <td>3</td>\n",
       "      <td>6</td>\n",
       "      <td>0</td>\n",
       "      <td>40</td>\n",
       "    </tr>\n",
       "  </tbody>\n",
       "</table>\n",
       "<p>120 rows × 8 columns</p>\n",
       "</div>"
      ],
      "text/plain": [
       "     personality  Gender  age  Subject  time slot  day  City  Time\n",
       "0              0       0   17        1          0    0     1   100\n",
       "1              0       1   20        3          0    1     2   105\n",
       "2              3       1   17        0         11    0     4   100\n",
       "3              0       0   18        2         10    4     2   105\n",
       "4              3       0   19        0          4    1     0    90\n",
       "..           ...     ...  ...      ...        ...  ...   ...   ...\n",
       "115            0       1   18        3          3    1     1     0\n",
       "116            1       0   17        2          3    0     1    20\n",
       "117            1       1   17        2          3    0     1    30\n",
       "118            0       0   17        0          5    6     1   115\n",
       "119            0       1   18        3          3    6     0    40\n",
       "\n",
       "[120 rows x 8 columns]"
      ]
     },
     "execution_count": 291,
     "metadata": {},
     "output_type": "execute_result"
    }
   ],
   "source": [
    "data"
   ]
  },
  {
   "cell_type": "code",
   "execution_count": 293,
   "id": "504addb4",
   "metadata": {},
   "outputs": [
    {
     "name": "stderr",
     "output_type": "stream",
     "text": [
      "C:\\ProgramData\\Anaconda3\\lib\\site-packages\\sklearn\\base.py:420: UserWarning: X does not have valid feature names, but RandomForestRegressor was fitted with feature names\n",
      "  warnings.warn(\n"
     ]
    },
    {
     "data": {
      "text/plain": [
       "57"
      ]
     },
     "execution_count": 293,
     "metadata": {},
     "output_type": "execute_result"
    }
   ],
   "source": [
    "import math\n",
    "int(np.round(reg.predict([[1,1,18,1,0,4,1]]),0))"
   ]
  },
  {
   "cell_type": "code",
   "execution_count": 287,
   "id": "57918902",
   "metadata": {},
   "outputs": [],
   "source": [
    "predict=np.round(reg.predict(X_test))"
   ]
  },
  {
   "cell_type": "code",
   "execution_count": 288,
   "id": "529d900f",
   "metadata": {},
   "outputs": [
    {
     "name": "stdout",
     "output_type": "stream",
     "text": [
      "<class 'numpy.ndarray'>\n",
      "<class 'pandas.core.series.Series'>\n"
     ]
    },
    {
     "data": {
      "image/png": "[encoded data removed]",
      "text/plain": [
       "<Figure size 1600x500 with 1 Axes>"
      ]
     },
     "metadata": {},
     "output_type": "display_data"
    }
   ],
   "source": [
    "A = np.array(y_test).reshape(-1, 1)\n",
    "B = predict.reshape(-1, 1)\n",
    "print(type(predict))\n",
    "print(type(y_test))\n",
    "plt.rcParams['figure.figsize'] = 16,5\n",
    "plt.figure()\n",
    "plt.plot(A[-100:], label=\"Real\")\n",
    "plt.plot(B[-100:], label=\"Predicted\")\n",
    "plt.legend()\n",
    "plt.title(\"Result : real vs predicted\")\n",
    "plt.ylabel(\"Result\")\n",
    "plt.xticks(())\n",
    "plt.show()"
   ]
  },
  {
   "cell_type": "code",
   "execution_count": 289,
   "id": "19ab9538",
   "metadata": {},
   "outputs": [
    {
     "data": {
      "text/plain": [
       "array([104.25,  53.45, 102.5 ,  90.35,  15.65, 103.25,  95.65,  53.55,\n",
       "        59.7 ,  96.7 ,  24.5 ,  61.  ,  72.15,  91.2 ,  94.45, 102.7 ,\n",
       "       103.05, 100.3 ,  53.7 ,  94.7 ,  91.55,  86.45,  97.1 ,  95.55,\n",
       "        36.1 ,  91.3 ,  95.1 ,  78.55,  38.25,  41.35])"
      ]
     },
     "execution_count": 289,
     "metadata": {},
     "output_type": "execute_result"
    }
   ],
   "source": [
    "reg.predict(X_test)"
   ]
  },
  {
   "cell_type": "code",
   "execution_count": 290,
   "id": "c970b4de",
   "metadata": {},
   "outputs": [],
   "source": [
    "with open('timetable_model.dat' , 'rb') as f:\n",
    "    model = pickle.load(f)"
   ]
  },
  {
   "cell_type": "code",
   "execution_count": 297,
   "id": "dd59bbf4",
   "metadata": {},
   "outputs": [
    {
     "name": "stderr",
     "output_type": "stream",
     "text": [
      "C:\\ProgramData\\Anaconda3\\lib\\site-packages\\sklearn\\base.py:420: UserWarning: X does not have valid feature names, but RandomForestRegressor was fitted with feature names\n",
      "  warnings.warn(\n"
     ]
    },
    {
     "data": {
      "text/plain": [
       "57"
      ]
     },
     "execution_count": 297,
     "metadata": {},
     "output_type": "execute_result"
    }
   ],
   "source": [
    "math.ceil(model.predict([[1,1,18,1,0,4,1]]))"
   ]
  },
  {
   "cell_type": "code",
   "execution_count": null,
   "id": "9db2fb4e",
   "metadata": {},
   "outputs": [],
   "source": []
  }
 ],
 "metadata": {
  "kernelspec": {
   "display_name": "Python 3",
   "language": "python",
   "name": "python3"
  },
  "language_info": {
   "codemirror_mode": {
    "name": "ipython",
    "version": 3
   },
   "file_extension": ".py",
   "mimetype": "text/x-python",
   "name": "python",
   "nbconvert_exporter": "python",
   "pygments_lexer": "ipython3",
   "version": "3.10.9"
  }
 },
 "nbformat": 4,
 "nbformat_minor": 5
}
